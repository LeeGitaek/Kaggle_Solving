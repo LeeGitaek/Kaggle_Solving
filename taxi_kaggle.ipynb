{
  "nbformat": 4,
  "nbformat_minor": 0,
  "metadata": {
    "colab": {
      "name": "taxi_kaggle.ipynb",
      "provenance": [],
      "authorship_tag": "ABX9TyMSriPa0QVrR/r2gf3Qgxb3",
      "include_colab_link": true
    },
    "kernelspec": {
      "name": "python3",
      "display_name": "Python 3"
    },
    "accelerator": "GPU"
  },
  "cells": [
    {
      "cell_type": "markdown",
      "metadata": {
        "id": "view-in-github",
        "colab_type": "text"
      },
      "source": [
        "<a href=\"https://colab.research.google.com/github/LeeGitaek/Kaggle_Solving/blob/master/taxi_kaggle.ipynb\" target=\"_parent\"><img src=\"https://colab.research.google.com/assets/colab-badge.svg\" alt=\"Open In Colab\"/></a>"
      ]
    },
    {
      "cell_type": "code",
      "metadata": {
        "id": "--WbMzatocfX",
        "colab_type": "code",
        "colab": {
          "base_uri": "https://localhost:8080/",
          "height": 547
        },
        "outputId": "0d041dcd-a058-4232-c6cb-f1a2b2917f17"
      },
      "source": [
        "!pip uninstall --y kaggle\n",
        "!pip install --upgrade pip\n",
        "!pip install kaggle"
      ],
      "execution_count": 1,
      "outputs": [
        {
          "output_type": "stream",
          "text": [
            "Uninstalling kaggle-1.5.6:\n",
            "  Successfully uninstalled kaggle-1.5.6\n",
            "Collecting pip\n",
            "\u001b[?25l  Downloading https://files.pythonhosted.org/packages/43/84/23ed6a1796480a6f1a2d38f2802901d078266bda38388954d01d3f2e821d/pip-20.1.1-py2.py3-none-any.whl (1.5MB)\n",
            "\u001b[K     |████████████████████████████████| 1.5MB 8.0MB/s \n",
            "\u001b[?25hInstalling collected packages: pip\n",
            "  Found existing installation: pip 19.3.1\n",
            "    Uninstalling pip-19.3.1:\n",
            "      Successfully uninstalled pip-19.3.1\n",
            "Successfully installed pip-20.1.1\n",
            "Collecting kaggle\n",
            "  Downloading kaggle-1.5.6.tar.gz (58 kB)\n",
            "\u001b[K     |████████████████████████████████| 58 kB 3.8 MB/s \n",
            "\u001b[?25hRequirement already satisfied: urllib3<1.25,>=1.21.1 in /usr/local/lib/python3.6/dist-packages (from kaggle) (1.24.3)\n",
            "Requirement already satisfied: six>=1.10 in /usr/local/lib/python3.6/dist-packages (from kaggle) (1.12.0)\n",
            "Requirement already satisfied: certifi in /usr/local/lib/python3.6/dist-packages (from kaggle) (2020.6.20)\n",
            "Requirement already satisfied: python-dateutil in /usr/local/lib/python3.6/dist-packages (from kaggle) (2.8.1)\n",
            "Requirement already satisfied: requests in /usr/local/lib/python3.6/dist-packages (from kaggle) (2.23.0)\n",
            "Requirement already satisfied: tqdm in /usr/local/lib/python3.6/dist-packages (from kaggle) (4.41.1)\n",
            "Requirement already satisfied: python-slugify in /usr/local/lib/python3.6/dist-packages (from kaggle) (4.0.0)\n",
            "Requirement already satisfied: idna<3,>=2.5 in /usr/local/lib/python3.6/dist-packages (from requests->kaggle) (2.9)\n",
            "Requirement already satisfied: chardet<4,>=3.0.2 in /usr/local/lib/python3.6/dist-packages (from requests->kaggle) (3.0.4)\n",
            "Requirement already satisfied: text-unidecode>=1.3 in /usr/local/lib/python3.6/dist-packages (from python-slugify->kaggle) (1.3)\n",
            "Building wheels for collected packages: kaggle\n",
            "  Building wheel for kaggle (setup.py) ... \u001b[?25l\u001b[?25hdone\n",
            "  Created wheel for kaggle: filename=kaggle-1.5.6-py3-none-any.whl size=72859 sha256=4292ef98160fab928ed6bf79ce24d71cdc96521d72c32ef796432c7c3f2bae91\n",
            "  Stored in directory: /root/.cache/pip/wheels/01/3e/ff/77407ebac3ef71a79b9166a8382aecf88415a0bcbe3c095a01\n",
            "Successfully built kaggle\n",
            "Installing collected packages: kaggle\n",
            "Successfully installed kaggle-1.5.6\n"
          ],
          "name": "stdout"
        }
      ]
    },
    {
      "cell_type": "code",
      "metadata": {
        "id": "wuhv-po7om11",
        "colab_type": "code",
        "colab": {
          "base_uri": "https://localhost:8080/",
          "height": 34
        },
        "outputId": "b396ca93-a3fc-4573-da6e-bc729c0e151d"
      },
      "source": [
        "!mkdir -p ~/.kaggle\n",
        "!cp kaggle.json ~/.kaggle\n",
        "!ls -lha kaggle.json\n",
        "!chmod 600 ~/.kaggle/kaggle.json"
      ],
      "execution_count": 2,
      "outputs": [
        {
          "output_type": "stream",
          "text": [
            "-rw-r--r-- 1 root root 68 Jun 27 19:42 kaggle.json\n"
          ],
          "name": "stdout"
        }
      ]
    },
    {
      "cell_type": "code",
      "metadata": {
        "id": "0vQLu5MfpAyx",
        "colab_type": "code",
        "colab": {
          "base_uri": "https://localhost:8080/",
          "height": 68
        },
        "outputId": "58cfbfb2-f2f2-4556-bd5f-1be2d7a76f8a"
      },
      "source": [
        "! kaggle competitions download -c taxi"
      ],
      "execution_count": 3,
      "outputs": [
        {
          "output_type": "stream",
          "text": [
            "Downloading taxi.zip to /content\n",
            "\r  0% 0.00/60.8k [00:00<?, ?B/s]\n",
            "\r100% 60.8k/60.8k [00:00<00:00, 46.9MB/s]\n"
          ],
          "name": "stdout"
        }
      ]
    },
    {
      "cell_type": "code",
      "metadata": {
        "id": "6MbS4_FLpHTf",
        "colab_type": "code",
        "colab": {
          "base_uri": "https://localhost:8080/",
          "height": 85
        },
        "outputId": "76213b9d-2c70-4d78-ec70-8d23c3548100"
      },
      "source": [
        "!unzip taxi.zip"
      ],
      "execution_count": 4,
      "outputs": [
        {
          "output_type": "stream",
          "text": [
            "Archive:  taxi.zip\n",
            "  inflating: submission_form.csv     \n",
            "  inflating: test.csv                \n",
            "  inflating: train.csv               \n"
          ],
          "name": "stdout"
        }
      ]
    },
    {
      "cell_type": "code",
      "metadata": {
        "id": "epLMxWKWpLeJ",
        "colab_type": "code",
        "colab": {}
      },
      "source": [
        "import torch\n",
        "import torch.nn.functional as F\n",
        "import torch.nn as nn\n",
        "import torch.optim as optim\n",
        "import random\n",
        "import numpy as np\n",
        "import pandas as pd\n",
        "from sklearn.preprocessing import MinMaxScaler\n",
        "from sklearn.ensemble import RandomForestClassifier"
      ],
      "execution_count": 142,
      "outputs": []
    },
    {
      "cell_type": "code",
      "metadata": {
        "id": "MX3MbPExpNKt",
        "colab_type": "code",
        "colab": {}
      },
      "source": [
        "device = 'cuda' if torch.cuda.is_available() else 'cpu'\n",
        "\n",
        "random.seed(777)\n",
        "torch.manual_seed(777)\n",
        "if device == 'cuda':\n",
        "      torch.cuda.manual_seed_all(777)"
      ],
      "execution_count": 143,
      "outputs": []
    },
    {
      "cell_type": "code",
      "metadata": {
        "id": "4DYeWRaypat6",
        "colab_type": "code",
        "colab": {}
      },
      "source": [
        "train = pd.read_csv('train.csv')\n",
        "test = pd.read_csv('test.csv')"
      ],
      "execution_count": 144,
      "outputs": []
    },
    {
      "cell_type": "code",
      "metadata": {
        "id": "oTfWAJvypl8c",
        "colab_type": "code",
        "colab": {}
      },
      "source": [
        "cab_type = {\"Uber\":0, \"Lyft\":1}\n",
        "\n",
        "train['cab_type']= train['cab_type'].map(cab_type)\n",
        "test['cab_type']= test['cab_type'].map(cab_type)"
      ],
      "execution_count": 145,
      "outputs": []
    },
    {
      "cell_type": "code",
      "metadata": {
        "id": "cJMq3PHhpqgW",
        "colab_type": "code",
        "colab": {}
      },
      "source": [
        "summary_mapping = {\" Clear \":0,\" Drizzle \":1,\" Foggy \":2,\" Light Rain \":3,\" Mostly Cloudy \":4,\" Overcast \":5,\" Partly Cloudy \":6,\" Possible Drizzle \":7,\" Rain \":8}\n",
        "\n",
        "train['short_summary'] = train['short_summary'].map(summary_mapping)\n",
        "test['short_summary'] = test['short_summary'].map(summary_mapping)"
      ],
      "execution_count": 146,
      "outputs": []
    },
    {
      "cell_type": "code",
      "metadata": {
        "id": "1blyuNVWpuDy",
        "colab_type": "code",
        "colab": {}
      },
      "source": [
        "icon_mapping = {\" clear-day \":0,\" clear-night \":1,\" cloudy \":2,\" fog \":3,\" partly-cloudy-day \":4,\" partly-cloudy-night \":5,\" rain \":6}\n",
        "\n",
        "train['icon'] = train['icon'].map(icon_mapping)\n",
        "test['icon'] = test['icon'].map(icon_mapping)"
      ],
      "execution_count": 147,
      "outputs": []
    },
    {
      "cell_type": "code",
      "metadata": {
        "id": "cXFmtpvkpv2A",
        "colab_type": "code",
        "colab": {
          "base_uri": "https://localhost:8080/",
          "height": 391
        },
        "outputId": "99eb506b-283f-468f-aa37-7d21b80f468a"
      },
      "source": [
        "x_data = train.loc[0:,\"cab_type\":\"precipIntensityMax\"]\n",
        "y_data = train.loc[0:,\"price\"]\n",
        "\n",
        "x_data = np.array(x_data)\n",
        "y_data = np.array(y_data)\n",
        "scaler = MinMaxScaler()\n",
        "\n",
        "x_data = scaler.fit_transform(x_data)\n",
        "x_train = torch.FloatTensor(x_data).to(device)\n",
        "y_train = torch.FloatTensor(y_data).to(device).reshape(-1,1)\n",
        "\n",
        "print(x_train[:5])\n",
        "print(x_train.shape)\n",
        "print(y_train[:5])\n",
        "print(y_train.shape)"
      ],
      "execution_count": 148,
      "outputs": [
        {
          "output_type": "stream",
          "text": [
            "tensor([[0.0000, 0.3059, 0.0000, 0.7150, 0.7110, 0.3750, 0.1990, 0.9400, 0.9138,\n",
            "         0.2811, 0.1391, 0.2777, 1.0000, 0.8546, 0.0042, 1.0000, 0.0000, 0.4073,\n",
            "         0.9733],\n",
            "        [0.0000, 0.3059, 0.0000, 0.9321, 0.9423, 0.6250, 0.0000, 0.0000, 0.2241,\n",
            "         0.7333, 0.4845, 1.0000, 0.3333, 0.7053, 0.2332, 0.9800, 0.5000, 0.3626,\n",
            "         0.0034],\n",
            "        [0.0000, 0.3869, 0.0000, 0.3383, 0.3482, 0.5000, 0.0000, 0.0000, 0.7586,\n",
            "         0.2502, 0.1221, 0.9663, 0.8333, 0.4883, 0.6702, 0.5200, 0.0000, 0.1233,\n",
            "         0.0000],\n",
            "        [0.0000, 0.3869, 0.0000, 0.4962, 0.4387, 0.5000, 0.0000, 0.0000, 0.5690,\n",
            "         0.5381, 0.4382, 0.9980, 0.8333, 0.5408, 0.1955, 0.7500, 0.0000, 0.7260,\n",
            "         0.0000],\n",
            "        [0.0000, 0.3869, 0.0000, 0.6990, 0.7443, 0.2500, 0.0000, 0.0000, 0.9828,\n",
            "         0.0412, 0.0068, 0.0000, 0.5000, 0.8637, 0.2676, 1.0000, 0.0000, 0.2283,\n",
            "         0.0027]], device='cuda:0')\n",
            "torch.Size([2809, 19])\n",
            "tensor([[32.5000],\n",
            "        [11.0000],\n",
            "        [27.0000],\n",
            "        [12.0000],\n",
            "        [18.5000]], device='cuda:0')\n",
            "torch.Size([2809, 1])\n"
          ],
          "name": "stdout"
        }
      ]
    },
    {
      "cell_type": "code",
      "metadata": {
        "id": "bnmhcmD2pySo",
        "colab_type": "code",
        "colab": {
          "base_uri": "https://localhost:8080/",
          "height": 170
        },
        "outputId": "b8700489-d06a-4d81-e9eb-197d9256af0d"
      },
      "source": [
        "x_test = test.loc[0:,\"cab_type\":]\n",
        "x_test = np.array(x_test)\n",
        "x_test = scaler.transform(x_test)\n",
        "x_test = torch.FloatTensor(x_test).to(device)\n",
        "\n",
        "x_test[:3]"
      ],
      "execution_count": 149,
      "outputs": [
        {
          "output_type": "execute_result",
          "data": {
            "text/plain": [
              "tensor([[1.0000, 0.0196, 0.0000, 0.6116, 0.5542, 0.5000, 0.0000, 0.0000, 0.5172,\n",
              "         0.5643, 0.3146, 1.0000, 0.8333, 0.6117, 0.7141, 0.7200, 0.0000, 0.3142,\n",
              "         0.8746],\n",
              "        [1.0000, 0.0196, 0.0000, 0.6440, 0.5593, 1.0000, 0.8977, 1.0000, 0.9655,\n",
              "         0.7924, 0.4212, 0.4383, 1.0000, 0.8090, 0.3346, 1.0000, 0.0000, 0.1982,\n",
              "         0.8910],\n",
              "        [1.0000, 0.0196, 0.0000, 0.5069, 0.4613, 0.0000, 0.0000, 0.0000, 0.6379,\n",
              "         0.4729, 0.2449, 1.0000, 0.1667, 0.5771, 0.0883, 0.0300, 0.0000, 0.4228,\n",
              "         0.7293]], device='cuda:0')"
            ]
          },
          "metadata": {
            "tags": []
          },
          "execution_count": 149
        }
      ]
    },
    {
      "cell_type": "code",
      "metadata": {
        "id": "hjG6HFKvp0Ol",
        "colab_type": "code",
        "colab": {}
      },
      "source": [
        "learning_rate = 1e-4\n",
        "training_epochs = 1000\n",
        "batch_size = 100"
      ],
      "execution_count": 225,
      "outputs": []
    },
    {
      "cell_type": "code",
      "metadata": {
        "id": "mDMdtAIlp2RO",
        "colab_type": "code",
        "colab": {}
      },
      "source": [
        "train_dataset = torch.utils.data.TensorDataset(x_train, y_train)\n",
        "\n",
        "data_loader = torch.utils.data.DataLoader(dataset=train_dataset,\n",
        "                                          batch_size=batch_size,\n",
        "                                          shuffle=True,\n",
        "                                          drop_last=True)"
      ],
      "execution_count": 226,
      "outputs": []
    },
    {
      "cell_type": "code",
      "metadata": {
        "id": "18Y5RR_oTZ0C",
        "colab_type": "code",
        "colab": {}
      },
      "source": [
        "class MishFunction(torch.autograd.Function):\n",
        "    @staticmethod\n",
        "    def forward(ctx, x):\n",
        "        ctx.save_for_backward(x)\n",
        "        return x * torch.tanh(F.softplus(x))   # x * tanh(ln(1 + exp(x)))\n",
        "\n",
        "    @staticmethod\n",
        "    def backward(ctx, grad_output):\n",
        "        x = ctx.saved_variables[0]\n",
        "        sigmoid = torch.sigmoid(x)\n",
        "        tanh_sp = torch.tanh(F.softplus(x)) \n",
        "        return grad_output * (tanh_sp + x * sigmoid * (1 - tanh_sp * tanh_sp))\n",
        "\n",
        "class Mish(nn.Module):\n",
        "    def forward(self, x):\n",
        "        return MishFunction.apply(x)\n",
        "\n",
        "def to_Mish(model):\n",
        "    for child_name, child in model.named_children():\n",
        "        if isinstance(child, nn.ReLU):\n",
        "            setattr(model, child_name, Mish())\n",
        "        else:\n",
        "            to_Mish(child)"
      ],
      "execution_count": 227,
      "outputs": []
    },
    {
      "cell_type": "code",
      "metadata": {
        "id": "hkN2K_Wup3vX",
        "colab_type": "code",
        "colab": {}
      },
      "source": [
        "linear1 = torch.nn.Linear(19, 256, bias=True)\n",
        "linear2 = torch.nn.Linear(256, 256, bias=True)\n",
        "linear3 = torch.nn.Linear(256, 256, bias=True)\n",
        "linear4 = torch.nn.Linear(256, 512, bias=True)\n",
        "linear5 = torch.nn.Linear(512, 1024, bias=True)\n",
        "linear6 = torch.nn.Linear(1024, 1024, bias=True)\n",
        "linear7 = torch.nn.Linear(1024, 512, bias=True)\n",
        "linear8 = torch.nn.Linear(512, 512, bias=True)\n",
        "linear9 = torch.nn.Linear(512, 256, bias=True)\n",
        "linear10 = torch.nn.Linear(256, 256, bias=True)\n",
        "linear11 = torch.nn.Linear(256, 128, bias=True)\n",
        "linear12 = torch.nn.Linear(128, 128, bias=True)\n",
        "linear13 = torch.nn.Linear(128, 1, bias=True)\n",
        "dropout=torch.nn.Dropout(p=0.4)\n",
        "mish= Mish()\n"
      ],
      "execution_count": 228,
      "outputs": []
    },
    {
      "cell_type": "code",
      "metadata": {
        "id": "SgJqPzlIp52S",
        "colab_type": "code",
        "colab": {
          "base_uri": "https://localhost:8080/",
          "height": 323
        },
        "outputId": "fa1052f8-3696-4393-b7cf-e32d7556d5e5"
      },
      "source": [
        "torch.nn.init.kaiming_normal_(linear1.weight)\n",
        "torch.nn.init.kaiming_normal_(linear2.weight)\n",
        "torch.nn.init.xavier_uniform_(linear3.weight)\n",
        "torch.nn.init.kaiming_normal_(linear4.weight)\n",
        "torch.nn.init.xavier_uniform_(linear5.weight)\n",
        "torch.nn.init.kaiming_normal_(linear6.weight)\n",
        "torch.nn.init.kaiming_normal_(linear7.weight)\n",
        "torch.nn.init.kaiming_normal_(linear8.weight)\n",
        "torch.nn.init.xavier_uniform_(linear9.weight)\n",
        "torch.nn.init.kaiming_normal_(linear10.weight)\n",
        "torch.nn.init.xavier_uniform_(linear11.weight)\n",
        "torch.nn.init.kaiming_normal_(linear12.weight)\n",
        "torch.nn.init.kaiming_normal_(linear13.weight)\n"
      ],
      "execution_count": 229,
      "outputs": [
        {
          "output_type": "execute_result",
          "data": {
            "text/plain": [
              "Parameter containing:\n",
              "tensor([[ 0.0045,  0.1810,  0.0268, -0.0378,  0.0770,  0.0471,  0.1040,  0.0800,\n",
              "         -0.2117,  0.0954, -0.1214, -0.0439, -0.0461, -0.0468, -0.2862,  0.1652,\n",
              "         -0.0480, -0.0602, -0.1216,  0.2009,  0.1046, -0.0256,  0.1502,  0.1451,\n",
              "          0.1230, -0.0198,  0.0177, -0.0731, -0.0564,  0.0462,  0.0531, -0.0522,\n",
              "          0.0185,  0.1019,  0.0822,  0.1456, -0.1195, -0.2015,  0.0491, -0.0621,\n",
              "          0.0666, -0.0289, -0.2149,  0.0757, -0.0337, -0.0558,  0.1716, -0.1890,\n",
              "         -0.2752, -0.1679,  0.0774,  0.1613,  0.1139, -0.0601,  0.0256, -0.1112,\n",
              "          0.1489, -0.1403, -0.0771, -0.0233,  0.0298,  0.1769,  0.0322,  0.1476,\n",
              "         -0.0142, -0.2309,  0.0298,  0.0532, -0.0825,  0.2086, -0.1335,  0.0838,\n",
              "          0.1716, -0.1121, -0.0728,  0.0070, -0.1245, -0.1031, -0.1335, -0.0967,\n",
              "         -0.1015, -0.0047,  0.0952, -0.0870, -0.0472,  0.0655,  0.0310,  0.0071,\n",
              "          0.0064, -0.0121, -0.2491, -0.0702,  0.0664, -0.0485,  0.0254,  0.0053,\n",
              "          0.1574,  0.2647,  0.0370,  0.0592, -0.2084,  0.1116, -0.1571, -0.1374,\n",
              "         -0.1025, -0.0495, -0.0239,  0.0298,  0.1297,  0.1416,  0.0382,  0.2131,\n",
              "          0.0241,  0.1149,  0.1359, -0.0419,  0.0685, -0.0963, -0.0776, -0.0131,\n",
              "          0.1014, -0.0587,  0.2043, -0.1401,  0.2721, -0.2643,  0.1221, -0.0275]],\n",
              "       requires_grad=True)"
            ]
          },
          "metadata": {
            "tags": []
          },
          "execution_count": 229
        }
      ]
    },
    {
      "cell_type": "code",
      "metadata": {
        "id": "xwz0z004p8Do",
        "colab_type": "code",
        "colab": {}
      },
      "source": [
        "model = torch.nn.Sequential(linear1,mish,dropout,\n",
        "                            linear2,mish,dropout,\n",
        "                            linear3,mish,dropout,\n",
        "                            linear4,mish,dropout,\n",
        "                            linear5,mish,dropout,\n",
        "                            linear6,mish,dropout,\n",
        "                            linear7,mish,dropout,\n",
        "                            linear8,mish,dropout,\n",
        "                            linear9,mish,dropout,\n",
        "                            linear10,mish,dropout,\n",
        "                            linear11,mish,dropout,\n",
        "                            linear12,mish,dropout,\n",
        "                            linear13).to(device)"
      ],
      "execution_count": 230,
      "outputs": []
    },
    {
      "cell_type": "code",
      "metadata": {
        "id": "rwjLccpip-EZ",
        "colab_type": "code",
        "colab": {}
      },
      "source": [
        "loss = torch.nn.MSELoss(reduction='mean').to(device)\n",
        "optimizer = optim.Adam(model.parameters(),lr = learning_rate)"
      ],
      "execution_count": 231,
      "outputs": []
    },
    {
      "cell_type": "code",
      "metadata": {
        "id": "2ib1PG5OqAYV",
        "colab_type": "code",
        "colab": {
          "base_uri": "https://localhost:8080/",
          "height": 1000
        },
        "outputId": "628d9497-a279-472f-9caa-0c2c0b0eaf2a"
      },
      "source": [
        "total_batch = len(data_loader)\n",
        "\n",
        "for epoch in range(training_epochs+1):\n",
        "    avg_cost = 0\n",
        "\n",
        "    for X, Y in data_loader:\n",
        "\n",
        "        X = X.to(device)\n",
        "        Y = Y.to(device)\n",
        "\n",
        "        # 그래디언트 초기화\n",
        "        optimizer.zero_grad()\n",
        "        # Forward 계산\n",
        "        hypothesis = model(X)\n",
        "        # Error 계산\n",
        "        cost = loss(hypothesis, Y)\n",
        "        # Backparopagation\n",
        "        cost.backward()\n",
        "        # 가중치 갱신\n",
        "        optimizer.step()\n",
        "\n",
        "        # 평균 Error 계산\n",
        "        avg_cost += cost / total_batch\n",
        "        \n",
        "    if(epoch%10 == 0):    \n",
        "          print('Epoch:', '%04d' % (epoch), 'cost =', '{:.9f}'.format(avg_cost))\n",
        "          print(cost.item())\n",
        "\n",
        "print('Learning finished')"
      ],
      "execution_count": 232,
      "outputs": [
        {
          "output_type": "stream",
          "text": [
            "/usr/local/lib/python3.6/dist-packages/ipykernel_launcher.py:9: DeprecationWarning: 'saved_variables' is deprecated; use 'saved_tensors'\n",
            "  if __name__ == '__main__':\n"
          ],
          "name": "stderr"
        },
        {
          "output_type": "stream",
          "text": [
            "Epoch: 0000 cost = 634.602416992\n",
            "527.2874145507812\n",
            "Epoch: 0010 cost = 256.945953369\n",
            "173.85531616210938\n",
            "Epoch: 0020 cost = 188.772033691\n",
            "209.8612060546875\n",
            "Epoch: 0030 cost = 167.282546997\n",
            "226.6951446533203\n",
            "Epoch: 0040 cost = 151.523391724\n",
            "382.2876892089844\n",
            "Epoch: 0050 cost = 149.158798218\n",
            "104.90754699707031\n",
            "Epoch: 0060 cost = 132.258026123\n",
            "126.8762435913086\n",
            "Epoch: 0070 cost = 138.326354980\n",
            "104.36235809326172\n",
            "Epoch: 0080 cost = 134.755096436\n",
            "123.34765625\n",
            "Epoch: 0090 cost = 126.233718872\n",
            "114.6981430053711\n",
            "Epoch: 0100 cost = 113.856758118\n",
            "110.94937896728516\n",
            "Epoch: 0110 cost = 115.705123901\n",
            "79.51490783691406\n",
            "Epoch: 0120 cost = 112.129386902\n",
            "138.16331481933594\n",
            "Epoch: 0130 cost = 113.219642639\n",
            "153.98716735839844\n",
            "Epoch: 0140 cost = 109.537109375\n",
            "89.39552307128906\n",
            "Epoch: 0150 cost = 111.438812256\n",
            "123.0202865600586\n",
            "Epoch: 0160 cost = 105.386772156\n",
            "104.71050262451172\n",
            "Epoch: 0170 cost = 104.771797180\n",
            "110.18384552001953\n",
            "Epoch: 0180 cost = 105.254020691\n",
            "114.22679138183594\n",
            "Epoch: 0190 cost = 107.688293457\n",
            "90.13195037841797\n",
            "Epoch: 0200 cost = 105.993721008\n",
            "110.72315979003906\n",
            "Epoch: 0210 cost = 104.240478516\n",
            "149.114501953125\n",
            "Epoch: 0220 cost = 102.092803955\n",
            "126.05776977539062\n",
            "Epoch: 0230 cost = 103.603752136\n",
            "102.40724182128906\n",
            "Epoch: 0240 cost = 102.722129822\n",
            "103.07015991210938\n",
            "Epoch: 0250 cost = 104.910766602\n",
            "74.79967498779297\n",
            "Epoch: 0260 cost = 96.506713867\n",
            "89.94722747802734\n",
            "Epoch: 0270 cost = 100.019767761\n",
            "117.81112670898438\n",
            "Epoch: 0280 cost = 101.050926208\n",
            "142.71176147460938\n",
            "Epoch: 0290 cost = 99.672607422\n",
            "115.28423309326172\n",
            "Epoch: 0300 cost = 98.085350037\n",
            "93.51904296875\n",
            "Epoch: 0310 cost = 104.592330933\n",
            "97.23365020751953\n",
            "Epoch: 0320 cost = 98.978965759\n",
            "123.8838119506836\n",
            "Epoch: 0330 cost = 97.567901611\n",
            "64.88591766357422\n",
            "Epoch: 0340 cost = 102.512283325\n",
            "73.99146270751953\n",
            "Epoch: 0350 cost = 96.426124573\n",
            "88.67898559570312\n",
            "Epoch: 0360 cost = 96.280746460\n",
            "82.97821807861328\n",
            "Epoch: 0370 cost = 100.658638000\n",
            "88.9521255493164\n",
            "Epoch: 0380 cost = 93.150459290\n",
            "102.93062591552734\n",
            "Epoch: 0390 cost = 90.654243469\n",
            "126.77388763427734\n",
            "Epoch: 0400 cost = 91.983329773\n",
            "65.7879409790039\n",
            "Epoch: 0410 cost = 96.221839905\n",
            "77.63085174560547\n",
            "Epoch: 0420 cost = 96.235359192\n",
            "105.62567138671875\n",
            "Epoch: 0430 cost = 96.072776794\n",
            "89.88114166259766\n",
            "Epoch: 0440 cost = 93.192619324\n",
            "88.5322265625\n",
            "Epoch: 0450 cost = 93.694953918\n",
            "71.5290756225586\n",
            "Epoch: 0460 cost = 89.926025391\n",
            "105.80152130126953\n",
            "Epoch: 0470 cost = 94.978431702\n",
            "84.0596694946289\n",
            "Epoch: 0480 cost = 89.272628784\n",
            "70.41471862792969\n",
            "Epoch: 0490 cost = 89.899406433\n",
            "73.92530059814453\n",
            "Epoch: 0500 cost = 93.835762024\n",
            "128.4211883544922\n",
            "Epoch: 0510 cost = 91.952804565\n",
            "78.99064636230469\n",
            "Epoch: 0520 cost = 92.591102600\n",
            "76.12619018554688\n",
            "Epoch: 0530 cost = 93.147598267\n",
            "73.66667175292969\n",
            "Epoch: 0540 cost = 89.799430847\n",
            "91.63163757324219\n",
            "Epoch: 0550 cost = 89.892761230\n",
            "65.92536163330078\n",
            "Epoch: 0560 cost = 90.847373962\n",
            "83.95462036132812\n",
            "Epoch: 0570 cost = 90.208602905\n",
            "78.50944519042969\n",
            "Epoch: 0580 cost = 86.753051758\n",
            "76.4100112915039\n",
            "Epoch: 0590 cost = 85.866378784\n",
            "123.34839630126953\n",
            "Epoch: 0600 cost = 90.321212769\n",
            "132.5275115966797\n",
            "Epoch: 0610 cost = 87.508270264\n",
            "70.68946838378906\n",
            "Epoch: 0620 cost = 86.607406616\n",
            "92.88404083251953\n",
            "Epoch: 0630 cost = 91.131736755\n",
            "94.35032653808594\n",
            "Epoch: 0640 cost = 86.625770569\n",
            "89.75528717041016\n",
            "Epoch: 0650 cost = 89.742263794\n",
            "77.80256652832031\n",
            "Epoch: 0660 cost = 87.561477661\n",
            "72.93701934814453\n",
            "Epoch: 0670 cost = 88.986000061\n",
            "86.5538101196289\n",
            "Epoch: 0680 cost = 89.074218750\n",
            "70.58759307861328\n",
            "Epoch: 0690 cost = 91.629631042\n",
            "158.0553741455078\n",
            "Epoch: 0700 cost = 83.541938782\n",
            "77.00944519042969\n",
            "Epoch: 0710 cost = 85.064888000\n",
            "66.6491470336914\n",
            "Epoch: 0720 cost = 87.880859375\n",
            "75.28109741210938\n",
            "Epoch: 0730 cost = 85.250213623\n",
            "106.9462661743164\n",
            "Epoch: 0740 cost = 87.383911133\n",
            "89.59589385986328\n",
            "Epoch: 0750 cost = 85.288398743\n",
            "82.9585952758789\n",
            "Epoch: 0760 cost = 88.129142761\n",
            "81.22737121582031\n",
            "Epoch: 0770 cost = 87.783142090\n",
            "105.98806762695312\n",
            "Epoch: 0780 cost = 82.624366760\n",
            "73.14686584472656\n",
            "Epoch: 0790 cost = 89.503448486\n",
            "98.68852996826172\n",
            "Epoch: 0800 cost = 84.811248779\n",
            "80.94642639160156\n",
            "Epoch: 0810 cost = 82.733215332\n",
            "74.71553802490234\n",
            "Epoch: 0820 cost = 84.699798584\n",
            "83.6624526977539\n",
            "Epoch: 0830 cost = 85.609321594\n",
            "62.133358001708984\n",
            "Epoch: 0840 cost = 83.875709534\n",
            "84.48312377929688\n",
            "Epoch: 0850 cost = 85.925422668\n",
            "83.15206909179688\n",
            "Epoch: 0860 cost = 84.479019165\n",
            "83.54673767089844\n",
            "Epoch: 0870 cost = 85.562271118\n",
            "81.80414581298828\n",
            "Epoch: 0880 cost = 83.674087524\n",
            "97.64264678955078\n",
            "Epoch: 0890 cost = 83.945686340\n",
            "76.29865264892578\n",
            "Epoch: 0900 cost = 83.553314209\n",
            "82.09571075439453\n",
            "Epoch: 0910 cost = 86.509613037\n",
            "100.7757339477539\n",
            "Epoch: 0920 cost = 83.393760681\n",
            "68.51596069335938\n",
            "Epoch: 0930 cost = 82.634048462\n",
            "101.53118896484375\n",
            "Epoch: 0940 cost = 83.577384949\n",
            "99.78665161132812\n",
            "Epoch: 0950 cost = 80.470726013\n",
            "77.09626770019531\n",
            "Epoch: 0960 cost = 85.629425049\n",
            "89.01224517822266\n",
            "Epoch: 0970 cost = 80.765228271\n",
            "93.69438171386719\n",
            "Epoch: 0980 cost = 86.209167480\n",
            "64.75446319580078\n",
            "Epoch: 0990 cost = 83.555381775\n",
            "79.94637298583984\n",
            "Epoch: 1000 cost = 84.068748474\n",
            "94.69044494628906\n",
            "Learning finished\n"
          ],
          "name": "stdout"
        }
      ]
    },
    {
      "cell_type": "code",
      "metadata": {
        "id": "RpqVHffQqD32",
        "colab_type": "code",
        "colab": {
          "base_uri": "https://localhost:8080/",
          "height": 170
        },
        "outputId": "d6abcd71-db2b-4183-b13c-9077afdd696f"
      },
      "source": [
        "x_test = test.loc[0:,\"cab_type\":]\n",
        "x_test = np.array(x_test)\n",
        "x_test = scaler.transform(x_test)\n",
        "x_test = torch.FloatTensor(x_test).to(device)\n",
        "\n",
        "x_test[:3]\n"
      ],
      "execution_count": 233,
      "outputs": [
        {
          "output_type": "execute_result",
          "data": {
            "text/plain": [
              "tensor([[1.0000, 0.0196, 0.0000, 0.6116, 0.5542, 0.5000, 0.0000, 0.0000, 0.5172,\n",
              "         0.5643, 0.3146, 1.0000, 0.8333, 0.6117, 0.7141, 0.7200, 0.0000, 0.3142,\n",
              "         0.8746],\n",
              "        [1.0000, 0.0196, 0.0000, 0.6440, 0.5593, 1.0000, 0.8977, 1.0000, 0.9655,\n",
              "         0.7924, 0.4212, 0.4383, 1.0000, 0.8090, 0.3346, 1.0000, 0.0000, 0.1982,\n",
              "         0.8910],\n",
              "        [1.0000, 0.0196, 0.0000, 0.5069, 0.4613, 0.0000, 0.0000, 0.0000, 0.6379,\n",
              "         0.4729, 0.2449, 1.0000, 0.1667, 0.5771, 0.0883, 0.0300, 0.0000, 0.4228,\n",
              "         0.7293]], device='cuda:0')"
            ]
          },
          "metadata": {
            "tags": []
          },
          "execution_count": 233
        }
      ]
    },
    {
      "cell_type": "code",
      "metadata": {
        "id": "R2zjYxm4qINY",
        "colab_type": "code",
        "colab": {
          "base_uri": "https://localhost:8080/",
          "height": 136
        },
        "outputId": "e91b9718-4163-406e-ffd6-e053ab9196bc"
      },
      "source": [
        "model(x_train)"
      ],
      "execution_count": 234,
      "outputs": [
        {
          "output_type": "execute_result",
          "data": {
            "text/plain": [
              "tensor([[19.3808],\n",
              "        [16.3652],\n",
              "        [19.5360],\n",
              "        ...,\n",
              "        [89.8597],\n",
              "        [65.2854],\n",
              "        [65.4504]], device='cuda:0', grad_fn=<AddmmBackward>)"
            ]
          },
          "metadata": {
            "tags": []
          },
          "execution_count": 234
        }
      ]
    },
    {
      "cell_type": "code",
      "metadata": {
        "id": "6hBzD-aVqKHm",
        "colab_type": "code",
        "colab": {}
      },
      "source": [
        "with torch.no_grad():\n",
        "    model.eval()\n",
        "    x_test=np.array(x_test.cpu())\n",
        "    x_test=torch.from_numpy(x_test).float().to(device)\n",
        "    predict=model(x_test)"
      ],
      "execution_count": 235,
      "outputs": []
    },
    {
      "cell_type": "code",
      "metadata": {
        "id": "GxoLCs3S0Mfd",
        "colab_type": "code",
        "colab": {}
      },
      "source": [
        "correct_prediction = predict.cpu().numpy().reshape(-1,1)\n",
        "result = pd.read_csv('submission_form.csv')"
      ],
      "execution_count": 236,
      "outputs": []
    },
    {
      "cell_type": "code",
      "metadata": {
        "id": "XIuLqKYtqN6j",
        "colab_type": "code",
        "colab": {
          "base_uri": "https://localhost:8080/",
          "height": 102
        },
        "outputId": "ddb468e4-529d-41ac-99e5-d0065118822c"
      },
      "source": [
        "for i in range(len(predict)):\n",
        "      result['price'][i]=predict[i].item()"
      ],
      "execution_count": 237,
      "outputs": [
        {
          "output_type": "stream",
          "text": [
            "/usr/local/lib/python3.6/dist-packages/ipykernel_launcher.py:2: SettingWithCopyWarning: \n",
            "A value is trying to be set on a copy of a slice from a DataFrame\n",
            "\n",
            "See the caveats in the documentation: https://pandas.pydata.org/pandas-docs/stable/user_guide/indexing.html#returning-a-view-versus-a-copy\n",
            "  \n"
          ],
          "name": "stderr"
        }
      ]
    },
    {
      "cell_type": "code",
      "metadata": {
        "id": "q80mJCajqPbE",
        "colab_type": "code",
        "colab": {}
      },
      "source": [
        "result['price'] = result['price'].astype(int)"
      ],
      "execution_count": 238,
      "outputs": []
    },
    {
      "cell_type": "code",
      "metadata": {
        "id": "JtQ8onRyqQ4d",
        "colab_type": "code",
        "colab": {}
      },
      "source": [
        "result.to_csv('submit.csv', index=False)"
      ],
      "execution_count": 239,
      "outputs": []
    },
    {
      "cell_type": "code",
      "metadata": {
        "id": "iwVej-We4B1_",
        "colab_type": "code",
        "colab": {
          "base_uri": "https://localhost:8080/",
          "height": 51
        },
        "outputId": "752b2db3-eaac-4252-a30d-294421c80b10"
      },
      "source": [
        "!kaggle competitions submit -c taxi -f submit.csv -m \"14010974 이기택\""
      ],
      "execution_count": 240,
      "outputs": [
        {
          "output_type": "stream",
          "text": [
            "100% 601/601 [00:05<00:00, 119B/s]\n",
            "Successfully submitted to SejongAI.텀프로젝트.택시비예측"
          ],
          "name": "stdout"
        }
      ]
    }
  ]
}
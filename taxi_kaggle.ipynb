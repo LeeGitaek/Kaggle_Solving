{
  "nbformat": 4,
  "nbformat_minor": 0,
  "metadata": {
    "colab": {
      "name": "taxi_kaggle.ipynb",
      "provenance": [],
      "authorship_tag": "ABX9TyOcJLOTo7NCVZ6zELtAYFW8",
      "include_colab_link": true
    },
    "kernelspec": {
      "name": "python3",
      "display_name": "Python 3"
    },
    "accelerator": "GPU"
  },
  "cells": [
    {
      "cell_type": "markdown",
      "metadata": {
        "id": "view-in-github",
        "colab_type": "text"
      },
      "source": [
        "<a href=\"https://colab.research.google.com/github/LeeGitaek/Kaggle_Solving/blob/master/taxi_kaggle.ipynb\" target=\"_parent\"><img src=\"https://colab.research.google.com/assets/colab-badge.svg\" alt=\"Open In Colab\"/></a>"
      ]
    },
    {
      "cell_type": "code",
      "metadata": {
        "id": "--WbMzatocfX",
        "colab_type": "code",
        "colab": {
          "base_uri": "https://localhost:8080/",
          "height": 391
        },
        "outputId": "52f7e19c-217c-40a5-b331-989305fc7295"
      },
      "source": [
        "!pip uninstall kaggle\n",
        "!pip install --upgrade pip\n",
        "!pip install kaggle"
      ],
      "execution_count": 181,
      "outputs": [
        {
          "output_type": "stream",
          "text": [
            "Found existing installation: kaggle 1.5.6\n",
            "Uninstalling kaggle-1.5.6:\n",
            "  Would remove:\n",
            "    /usr/local/bin/kaggle\n",
            "    /usr/local/lib/python3.6/dist-packages/kaggle-1.5.6.dist-info/*\n",
            "    /usr/local/lib/python3.6/dist-packages/kaggle/*\n",
            "Proceed (y/n)? y\n",
            "  Successfully uninstalled kaggle-1.5.6\n",
            "Requirement already up-to-date: pip in /usr/local/lib/python3.6/dist-packages (20.1.1)\n",
            "Processing /root/.cache/pip/wheels/01/3e/ff/77407ebac3ef71a79b9166a8382aecf88415a0bcbe3c095a01/kaggle-1.5.6-py3-none-any.whl\n",
            "Requirement already satisfied: six>=1.10 in /usr/local/lib/python3.6/dist-packages (from kaggle) (1.12.0)\n",
            "Requirement already satisfied: certifi in /usr/local/lib/python3.6/dist-packages (from kaggle) (2020.4.5.2)\n",
            "Requirement already satisfied: python-slugify in /usr/local/lib/python3.6/dist-packages (from kaggle) (4.0.0)\n",
            "Requirement already satisfied: tqdm in /usr/local/lib/python3.6/dist-packages (from kaggle) (4.41.1)\n",
            "Requirement already satisfied: requests in /usr/local/lib/python3.6/dist-packages (from kaggle) (2.23.0)\n",
            "Requirement already satisfied: urllib3<1.25,>=1.21.1 in /usr/local/lib/python3.6/dist-packages (from kaggle) (1.24.3)\n",
            "Requirement already satisfied: python-dateutil in /usr/local/lib/python3.6/dist-packages (from kaggle) (2.8.1)\n",
            "Requirement already satisfied: text-unidecode>=1.3 in /usr/local/lib/python3.6/dist-packages (from python-slugify->kaggle) (1.3)\n",
            "Requirement already satisfied: chardet<4,>=3.0.2 in /usr/local/lib/python3.6/dist-packages (from requests->kaggle) (3.0.4)\n",
            "Requirement already satisfied: idna<3,>=2.5 in /usr/local/lib/python3.6/dist-packages (from requests->kaggle) (2.9)\n",
            "Installing collected packages: kaggle\n",
            "Successfully installed kaggle-1.5.6\n"
          ],
          "name": "stdout"
        }
      ]
    },
    {
      "cell_type": "code",
      "metadata": {
        "id": "wuhv-po7om11",
        "colab_type": "code",
        "colab": {
          "base_uri": "https://localhost:8080/",
          "height": 34
        },
        "outputId": "f68ca008-30c3-4dbb-aa75-ca2500b91fa8"
      },
      "source": [
        "!mkdir -p ~/.kaggle\n",
        "!cp kaggle.json ~/.kaggle\n",
        "!ls -lha kaggle.json\n",
        "!chmod 600 ~/.kaggle/kaggle.json"
      ],
      "execution_count": 182,
      "outputs": [
        {
          "output_type": "stream",
          "text": [
            "-rw-r--r-- 1 root root 68 Jun 18 13:37 kaggle.json\n"
          ],
          "name": "stdout"
        }
      ]
    },
    {
      "cell_type": "code",
      "metadata": {
        "id": "0vQLu5MfpAyx",
        "colab_type": "code",
        "colab": {
          "base_uri": "https://localhost:8080/",
          "height": 34
        },
        "outputId": "0babaff1-e114-4ab0-f3c3-799dd7bc5ca1"
      },
      "source": [
        "! kaggle competitions download -c taxi"
      ],
      "execution_count": 183,
      "outputs": [
        {
          "output_type": "stream",
          "text": [
            "taxi.zip: Skipping, found more recently modified local copy (use --force to force download)\n"
          ],
          "name": "stdout"
        }
      ]
    },
    {
      "cell_type": "code",
      "metadata": {
        "id": "6MbS4_FLpHTf",
        "colab_type": "code",
        "colab": {
          "base_uri": "https://localhost:8080/",
          "height": 136
        },
        "outputId": "ccc19dbd-4afd-4c81-ec45-1bce891b43b1"
      },
      "source": [
        "!unzip taxi.zip"
      ],
      "execution_count": 184,
      "outputs": [
        {
          "output_type": "stream",
          "text": [
            "Archive:  taxi.zip\n",
            "replace submission_form.csv? [y]es, [n]o, [A]ll, [N]one, [r]ename: y\n",
            "  inflating: submission_form.csv     \n",
            "replace test.csv? [y]es, [n]o, [A]ll, [N]one, [r]ename: y\n",
            "  inflating: test.csv                \n",
            "replace train.csv? [y]es, [n]o, [A]ll, [N]one, [r]ename: y\n",
            "  inflating: train.csv               \n"
          ],
          "name": "stdout"
        }
      ]
    },
    {
      "cell_type": "code",
      "metadata": {
        "id": "epLMxWKWpLeJ",
        "colab_type": "code",
        "colab": {}
      },
      "source": [
        "import torch\n",
        "import torch.nn.functional as F\n",
        "import torch.optim as optim\n",
        "import random\n",
        "import numpy as np\n",
        "import pandas as pd\n",
        "from sklearn.preprocessing import MinMaxScaler\n",
        "from sklearn.ensemble import RandomForestClassifier"
      ],
      "execution_count": 425,
      "outputs": []
    },
    {
      "cell_type": "code",
      "metadata": {
        "id": "MX3MbPExpNKt",
        "colab_type": "code",
        "colab": {}
      },
      "source": [
        "device = 'cuda' if torch.cuda.is_available() else 'cpu'\n",
        "\n",
        "random.seed(777)\n",
        "torch.manual_seed(777)\n",
        "if device == 'cuda':\n",
        "      torch.cuda.manual_seed_all(777)"
      ],
      "execution_count": 426,
      "outputs": []
    },
    {
      "cell_type": "code",
      "metadata": {
        "id": "4DYeWRaypat6",
        "colab_type": "code",
        "colab": {}
      },
      "source": [
        "train = pd.read_csv('train.csv')\n",
        "test = pd.read_csv('test.csv')"
      ],
      "execution_count": 557,
      "outputs": []
    },
    {
      "cell_type": "code",
      "metadata": {
        "id": "oTfWAJvypl8c",
        "colab_type": "code",
        "colab": {}
      },
      "source": [
        "cab_type = {\"Uber\":0, \"Lyft\":1}\n",
        "\n",
        "train['cab_type']= train['cab_type'].map(cab_type)\n",
        "test['cab_type']= test['cab_type'].map(cab_type)"
      ],
      "execution_count": 558,
      "outputs": []
    },
    {
      "cell_type": "code",
      "metadata": {
        "id": "cJMq3PHhpqgW",
        "colab_type": "code",
        "colab": {}
      },
      "source": [
        "summary_mapping = {\" Clear \":0,\" Drizzle \":1,\" Foggy \":2,\" Light Rain \":3,\" Mostly Cloudy \":4,\" Overcast \":5,\" Partly Cloudy \":6,\" Possible Drizzle \":7,\" Rain \":8}\n",
        "\n",
        "train['short_summary'] = train['short_summary'].map(summary_mapping)\n",
        "test['short_summary'] = test['short_summary'].map(summary_mapping)"
      ],
      "execution_count": 559,
      "outputs": []
    },
    {
      "cell_type": "code",
      "metadata": {
        "id": "1blyuNVWpuDy",
        "colab_type": "code",
        "colab": {}
      },
      "source": [
        "icon_mapping = {\" clear-day \":0,\" clear-night \":1,\" cloudy \":2,\" fog \":3,\" partly-cloudy-day \":4,\" partly-cloudy-night \":5,\" rain \":6}\n",
        "\n",
        "train['icon'] = train['icon'].map(icon_mapping)\n",
        "test['icon'] = test['icon'].map(icon_mapping)"
      ],
      "execution_count": 560,
      "outputs": []
    },
    {
      "cell_type": "code",
      "metadata": {
        "id": "cXFmtpvkpv2A",
        "colab_type": "code",
        "colab": {
          "base_uri": "https://localhost:8080/",
          "height": 391
        },
        "outputId": "650b2a16-53f0-47b9-f736-56a91cf32adc"
      },
      "source": [
        "x_data = train.loc[0:,\"cab_type\":\"precipIntensityMax\"]\n",
        "y_data = train.loc[0:,\"price\"]\n",
        "\n",
        "x_data = np.array(x_data)\n",
        "y_data = np.array(y_data)\n",
        "scaler = MinMaxScaler()\n",
        "\n",
        "x_data = scaler.fit_transform(x_data)\n",
        "x_train = torch.FloatTensor(x_data).to(device)\n",
        "y_train = torch.FloatTensor(y_data).to(device).reshape(-1,1)\n",
        "\n",
        "print(x_train[:5])\n",
        "print(x_train.shape)\n",
        "print(y_train[:5])\n",
        "print(y_train.shape)"
      ],
      "execution_count": 561,
      "outputs": [
        {
          "output_type": "stream",
          "text": [
            "tensor([[0.0000, 0.3059, 0.0000, 0.7150, 0.7110, 0.3750, 0.1990, 0.9400, 0.9138,\n",
            "         0.2811, 0.1391, 0.2777, 1.0000, 0.8546, 0.0042, 1.0000, 0.0000, 0.4073,\n",
            "         0.9733],\n",
            "        [0.0000, 0.3059, 0.0000, 0.9321, 0.9423, 0.6250, 0.0000, 0.0000, 0.2241,\n",
            "         0.7333, 0.4845, 1.0000, 0.3333, 0.7053, 0.2332, 0.9800, 0.5000, 0.3626,\n",
            "         0.0034],\n",
            "        [0.0000, 0.3869, 0.0000, 0.3383, 0.3482, 0.5000, 0.0000, 0.0000, 0.7586,\n",
            "         0.2502, 0.1221, 0.9663, 0.8333, 0.4883, 0.6702, 0.5200, 0.0000, 0.1233,\n",
            "         0.0000],\n",
            "        [0.0000, 0.3869, 0.0000, 0.4962, 0.4387, 0.5000, 0.0000, 0.0000, 0.5690,\n",
            "         0.5381, 0.4382, 0.9980, 0.8333, 0.5408, 0.1955, 0.7500, 0.0000, 0.7260,\n",
            "         0.0000],\n",
            "        [0.0000, 0.3869, 0.0000, 0.6990, 0.7443, 0.2500, 0.0000, 0.0000, 0.9828,\n",
            "         0.0412, 0.0068, 0.0000, 0.5000, 0.8637, 0.2676, 1.0000, 0.0000, 0.2283,\n",
            "         0.0027]], device='cuda:0')\n",
            "torch.Size([2809, 19])\n",
            "tensor([[32.5000],\n",
            "        [11.0000],\n",
            "        [27.0000],\n",
            "        [12.0000],\n",
            "        [18.5000]], device='cuda:0')\n",
            "torch.Size([2809, 1])\n"
          ],
          "name": "stdout"
        }
      ]
    },
    {
      "cell_type": "code",
      "metadata": {
        "id": "bnmhcmD2pySo",
        "colab_type": "code",
        "colab": {
          "base_uri": "https://localhost:8080/",
          "height": 170
        },
        "outputId": "4a6bce11-4310-4d2d-ba54-7711b203bf2a"
      },
      "source": [
        "x_test = test.loc[0:,\"cab_type\":]\n",
        "x_test = np.array(x_test)\n",
        "x_test = scaler.transform(x_test)\n",
        "x_test = torch.FloatTensor(x_test).to(device)\n",
        "\n",
        "x_test[:3]"
      ],
      "execution_count": 562,
      "outputs": [
        {
          "output_type": "execute_result",
          "data": {
            "text/plain": [
              "tensor([[1.0000, 0.0196, 0.0000, 0.6116, 0.5542, 0.5000, 0.0000, 0.0000, 0.5172,\n",
              "         0.5643, 0.3146, 1.0000, 0.8333, 0.6117, 0.7141, 0.7200, 0.0000, 0.3142,\n",
              "         0.8746],\n",
              "        [1.0000, 0.0196, 0.0000, 0.6440, 0.5593, 1.0000, 0.8977, 1.0000, 0.9655,\n",
              "         0.7924, 0.4212, 0.4383, 1.0000, 0.8090, 0.3346, 1.0000, 0.0000, 0.1982,\n",
              "         0.8910],\n",
              "        [1.0000, 0.0196, 0.0000, 0.5069, 0.4613, 0.0000, 0.0000, 0.0000, 0.6379,\n",
              "         0.4729, 0.2449, 1.0000, 0.1667, 0.5771, 0.0883, 0.0300, 0.0000, 0.4228,\n",
              "         0.7293]], device='cuda:0')"
            ]
          },
          "metadata": {
            "tags": []
          },
          "execution_count": 562
        }
      ]
    },
    {
      "cell_type": "code",
      "metadata": {
        "id": "hjG6HFKvp0Ol",
        "colab_type": "code",
        "colab": {}
      },
      "source": [
        "learning_rate = 0.005\n",
        "training_epochs = 1000\n",
        "batch_size = 50"
      ],
      "execution_count": 617,
      "outputs": []
    },
    {
      "cell_type": "code",
      "metadata": {
        "id": "mDMdtAIlp2RO",
        "colab_type": "code",
        "colab": {}
      },
      "source": [
        "train_dataset = torch.utils.data.TensorDataset(x_train, y_train)\n",
        "\n",
        "data_loader = torch.utils.data.DataLoader(dataset=train_dataset,\n",
        "                                          batch_size=batch_size,\n",
        "                                          shuffle=True,\n",
        "                                          drop_last=True)"
      ],
      "execution_count": 618,
      "outputs": []
    },
    {
      "cell_type": "code",
      "metadata": {
        "id": "hkN2K_Wup3vX",
        "colab_type": "code",
        "colab": {}
      },
      "source": [
        "linear1=torch.nn.Linear(19,8,bias=True)\n",
        "linear2=torch.nn.Linear(8,8,bias=True)\n",
        "linear3=torch.nn.Linear(8,8,bias=True)\n",
        "linear4=torch.nn.Linear(8,8,bias=True)\n",
        "linear5=torch.nn.Linear(8,1,bias=True)\n",
        "dropout=torch.nn.Dropout(p=0.3)\n",
        "relu= torch.nn.LeakyReLU()\n"
      ],
      "execution_count": 619,
      "outputs": []
    },
    {
      "cell_type": "code",
      "metadata": {
        "id": "SgJqPzlIp52S",
        "colab_type": "code",
        "colab": {
          "base_uri": "https://localhost:8080/",
          "height": 68
        },
        "outputId": "349cf59b-8cd0-42ec-e0e1-13ba2379f7a3"
      },
      "source": [
        "torch.nn.init.kaiming_uniform_(linear1.weight)\n",
        "torch.nn.init.kaiming_uniform_(linear2.weight)\n",
        "torch.nn.init.kaiming_uniform_(linear3.weight)\n",
        "torch.nn.init.kaiming_uniform_(linear4.weight)\n",
        "torch.nn.init.kaiming_uniform_(linear5.weight)\n"
      ],
      "execution_count": 620,
      "outputs": [
        {
          "output_type": "execute_result",
          "data": {
            "text/plain": [
              "Parameter containing:\n",
              "tensor([[ 6.7234e-01,  1.4234e-04, -6.7970e-01, -8.3873e-01, -2.3578e-01,\n",
              "         -7.9360e-01, -3.4571e-01,  3.3311e-01]], requires_grad=True)"
            ]
          },
          "metadata": {
            "tags": []
          },
          "execution_count": 620
        }
      ]
    },
    {
      "cell_type": "code",
      "metadata": {
        "id": "xwz0z004p8Do",
        "colab_type": "code",
        "colab": {}
      },
      "source": [
        "model = torch.nn.Sequential(linear1,relu,dropout,\n",
        "                            linear2,relu,dropout,\n",
        "                            linear3,relu,dropout,\n",
        "                            linear4,relu,dropout,\n",
        "                            linear5).to(device)"
      ],
      "execution_count": 621,
      "outputs": []
    },
    {
      "cell_type": "code",
      "metadata": {
        "id": "rwjLccpip-EZ",
        "colab_type": "code",
        "colab": {}
      },
      "source": [
        "loss = torch.nn.MSELoss(reduction='mean').to(device)\n",
        "optimizer = optim.Adam(model.parameters(),lr = learning_rate)"
      ],
      "execution_count": 622,
      "outputs": []
    },
    {
      "cell_type": "code",
      "metadata": {
        "id": "2ib1PG5OqAYV",
        "colab_type": "code",
        "colab": {
          "base_uri": "https://localhost:8080/",
          "height": 1000
        },
        "outputId": "40dd8d29-6be7-4cf2-ab31-f62e14656416"
      },
      "source": [
        "total_batch = len(data_loader)\n",
        "\n",
        "for epoch in range(training_epochs+1):\n",
        "    avg_cost = 0\n",
        "\n",
        "    for X, Y in data_loader:\n",
        "\n",
        "        X = X.to(device)\n",
        "        Y = Y.to(device)\n",
        "\n",
        "        # 그래디언트 초기화\n",
        "        optimizer.zero_grad()\n",
        "        # Forward 계산\n",
        "        hypothesis = model(X)\n",
        "        # Error 계산\n",
        "        cost = loss(hypothesis, Y)\n",
        "        # Backparopagation\n",
        "        cost.backward()\n",
        "        # 가중치 갱신\n",
        "        optimizer.step()\n",
        "\n",
        "        # 평균 Error 계산\n",
        "        avg_cost += cost / total_batch\n",
        "        \n",
        "    if(epoch%10 == 0):    \n",
        "          print('Epoch:', '%04d' % (epoch), 'cost =', '{:.9f}'.format(avg_cost))\n",
        "          print(cost.item())\n",
        "\n",
        "print('Learning finished')"
      ],
      "execution_count": 623,
      "outputs": [
        {
          "output_type": "stream",
          "text": [
            "Epoch: 0000 cost = 456.762969971\n",
            "511.95147705078125\n",
            "Epoch: 0010 cost = 175.547973633\n",
            "159.09535217285156\n",
            "Epoch: 0020 cost = 139.810806274\n",
            "207.80758666992188\n",
            "Epoch: 0030 cost = 138.359008789\n",
            "92.18795013427734\n",
            "Epoch: 0040 cost = 127.528419495\n",
            "238.23805236816406\n",
            "Epoch: 0050 cost = 125.144752502\n",
            "88.90643310546875\n",
            "Epoch: 0060 cost = 125.177108765\n",
            "109.08124542236328\n",
            "Epoch: 0070 cost = 121.224479675\n",
            "70.35060119628906\n",
            "Epoch: 0080 cost = 125.595977783\n",
            "102.43356323242188\n",
            "Epoch: 0090 cost = 114.940170288\n",
            "210.2611846923828\n",
            "Epoch: 0100 cost = 121.289047241\n",
            "153.71966552734375\n",
            "Epoch: 0110 cost = 122.138313293\n",
            "51.7901496887207\n",
            "Epoch: 0120 cost = 118.985527039\n",
            "121.42807006835938\n",
            "Epoch: 0130 cost = 123.767715454\n",
            "87.10724639892578\n",
            "Epoch: 0140 cost = 125.642509460\n",
            "200.54232788085938\n",
            "Epoch: 0150 cost = 115.303924561\n",
            "177.70579528808594\n",
            "Epoch: 0160 cost = 116.117546082\n",
            "65.66770935058594\n",
            "Epoch: 0170 cost = 117.373939514\n",
            "88.8910903930664\n",
            "Epoch: 0180 cost = 109.500450134\n",
            "65.95841979980469\n",
            "Epoch: 0190 cost = 123.887741089\n",
            "73.5926742553711\n",
            "Epoch: 0200 cost = 110.236396790\n",
            "66.19920349121094\n",
            "Epoch: 0210 cost = 116.257484436\n",
            "87.09251403808594\n",
            "Epoch: 0220 cost = 116.098152161\n",
            "261.51092529296875\n",
            "Epoch: 0230 cost = 118.225524902\n",
            "164.44589233398438\n",
            "Epoch: 0240 cost = 114.108604431\n",
            "67.0409927368164\n",
            "Epoch: 0250 cost = 118.057342529\n",
            "128.8833465576172\n",
            "Epoch: 0260 cost = 124.120727539\n",
            "86.42144775390625\n",
            "Epoch: 0270 cost = 114.519439697\n",
            "90.42648315429688\n",
            "Epoch: 0280 cost = 124.298233032\n",
            "96.57060241699219\n",
            "Epoch: 0290 cost = 110.512779236\n",
            "310.86737060546875\n",
            "Epoch: 0300 cost = 119.077980042\n",
            "89.67127990722656\n",
            "Epoch: 0310 cost = 114.041511536\n",
            "54.277320861816406\n",
            "Epoch: 0320 cost = 116.485267639\n",
            "84.4801025390625\n",
            "Epoch: 0330 cost = 110.914566040\n",
            "119.14328002929688\n",
            "Epoch: 0340 cost = 111.928504944\n",
            "222.81312561035156\n",
            "Epoch: 0350 cost = 121.662353516\n",
            "557.3621826171875\n",
            "Epoch: 0360 cost = 120.857292175\n",
            "72.26271057128906\n",
            "Epoch: 0370 cost = 119.132690430\n",
            "65.14453125\n",
            "Epoch: 0380 cost = 116.216682434\n",
            "99.45555877685547\n",
            "Epoch: 0390 cost = 120.877334595\n",
            "87.20921325683594\n",
            "Epoch: 0400 cost = 122.663314819\n",
            "211.87159729003906\n",
            "Epoch: 0410 cost = 114.381393433\n",
            "82.318359375\n",
            "Epoch: 0420 cost = 123.105674744\n",
            "86.25878143310547\n",
            "Epoch: 0430 cost = 117.917411804\n",
            "47.233943939208984\n",
            "Epoch: 0440 cost = 116.116531372\n",
            "44.45790100097656\n",
            "Epoch: 0450 cost = 118.061393738\n",
            "205.47695922851562\n",
            "Epoch: 0460 cost = 113.736968994\n",
            "116.43753051757812\n",
            "Epoch: 0470 cost = 116.001792908\n",
            "34.80687713623047\n",
            "Epoch: 0480 cost = 114.077003479\n",
            "276.57611083984375\n",
            "Epoch: 0490 cost = 115.964004517\n",
            "128.61375427246094\n",
            "Epoch: 0500 cost = 115.249389648\n",
            "126.10986328125\n",
            "Epoch: 0510 cost = 115.494377136\n",
            "44.55609130859375\n",
            "Epoch: 0520 cost = 111.545608521\n",
            "57.8212776184082\n",
            "Epoch: 0530 cost = 114.888908386\n",
            "70.13748168945312\n",
            "Epoch: 0540 cost = 114.805694580\n",
            "91.07066345214844\n",
            "Epoch: 0550 cost = 108.822547913\n",
            "160.91619873046875\n",
            "Epoch: 0560 cost = 116.403633118\n",
            "112.42758178710938\n",
            "Epoch: 0570 cost = 117.406311035\n",
            "70.22084045410156\n",
            "Epoch: 0580 cost = 116.182777405\n",
            "30.492935180664062\n",
            "Epoch: 0590 cost = 116.747924805\n",
            "185.05108642578125\n",
            "Epoch: 0600 cost = 118.699516296\n",
            "51.960777282714844\n",
            "Epoch: 0610 cost = 114.168090820\n",
            "146.77890014648438\n",
            "Epoch: 0620 cost = 113.209472656\n",
            "80.05484008789062\n",
            "Epoch: 0630 cost = 115.045394897\n",
            "37.12444305419922\n",
            "Epoch: 0640 cost = 111.774116516\n",
            "81.14793395996094\n",
            "Epoch: 0650 cost = 108.550178528\n",
            "63.62809753417969\n",
            "Epoch: 0660 cost = 115.243179321\n",
            "104.54586029052734\n",
            "Epoch: 0670 cost = 109.396896362\n",
            "415.81396484375\n",
            "Epoch: 0680 cost = 120.372726440\n",
            "137.69671630859375\n",
            "Epoch: 0690 cost = 109.579269409\n",
            "118.79367065429688\n",
            "Epoch: 0700 cost = 116.610198975\n",
            "87.40191650390625\n",
            "Epoch: 0710 cost = 110.720664978\n",
            "141.81040954589844\n",
            "Epoch: 0720 cost = 109.814598083\n",
            "78.09150695800781\n",
            "Epoch: 0730 cost = 122.234863281\n",
            "56.144203186035156\n",
            "Epoch: 0740 cost = 110.906867981\n",
            "39.55400466918945\n",
            "Epoch: 0750 cost = 110.154823303\n",
            "55.44581985473633\n",
            "Epoch: 0760 cost = 109.237457275\n",
            "87.00760650634766\n",
            "Epoch: 0770 cost = 110.194732666\n",
            "124.38575744628906\n",
            "Epoch: 0780 cost = 120.760444641\n",
            "158.51922607421875\n",
            "Epoch: 0790 cost = 115.652862549\n",
            "187.88438415527344\n",
            "Epoch: 0800 cost = 111.618171692\n",
            "81.46522521972656\n",
            "Epoch: 0810 cost = 116.571739197\n",
            "118.2134780883789\n",
            "Epoch: 0820 cost = 113.639022827\n",
            "90.14027404785156\n",
            "Epoch: 0830 cost = 115.531410217\n",
            "189.09674072265625\n",
            "Epoch: 0840 cost = 111.178771973\n",
            "119.27789306640625\n",
            "Epoch: 0850 cost = 115.102806091\n",
            "56.90647506713867\n",
            "Epoch: 0860 cost = 113.140174866\n",
            "113.63613891601562\n",
            "Epoch: 0870 cost = 112.584297180\n",
            "60.16236114501953\n",
            "Epoch: 0880 cost = 113.595489502\n",
            "80.43741607666016\n",
            "Epoch: 0890 cost = 108.317527771\n",
            "73.78678131103516\n",
            "Epoch: 0900 cost = 110.039916992\n",
            "47.608577728271484\n",
            "Epoch: 0910 cost = 113.372261047\n",
            "66.58865356445312\n",
            "Epoch: 0920 cost = 110.933601379\n",
            "125.11506652832031\n",
            "Epoch: 0930 cost = 114.300552368\n",
            "98.8347396850586\n",
            "Epoch: 0940 cost = 117.039703369\n",
            "61.64986038208008\n",
            "Epoch: 0950 cost = 112.519584656\n",
            "276.4504089355469\n",
            "Epoch: 0960 cost = 118.573944092\n",
            "134.48837280273438\n",
            "Epoch: 0970 cost = 111.616363525\n",
            "157.0047607421875\n",
            "Epoch: 0980 cost = 111.844978333\n",
            "43.4632568359375\n",
            "Epoch: 0990 cost = 107.032348633\n",
            "52.90862274169922\n",
            "Epoch: 1000 cost = 112.895355225\n",
            "145.686767578125\n",
            "Epoch: 1010 cost = 111.945579529\n",
            "124.41132354736328\n",
            "Epoch: 1020 cost = 112.879196167\n",
            "76.3136215209961\n",
            "Epoch: 1030 cost = 116.280357361\n",
            "102.02775573730469\n",
            "Epoch: 1040 cost = 111.957252502\n",
            "94.94284057617188\n",
            "Epoch: 1050 cost = 116.785797119\n",
            "74.71561431884766\n",
            "Epoch: 1060 cost = 121.956420898\n",
            "77.47710418701172\n",
            "Epoch: 1070 cost = 117.368049622\n",
            "131.10150146484375\n",
            "Epoch: 1080 cost = 112.930656433\n",
            "100.81287384033203\n",
            "Epoch: 1090 cost = 112.397407532\n",
            "184.52447509765625\n",
            "Epoch: 1100 cost = 111.826629639\n",
            "112.6301498413086\n",
            "Epoch: 1110 cost = 120.073089600\n",
            "71.92878723144531\n",
            "Epoch: 1120 cost = 112.078170776\n",
            "77.21060943603516\n",
            "Epoch: 1130 cost = 110.208312988\n",
            "189.42050170898438\n",
            "Epoch: 1140 cost = 118.704841614\n",
            "67.80279541015625\n",
            "Epoch: 1150 cost = 113.989021301\n",
            "95.67280578613281\n",
            "Epoch: 1160 cost = 116.255271912\n",
            "167.77700805664062\n",
            "Epoch: 1170 cost = 117.076614380\n",
            "118.74925231933594\n",
            "Epoch: 1180 cost = 109.925781250\n",
            "106.10848999023438\n",
            "Epoch: 1190 cost = 116.683273315\n",
            "135.87478637695312\n",
            "Epoch: 1200 cost = 110.158447266\n",
            "58.074180603027344\n",
            "Epoch: 1210 cost = 113.051498413\n",
            "72.8448486328125\n",
            "Epoch: 1220 cost = 111.926719666\n",
            "113.25574493408203\n",
            "Epoch: 1230 cost = 113.185905457\n",
            "123.10804748535156\n",
            "Epoch: 1240 cost = 117.904724121\n",
            "59.77530288696289\n",
            "Epoch: 1250 cost = 114.347213745\n",
            "222.8376007080078\n",
            "Epoch: 1260 cost = 112.977699280\n",
            "145.20053100585938\n",
            "Epoch: 1270 cost = 108.524841309\n",
            "95.07096099853516\n",
            "Epoch: 1280 cost = 109.256439209\n",
            "90.48751068115234\n",
            "Epoch: 1290 cost = 111.358657837\n",
            "85.82914733886719\n",
            "Epoch: 1300 cost = 111.152954102\n",
            "129.17437744140625\n",
            "Epoch: 1310 cost = 115.739959717\n",
            "122.17182922363281\n",
            "Epoch: 1320 cost = 112.450729370\n",
            "192.70614624023438\n",
            "Epoch: 1330 cost = 113.864509583\n",
            "61.94108581542969\n",
            "Epoch: 1340 cost = 114.952369690\n",
            "61.90904235839844\n",
            "Epoch: 1350 cost = 109.967086792\n",
            "133.13836669921875\n",
            "Epoch: 1360 cost = 111.054298401\n",
            "76.78585052490234\n",
            "Epoch: 1370 cost = 119.836357117\n",
            "85.23185729980469\n",
            "Epoch: 1380 cost = 112.156013489\n",
            "90.65190124511719\n",
            "Epoch: 1390 cost = 109.572059631\n",
            "161.81631469726562\n",
            "Epoch: 1400 cost = 114.321517944\n",
            "201.37039184570312\n",
            "Epoch: 1410 cost = 108.143104553\n",
            "129.42726135253906\n",
            "Epoch: 1420 cost = 106.878433228\n",
            "132.1761474609375\n",
            "Epoch: 1430 cost = 106.402297974\n",
            "116.3017807006836\n",
            "Epoch: 1440 cost = 113.298683167\n",
            "84.73591613769531\n",
            "Epoch: 1450 cost = 118.394813538\n",
            "48.795196533203125\n",
            "Epoch: 1460 cost = 109.325225830\n",
            "131.212646484375\n",
            "Epoch: 1470 cost = 122.269607544\n",
            "122.37545776367188\n",
            "Epoch: 1480 cost = 105.323066711\n",
            "185.1637420654297\n",
            "Epoch: 1490 cost = 115.222137451\n",
            "174.09957885742188\n",
            "Epoch: 1500 cost = 111.483825684\n",
            "95.87808227539062\n",
            "Learning finished\n"
          ],
          "name": "stdout"
        }
      ]
    },
    {
      "cell_type": "code",
      "metadata": {
        "id": "RpqVHffQqD32",
        "colab_type": "code",
        "colab": {
          "base_uri": "https://localhost:8080/",
          "height": 170
        },
        "outputId": "0889ac15-f607-45a8-9095-fda95c8fe94d"
      },
      "source": [
        "x_test = test.loc[0:,\"cab_type\":]\n",
        "x_test = np.array(x_test)\n",
        "x_test = scaler.transform(x_test)\n",
        "x_test = torch.FloatTensor(x_test).to(device)\n",
        "\n",
        "x_test[:3]\n"
      ],
      "execution_count": 624,
      "outputs": [
        {
          "output_type": "execute_result",
          "data": {
            "text/plain": [
              "tensor([[1.0000, 0.0196, 0.0000, 0.6116, 0.5542, 0.5000, 0.0000, 0.0000, 0.5172,\n",
              "         0.5643, 0.3146, 1.0000, 0.8333, 0.6117, 0.7141, 0.7200, 0.0000, 0.3142,\n",
              "         0.8746],\n",
              "        [1.0000, 0.0196, 0.0000, 0.6440, 0.5593, 1.0000, 0.8977, 1.0000, 0.9655,\n",
              "         0.7924, 0.4212, 0.4383, 1.0000, 0.8090, 0.3346, 1.0000, 0.0000, 0.1982,\n",
              "         0.8910],\n",
              "        [1.0000, 0.0196, 0.0000, 0.5069, 0.4613, 0.0000, 0.0000, 0.0000, 0.6379,\n",
              "         0.4729, 0.2449, 1.0000, 0.1667, 0.5771, 0.0883, 0.0300, 0.0000, 0.4228,\n",
              "         0.7293]], device='cuda:0')"
            ]
          },
          "metadata": {
            "tags": []
          },
          "execution_count": 624
        }
      ]
    },
    {
      "cell_type": "code",
      "metadata": {
        "id": "R2zjYxm4qINY",
        "colab_type": "code",
        "colab": {
          "base_uri": "https://localhost:8080/",
          "height": 136
        },
        "outputId": "80acf43e-1204-47c8-9a73-b6c9031c832c"
      },
      "source": [
        "model(x_train)"
      ],
      "execution_count": 625,
      "outputs": [
        {
          "output_type": "execute_result",
          "data": {
            "text/plain": [
              "tensor([[16.8975],\n",
              "        [16.1150],\n",
              "        [17.2573],\n",
              "        ...,\n",
              "        [61.2075],\n",
              "        [43.0294],\n",
              "        [36.0015]], device='cuda:0', grad_fn=<AddmmBackward>)"
            ]
          },
          "metadata": {
            "tags": []
          },
          "execution_count": 625
        }
      ]
    },
    {
      "cell_type": "code",
      "metadata": {
        "id": "6hBzD-aVqKHm",
        "colab_type": "code",
        "colab": {}
      },
      "source": [
        "with torch.no_grad():\n",
        "    model.eval()\n",
        "    x_test=np.array(x_test.cpu())\n",
        "    x_test=torch.from_numpy(x_test).float().to(device)\n",
        "    predict=model(x_test)"
      ],
      "execution_count": 626,
      "outputs": []
    },
    {
      "cell_type": "code",
      "metadata": {
        "id": "GxoLCs3S0Mfd",
        "colab_type": "code",
        "colab": {}
      },
      "source": [
        "correct_prediction = predict.cpu().numpy().reshape(-1,1)\n",
        "result = pd.read_csv('submission_form.csv')"
      ],
      "execution_count": 627,
      "outputs": []
    },
    {
      "cell_type": "code",
      "metadata": {
        "id": "XIuLqKYtqN6j",
        "colab_type": "code",
        "colab": {
          "base_uri": "https://localhost:8080/",
          "height": 102
        },
        "outputId": "4a1c519d-3e8b-490c-b2d4-5c7cde681a19"
      },
      "source": [
        "for i in range(len(predict)):\n",
        "      result['price'][i]=predict[i].item()"
      ],
      "execution_count": 628,
      "outputs": [
        {
          "output_type": "stream",
          "text": [
            "/usr/local/lib/python3.6/dist-packages/ipykernel_launcher.py:2: SettingWithCopyWarning: \n",
            "A value is trying to be set on a copy of a slice from a DataFrame\n",
            "\n",
            "See the caveats in the documentation: https://pandas.pydata.org/pandas-docs/stable/user_guide/indexing.html#returning-a-view-versus-a-copy\n",
            "  \n"
          ],
          "name": "stderr"
        }
      ]
    },
    {
      "cell_type": "code",
      "metadata": {
        "id": "q80mJCajqPbE",
        "colab_type": "code",
        "colab": {}
      },
      "source": [
        "result['price'] = result['price'].astype(int)"
      ],
      "execution_count": 629,
      "outputs": []
    },
    {
      "cell_type": "code",
      "metadata": {
        "id": "JtQ8onRyqQ4d",
        "colab_type": "code",
        "colab": {}
      },
      "source": [
        "result.to_csv('submit.csv', index=False)"
      ],
      "execution_count": 630,
      "outputs": []
    },
    {
      "cell_type": "code",
      "metadata": {
        "id": "iwVej-We4B1_",
        "colab_type": "code",
        "colab": {
          "base_uri": "https://localhost:8080/",
          "height": 51
        },
        "outputId": "71f8fb96-e123-48c1-917f-d33269c4f93d"
      },
      "source": [
        "!kaggle competitions submit -c taxi -f submit.csv -m \"14010974 이기택\""
      ],
      "execution_count": 631,
      "outputs": [
        {
          "output_type": "stream",
          "text": [
            "100% 601/601 [00:00<00:00, 657B/s]\n",
            "Successfully submitted to 택시비 예측"
          ],
          "name": "stdout"
        }
      ]
    }
  ]
}
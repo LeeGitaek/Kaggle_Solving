{
  "nbformat": 4,
  "nbformat_minor": 0,
  "metadata": {
    "colab": {
      "name": "watermelon_price_prediction.ipynb",
      "provenance": [],
      "authorship_tag": "ABX9TyPAIEm3P/VXRb+67rQgSRif",
      "include_colab_link": true
    },
    "kernelspec": {
      "name": "python3",
      "display_name": "Python 3"
    },
    "accelerator": "GPU"
  },
  "cells": [
    {
      "cell_type": "markdown",
      "metadata": {
        "id": "view-in-github",
        "colab_type": "text"
      },
      "source": [
        "<a href=\"https://colab.research.google.com/github/LeeGitaek/Kaggle_Solving/blob/master/watermelon_price_prediction.ipynb\" target=\"_parent\"><img src=\"https://colab.research.google.com/assets/colab-badge.svg\" alt=\"Open In Colab\"/></a>"
      ]
    },
    {
      "cell_type": "code",
      "metadata": {
        "id": "CqzTgsgVRvIQ",
        "colab_type": "code",
        "colab": {
          "base_uri": "https://localhost:8080/",
          "height": 547
        },
        "outputId": "0a9d2f10-0fa3-43f5-800b-3fc1088ce79a"
      },
      "source": [
        "!pip uninstall --y kaggle\n",
        "!pip install --upgrade pip\n",
        "!pip install kaggle==1.5.6"
      ],
      "execution_count": 1,
      "outputs": [
        {
          "output_type": "stream",
          "text": [
            "Uninstalling kaggle-1.5.6:\n",
            "  Successfully uninstalled kaggle-1.5.6\n",
            "Collecting pip\n",
            "\u001b[?25l  Downloading https://files.pythonhosted.org/packages/43/84/23ed6a1796480a6f1a2d38f2802901d078266bda38388954d01d3f2e821d/pip-20.1.1-py2.py3-none-any.whl (1.5MB)\n",
            "\u001b[K     |████████████████████████████████| 1.5MB 3.5MB/s \n",
            "\u001b[?25hInstalling collected packages: pip\n",
            "  Found existing installation: pip 19.3.1\n",
            "    Uninstalling pip-19.3.1:\n",
            "      Successfully uninstalled pip-19.3.1\n",
            "Successfully installed pip-20.1.1\n",
            "Collecting kaggle==1.5.6\n",
            "  Downloading kaggle-1.5.6.tar.gz (58 kB)\n",
            "\u001b[K     |████████████████████████████████| 58 kB 2.0 MB/s \n",
            "\u001b[?25hRequirement already satisfied: urllib3<1.25,>=1.21.1 in /usr/local/lib/python3.6/dist-packages (from kaggle==1.5.6) (1.24.3)\n",
            "Requirement already satisfied: six>=1.10 in /usr/local/lib/python3.6/dist-packages (from kaggle==1.5.6) (1.12.0)\n",
            "Requirement already satisfied: certifi in /usr/local/lib/python3.6/dist-packages (from kaggle==1.5.6) (2020.6.20)\n",
            "Requirement already satisfied: python-dateutil in /usr/local/lib/python3.6/dist-packages (from kaggle==1.5.6) (2.8.1)\n",
            "Requirement already satisfied: requests in /usr/local/lib/python3.6/dist-packages (from kaggle==1.5.6) (2.23.0)\n",
            "Requirement already satisfied: tqdm in /usr/local/lib/python3.6/dist-packages (from kaggle==1.5.6) (4.41.1)\n",
            "Requirement already satisfied: python-slugify in /usr/local/lib/python3.6/dist-packages (from kaggle==1.5.6) (4.0.0)\n",
            "Requirement already satisfied: idna<3,>=2.5 in /usr/local/lib/python3.6/dist-packages (from requests->kaggle==1.5.6) (2.9)\n",
            "Requirement already satisfied: chardet<4,>=3.0.2 in /usr/local/lib/python3.6/dist-packages (from requests->kaggle==1.5.6) (3.0.4)\n",
            "Requirement already satisfied: text-unidecode>=1.3 in /usr/local/lib/python3.6/dist-packages (from python-slugify->kaggle==1.5.6) (1.3)\n",
            "Building wheels for collected packages: kaggle\n",
            "  Building wheel for kaggle (setup.py) ... \u001b[?25l\u001b[?25hdone\n",
            "  Created wheel for kaggle: filename=kaggle-1.5.6-py3-none-any.whl size=72859 sha256=0911cb171471e5bdb784e300bc07d6a4d01811c10b11d3a66dc380c85b73aabc\n",
            "  Stored in directory: /root/.cache/pip/wheels/01/3e/ff/77407ebac3ef71a79b9166a8382aecf88415a0bcbe3c095a01\n",
            "Successfully built kaggle\n",
            "Installing collected packages: kaggle\n",
            "Successfully installed kaggle-1.5.6\n"
          ],
          "name": "stdout"
        }
      ]
    },
    {
      "cell_type": "code",
      "metadata": {
        "id": "-cAsor2OSX5W",
        "colab_type": "code",
        "colab": {
          "base_uri": "https://localhost:8080/",
          "height": 34
        },
        "outputId": "7f752395-3778-4be2-bbc9-667f579a4888"
      },
      "source": [
        "!mkdir -p ~/.kaggle\n",
        "!cp kaggle.json ~/.kaggle\n",
        "!ls -lha kaggle.json\n",
        "!chmod 600 ~/.kaggle/kaggle.json"
      ],
      "execution_count": 2,
      "outputs": [
        {
          "output_type": "stream",
          "text": [
            "-rw-r--r-- 1 root root 68 Jun 28 04:56 kaggle.json\n"
          ],
          "name": "stdout"
        }
      ]
    },
    {
      "cell_type": "code",
      "metadata": {
        "id": "kf67yNg_SoHW",
        "colab_type": "code",
        "colab": {
          "base_uri": "https://localhost:8080/",
          "height": 68
        },
        "outputId": "656301d5-d7da-4ab0-8085-e09e7bf60320"
      },
      "source": [
        "!kaggle competitions download -c 18011765watermelon-price"
      ],
      "execution_count": 3,
      "outputs": [
        {
          "output_type": "stream",
          "text": [
            "Downloading 18011765watermelon-price.zip to /content\n",
            "\r  0% 0.00/12.4k [00:00<?, ?B/s]\n",
            "\r100% 12.4k/12.4k [00:00<00:00, 10.7MB/s]\n"
          ],
          "name": "stdout"
        }
      ]
    },
    {
      "cell_type": "code",
      "metadata": {
        "id": "bvAhEVYCSv2X",
        "colab_type": "code",
        "colab": {
          "base_uri": "https://localhost:8080/",
          "height": 85
        },
        "outputId": "d9d52264-95eb-4f84-c8cf-15ac70f58709"
      },
      "source": [
        "!unzip 18011765watermelon-price.zip"
      ],
      "execution_count": 4,
      "outputs": [
        {
          "output_type": "stream",
          "text": [
            "Archive:  18011765watermelon-price.zip\n",
            "  inflating: submit_sample.csv       \n",
            "  inflating: test_watermelon_price.csv  \n",
            "  inflating: train_water_melon_price.csv  \n"
          ],
          "name": "stdout"
        }
      ]
    },
    {
      "cell_type": "code",
      "metadata": {
        "id": "IyutDkX8Sys5",
        "colab_type": "code",
        "colab": {}
      },
      "source": [
        "import pandas as pd\n",
        "import numpy as np\n",
        "import torch\n",
        "import torchvision.datasets as datasets\n",
        "import torchvision.transforms as transforms\n",
        "import torch.nn.functional as F\n",
        "import torch.nn as nn \n",
        "import torch.optim as optim"
      ],
      "execution_count": 6,
      "outputs": []
    },
    {
      "cell_type": "code",
      "metadata": {
        "id": "FZW6PKRPTOZ3",
        "colab_type": "code",
        "colab": {}
      },
      "source": [
        "device = 'cuda' if torch.cuda.is_available() else 'cpu'\n",
        "\n",
        "torch.manual_seed(777)\n",
        "if device == 'cuda':\n",
        "    torch.cuda.manual_seed_all(777)"
      ],
      "execution_count": 7,
      "outputs": []
    },
    {
      "cell_type": "code",
      "metadata": {
        "id": "WTe-h22YTcxi",
        "colab_type": "code",
        "colab": {
          "base_uri": "https://localhost:8080/",
          "height": 527
        },
        "outputId": "161cfc03-ef69-453d-9898-f4d55c692a80"
      },
      "source": [
        "train = pd.read_csv('train_water_melon_price.csv')\n",
        "print(train.head(10))\n",
        "print(train.info())"
      ],
      "execution_count": 11,
      "outputs": [
        {
          "output_type": "stream",
          "text": [
            "         date  sunshineHr  avgTemp  ...  minTemp  avgRainfall  avgPrice\n",
            "0  2010-01-04         9.6     -1.8  ...    -16.8          5.9     16129\n",
            "1  2010-01-05         9.6     -5.2  ...    -21.5          0.7     16557\n",
            "2  2010-01-06         9.6     -7.3  ...    -26.8          0.3     16129\n",
            "3  2010-01-07         9.6     -6.7  ...    -25.8          0.0     16350\n",
            "4  2010-01-08         9.7     -5.6  ...    -23.7          0.0     16350\n",
            "5  2010-01-11         9.7     -1.5  ...    -16.3          0.0     16767\n",
            "6  2010-01-12         9.7     -5.0  ...    -18.9          0.4     16767\n",
            "7  2010-01-13         9.8     -8.3  ...    -23.5          0.7     17017\n",
            "8  2010-01-14         9.8     -6.4  ...    -24.8          0.1     17017\n",
            "9  2010-01-15         9.8     -2.6  ...    -18.7          0.1     17183\n",
            "\n",
            "[10 rows x 9 columns]\n",
            "<class 'pandas.core.frame.DataFrame'>\n",
            "RangeIndex: 749 entries, 0 to 748\n",
            "Data columns (total 9 columns):\n",
            " #   Column       Non-Null Count  Dtype  \n",
            "---  ------       --------------  -----  \n",
            " 0   date         749 non-null    object \n",
            " 1   sunshineHr   749 non-null    float64\n",
            " 2   avgTemp      749 non-null    float64\n",
            " 3   avgmaxTemp   749 non-null    float64\n",
            " 4   maxTemp      749 non-null    float64\n",
            " 5   avgminTemp   749 non-null    float64\n",
            " 6   minTemp      749 non-null    float64\n",
            " 7   avgRainfall  749 non-null    float64\n",
            " 8   avgPrice     749 non-null    int64  \n",
            "dtypes: float64(7), int64(1), object(1)\n",
            "memory usage: 52.8+ KB\n",
            "None\n"
          ],
          "name": "stdout"
        }
      ]
    },
    {
      "cell_type": "code",
      "metadata": {
        "id": "2EAXnAw3UUg6",
        "colab_type": "code",
        "colab": {
          "base_uri": "https://localhost:8080/",
          "height": 476
        },
        "outputId": "586658aa-a634-4be0-f6d6-618a287f531a"
      },
      "source": [
        "test = pd.read_csv('test_watermelon_price.csv')\n",
        "print(test.head(10))\n",
        "print(test.info())"
      ],
      "execution_count": 13,
      "outputs": [
        {
          "output_type": "stream",
          "text": [
            "         date  sunshineHr  avgTemp  ...  avgminTemp  minTemp  avgRainfall\n",
            "0  2013-01-02         9.6     -6.0  ...       -11.2    -22.8          0.4\n",
            "1  2013-02-01        10.3      8.6  ...         4.8     -1.9         31.3\n",
            "2  2013-03-04        11.5      3.4  ...        -2.7     -8.0          0.0\n",
            "3  2013-04-01        12.6      9.2  ...         1.1     -3.8          0.0\n",
            "4  2013-05-02        13.8     11.8  ...         6.7      1.7          1.1\n",
            "5  2013-06-03        14.7     20.1  ...        14.2      5.8          0.0\n",
            "6  2013-07-01        14.8     25.4  ...        21.1     15.4          0.0\n",
            "7  2013-08-01        14.1     27.2  ...        23.8     18.3          3.6\n",
            "\n",
            "[8 rows x 8 columns]\n",
            "<class 'pandas.core.frame.DataFrame'>\n",
            "RangeIndex: 8 entries, 0 to 7\n",
            "Data columns (total 8 columns):\n",
            " #   Column       Non-Null Count  Dtype  \n",
            "---  ------       --------------  -----  \n",
            " 0   date         8 non-null      object \n",
            " 1   sunshineHr   8 non-null      float64\n",
            " 2   avgTemp      8 non-null      float64\n",
            " 3   avgmaxTemp   8 non-null      float64\n",
            " 4   maxTemp      8 non-null      float64\n",
            " 5   avgminTemp   8 non-null      float64\n",
            " 6   minTemp      8 non-null      float64\n",
            " 7   avgRainfall  8 non-null      float64\n",
            "dtypes: float64(7), object(1)\n",
            "memory usage: 640.0+ bytes\n",
            "None\n"
          ],
          "name": "stdout"
        }
      ]
    },
    {
      "cell_type": "code",
      "metadata": {
        "id": "20NlbtI7ZFcx",
        "colab_type": "code",
        "colab": {}
      },
      "source": [
        "learning_rate = 0.01\n",
        "training_epoch = 2000\n",
        "batch_size = 50"
      ],
      "execution_count": 48,
      "outputs": []
    },
    {
      "cell_type": "code",
      "metadata": {
        "id": "tQgwiCoMUiA5",
        "colab_type": "code",
        "colab": {
          "base_uri": "https://localhost:8080/",
          "height": 51
        },
        "outputId": "dc7c4896-26d2-430b-ffba-383d0dbde0cf"
      },
      "source": [
        "x_train = train.iloc[:,1:-1]\n",
        "y_train = train.iloc[:,[-1]]\n",
        "\n",
        "x_train = np.array(x_train)\n",
        "y_train = np.array(y_train)\n",
        "\n",
        "x_train = torch.FloatTensor(x_train)\n",
        "y_train = torch.FloatTensor(y_train)\n",
        "\n",
        "print(x_train.shape)\n",
        "print(y_train.shape)"
      ],
      "execution_count": 49,
      "outputs": [
        {
          "output_type": "stream",
          "text": [
            "torch.Size([749, 7])\n",
            "torch.Size([749, 1])\n"
          ],
          "name": "stdout"
        }
      ]
    },
    {
      "cell_type": "code",
      "metadata": {
        "id": "z45kRYe7W_ts",
        "colab_type": "code",
        "colab": {}
      },
      "source": [
        "train_dataset = torch.utils.data.TensorDataset(x_train,y_train)\n",
        "\n",
        "data_loader = torch.utils.data.DataLoader(dataset=train_dataset,\n",
        "                                          batch_size = batch_size,\n",
        "                                          shuffle=True,\n",
        "                                          drop_last=True)\n",
        "\n"
      ],
      "execution_count": 50,
      "outputs": []
    },
    {
      "cell_type": "code",
      "metadata": {
        "id": "fFu5MJ-JZjiH",
        "colab_type": "code",
        "colab": {}
      },
      "source": [
        "class MishFunction(torch.autograd.Function):\n",
        "    @staticmethod\n",
        "    def forward(ctx, x):\n",
        "        ctx.save_for_backward(x)\n",
        "        return x * torch.tanh(F.softplus(x))   # x * tanh(ln(1 + exp(x)))\n",
        "\n",
        "    @staticmethod\n",
        "    def backward(ctx, grad_output):\n",
        "        x = ctx.saved_variables[0]\n",
        "        sigmoid = torch.sigmoid(x)\n",
        "        tanh_sp = torch.tanh(F.softplus(x)) \n",
        "        return grad_output * (tanh_sp + x * sigmoid * (1 - tanh_sp * tanh_sp))\n",
        "\n",
        "class Mish(nn.Module):\n",
        "    def forward(self, x):\n",
        "        return MishFunction.apply(x)\n",
        "\n",
        "def to_Mish(model):\n",
        "    for child_name, child in model.named_children():\n",
        "        if isinstance(child, nn.ReLU):\n",
        "            setattr(model, child_name, Mish())\n",
        "        else:\n",
        "            to_Mish(child)"
      ],
      "execution_count": 51,
      "outputs": []
    },
    {
      "cell_type": "code",
      "metadata": {
        "id": "ekC-OQSbZNL6",
        "colab_type": "code",
        "colab": {}
      },
      "source": [
        "linear1 = nn.Linear(7,8,bias=True)\n",
        "linear2 = nn.Linear(8,8,bias=True)\n",
        "linear3 = nn.Linear(8,8,bias=True)\n",
        "linear4 = nn.Linear(8,8,bias=True)\n",
        "linear5 = nn.Linear(8,1,bias=True)\n",
        "mish = Mish() # activation function\n"
      ],
      "execution_count": 52,
      "outputs": []
    },
    {
      "cell_type": "code",
      "metadata": {
        "id": "MKFL-y9NZn-j",
        "colab_type": "code",
        "colab": {
          "base_uri": "https://localhost:8080/",
          "height": 68
        },
        "outputId": "7f8b63bd-fbef-4b25-a0c4-867bb4cd5309"
      },
      "source": [
        "nn.init.kaiming_normal_(linear1.weight)\n",
        "nn.init.kaiming_uniform_(linear2.weight)\n",
        "nn.init.kaiming_uniform_(linear3.weight)\n",
        "nn.init.kaiming_normal_(linear4.weight)\n",
        "nn.init.kaiming_uniform_(linear5.weight)\n"
      ],
      "execution_count": 53,
      "outputs": [
        {
          "output_type": "execute_result",
          "data": {
            "text/plain": [
              "Parameter containing:\n",
              "tensor([[ 0.6276,  0.1401,  0.6147,  0.1417, -0.6245, -0.3665, -0.3715, -0.6858]],\n",
              "       requires_grad=True)"
            ]
          },
          "metadata": {
            "tags": []
          },
          "execution_count": 53
        }
      ]
    },
    {
      "cell_type": "code",
      "metadata": {
        "id": "B1kc2zRlZzW_",
        "colab_type": "code",
        "colab": {}
      },
      "source": [
        "model = torch.nn.Sequential(\n",
        "    linear1,mish,\n",
        "    linear2,mish,\n",
        "    linear3,mish,\n",
        "    linear4,mish,\n",
        "    linear5\n",
        ").to(device)"
      ],
      "execution_count": 54,
      "outputs": []
    },
    {
      "cell_type": "code",
      "metadata": {
        "id": "c_zG2k5MaA10",
        "colab_type": "code",
        "colab": {}
      },
      "source": [
        "loss = nn.MSELoss().to(device)\n",
        "optimizer = optim.Adam(model.parameters(),lr=learning_rate)"
      ],
      "execution_count": 55,
      "outputs": []
    },
    {
      "cell_type": "code",
      "metadata": {
        "id": "Q3B2SPU0aTUa",
        "colab_type": "code",
        "colab": {
          "base_uri": "https://localhost:8080/",
          "height": 1000
        },
        "outputId": "81b1f6f8-216b-4f6c-f5a9-8defd6f48705"
      },
      "source": [
        "total_batch = len(data_loader)\n",
        "\n",
        "for epoch in range(training_epoch):\n",
        "    avg_cost = 0\n",
        "    for X,Y in data_loader:\n",
        "        X = X.to(device)\n",
        "        Y = Y.to(device)\n",
        "\n",
        "        optimizer.zero_grad()\n",
        "        hypothesis = model(X)\n",
        "        cost = loss(hypothesis,Y)\n",
        "        cost.backward()\n",
        "        optimizer.step()\n",
        "\n",
        "\n",
        "        avg_cost += cost/total_batch\n",
        "    \n",
        "    if epoch % 10 == 0:  \n",
        "        print('Epoch:', '%d' % (epoch ), 'Cost =', '{:.9f}'.format(avg_cost))\n",
        "print('Learning Finished')"
      ],
      "execution_count": 56,
      "outputs": [
        {
          "output_type": "stream",
          "text": [
            "Epoch: 0"
          ],
          "name": "stdout"
        },
        {
          "output_type": "stream",
          "text": [
            "/usr/local/lib/python3.6/dist-packages/ipykernel_launcher.py:9: DeprecationWarning: 'saved_variables' is deprecated; use 'saved_tensors'\n",
            "  if __name__ == '__main__':\n"
          ],
          "name": "stderr"
        },
        {
          "output_type": "stream",
          "text": [
            " Cost = 381654592.000000000\n",
            "Epoch: 10 Cost = 16153669.000000000\n",
            "Epoch: 20 Cost = 15098420.000000000\n",
            "Epoch: 30 Cost = 14467705.000000000\n",
            "Epoch: 40 Cost = 13947405.000000000\n",
            "Epoch: 50 Cost = 13827656.000000000\n",
            "Epoch: 60 Cost = 13414179.000000000\n",
            "Epoch: 70 Cost = 13077185.000000000\n",
            "Epoch: 80 Cost = 13046451.000000000\n",
            "Epoch: 90 Cost = 12991767.000000000\n",
            "Epoch: 100 Cost = 13119215.000000000\n",
            "Epoch: 110 Cost = 12714568.000000000\n",
            "Epoch: 120 Cost = 12739696.000000000\n",
            "Epoch: 130 Cost = 12500649.000000000\n",
            "Epoch: 140 Cost = 12418009.000000000\n",
            "Epoch: 150 Cost = 12261992.000000000\n",
            "Epoch: 160 Cost = 12162029.000000000\n",
            "Epoch: 170 Cost = 12444222.000000000\n",
            "Epoch: 180 Cost = 12011081.000000000\n",
            "Epoch: 190 Cost = 12002901.000000000\n",
            "Epoch: 200 Cost = 11819812.000000000\n",
            "Epoch: 210 Cost = 11890699.000000000\n",
            "Epoch: 220 Cost = 12075926.000000000\n",
            "Epoch: 230 Cost = 11897220.000000000\n",
            "Epoch: 240 Cost = 12239332.000000000\n",
            "Epoch: 250 Cost = 11823473.000000000\n",
            "Epoch: 260 Cost = 11532607.000000000\n",
            "Epoch: 270 Cost = 11518178.000000000\n",
            "Epoch: 280 Cost = 11255541.000000000\n",
            "Epoch: 290 Cost = 11511937.000000000\n",
            "Epoch: 300 Cost = 11627715.000000000\n",
            "Epoch: 310 Cost = 11318844.000000000\n",
            "Epoch: 320 Cost = 11100849.000000000\n",
            "Epoch: 330 Cost = 11148763.000000000\n",
            "Epoch: 340 Cost = 11256794.000000000\n",
            "Epoch: 350 Cost = 11241610.000000000\n",
            "Epoch: 360 Cost = 10760636.000000000\n",
            "Epoch: 370 Cost = 10978394.000000000\n",
            "Epoch: 380 Cost = 10778103.000000000\n",
            "Epoch: 390 Cost = 11329842.000000000\n",
            "Epoch: 400 Cost = 11211563.000000000\n",
            "Epoch: 410 Cost = 10800006.000000000\n",
            "Epoch: 420 Cost = 10475018.000000000\n",
            "Epoch: 430 Cost = 11537254.000000000\n",
            "Epoch: 440 Cost = 10464850.000000000\n",
            "Epoch: 450 Cost = 10127905.000000000\n",
            "Epoch: 460 Cost = 9887425.000000000\n",
            "Epoch: 470 Cost = 10216412.000000000\n",
            "Epoch: 480 Cost = 9986864.000000000\n",
            "Epoch: 490 Cost = 9918576.000000000\n",
            "Epoch: 500 Cost = 10355520.000000000\n",
            "Epoch: 510 Cost = 10327825.000000000\n",
            "Epoch: 520 Cost = 10856060.000000000\n",
            "Epoch: 530 Cost = 9751067.000000000\n",
            "Epoch: 540 Cost = 9748305.000000000\n",
            "Epoch: 550 Cost = 9597153.000000000\n",
            "Epoch: 560 Cost = 9939924.000000000\n",
            "Epoch: 570 Cost = 9783178.000000000\n",
            "Epoch: 580 Cost = 10155955.000000000\n",
            "Epoch: 590 Cost = 9575211.000000000\n",
            "Epoch: 600 Cost = 10136686.000000000\n",
            "Epoch: 610 Cost = 9504582.000000000\n",
            "Epoch: 620 Cost = 9333457.000000000\n",
            "Epoch: 630 Cost = 9922496.000000000\n",
            "Epoch: 640 Cost = 9553217.000000000\n",
            "Epoch: 650 Cost = 9734205.000000000\n",
            "Epoch: 660 Cost = 9175794.000000000\n",
            "Epoch: 670 Cost = 9437217.000000000\n",
            "Epoch: 680 Cost = 9188057.000000000\n",
            "Epoch: 690 Cost = 9156614.000000000\n",
            "Epoch: 700 Cost = 9111319.000000000\n",
            "Epoch: 710 Cost = 9115957.000000000\n",
            "Epoch: 720 Cost = 9018694.000000000\n",
            "Epoch: 730 Cost = 8916494.000000000\n",
            "Epoch: 740 Cost = 9468335.000000000\n",
            "Epoch: 750 Cost = 8845118.000000000\n",
            "Epoch: 760 Cost = 9320103.000000000\n",
            "Epoch: 770 Cost = 9315356.000000000\n",
            "Epoch: 780 Cost = 8773128.000000000\n",
            "Epoch: 790 Cost = 8778497.000000000\n",
            "Epoch: 800 Cost = 9006354.000000000\n",
            "Epoch: 810 Cost = 8924451.000000000\n",
            "Epoch: 820 Cost = 8989500.000000000\n",
            "Epoch: 830 Cost = 9512366.000000000\n",
            "Epoch: 840 Cost = 9374182.000000000\n",
            "Epoch: 850 Cost = 8832925.000000000\n",
            "Epoch: 860 Cost = 8976786.000000000\n",
            "Epoch: 870 Cost = 9152253.000000000\n",
            "Epoch: 880 Cost = 9781633.000000000\n",
            "Epoch: 890 Cost = 8870070.000000000\n",
            "Epoch: 900 Cost = 8839192.000000000\n",
            "Epoch: 910 Cost = 8488591.000000000\n",
            "Epoch: 920 Cost = 8648547.000000000\n",
            "Epoch: 930 Cost = 8671663.000000000\n",
            "Epoch: 940 Cost = 9568972.000000000\n",
            "Epoch: 950 Cost = 8817189.000000000\n",
            "Epoch: 960 Cost = 8610531.000000000\n",
            "Epoch: 970 Cost = 8580416.000000000\n",
            "Epoch: 980 Cost = 8679660.000000000\n",
            "Epoch: 990 Cost = 8582330.000000000\n",
            "Epoch: 1000 Cost = 8472548.000000000\n",
            "Epoch: 1010 Cost = 8594122.000000000\n",
            "Epoch: 1020 Cost = 8407431.000000000\n",
            "Epoch: 1030 Cost = 8683736.000000000\n",
            "Epoch: 1040 Cost = 8832140.000000000\n",
            "Epoch: 1050 Cost = 8478201.000000000\n",
            "Epoch: 1060 Cost = 9232596.000000000\n",
            "Epoch: 1070 Cost = 8227148.500000000\n",
            "Epoch: 1080 Cost = 8609588.000000000\n",
            "Epoch: 1090 Cost = 8364261.500000000\n",
            "Epoch: 1100 Cost = 8460786.000000000\n",
            "Epoch: 1110 Cost = 8108831.500000000\n",
            "Epoch: 1120 Cost = 8439438.000000000\n",
            "Epoch: 1130 Cost = 8155193.000000000\n",
            "Epoch: 1140 Cost = 8086406.000000000\n",
            "Epoch: 1150 Cost = 8525735.000000000\n",
            "Epoch: 1160 Cost = 8153427.000000000\n",
            "Epoch: 1170 Cost = 8310193.500000000\n",
            "Epoch: 1180 Cost = 8342141.000000000\n",
            "Epoch: 1190 Cost = 8295144.500000000\n",
            "Epoch: 1200 Cost = 8134322.500000000\n",
            "Epoch: 1210 Cost = 8387121.000000000\n",
            "Epoch: 1220 Cost = 8614716.000000000\n",
            "Epoch: 1230 Cost = 8717317.000000000\n",
            "Epoch: 1240 Cost = 8131475.000000000\n",
            "Epoch: 1250 Cost = 8262347.500000000\n",
            "Epoch: 1260 Cost = 8149412.500000000\n",
            "Epoch: 1270 Cost = 8449755.000000000\n",
            "Epoch: 1280 Cost = 8120915.000000000\n",
            "Epoch: 1290 Cost = 7998101.000000000\n",
            "Epoch: 1300 Cost = 8262191.000000000\n",
            "Epoch: 1310 Cost = 8069915.000000000\n",
            "Epoch: 1320 Cost = 8284195.000000000\n",
            "Epoch: 1330 Cost = 8313516.000000000\n",
            "Epoch: 1340 Cost = 8172982.000000000\n",
            "Epoch: 1350 Cost = 8635029.000000000\n",
            "Epoch: 1360 Cost = 8006342.500000000\n",
            "Epoch: 1370 Cost = 8101564.500000000\n",
            "Epoch: 1380 Cost = 8184739.500000000\n",
            "Epoch: 1390 Cost = 8160160.500000000\n",
            "Epoch: 1400 Cost = 8254723.000000000\n",
            "Epoch: 1410 Cost = 8080693.000000000\n",
            "Epoch: 1420 Cost = 8328830.000000000\n",
            "Epoch: 1430 Cost = 8100272.000000000\n",
            "Epoch: 1440 Cost = 8076729.500000000\n",
            "Epoch: 1450 Cost = 8100553.000000000\n",
            "Epoch: 1460 Cost = 8136638.500000000\n",
            "Epoch: 1470 Cost = 7991862.000000000\n",
            "Epoch: 1480 Cost = 8116163.000000000\n",
            "Epoch: 1490 Cost = 8390680.000000000\n",
            "Epoch: 1500 Cost = 8096628.000000000\n",
            "Epoch: 1510 Cost = 7820555.000000000\n",
            "Epoch: 1520 Cost = 7920798.500000000\n",
            "Epoch: 1530 Cost = 8101311.000000000\n",
            "Epoch: 1540 Cost = 8214576.000000000\n",
            "Epoch: 1550 Cost = 8226044.000000000\n",
            "Epoch: 1560 Cost = 7908908.500000000\n",
            "Epoch: 1570 Cost = 8354948.000000000\n",
            "Epoch: 1580 Cost = 7814779.000000000\n",
            "Epoch: 1590 Cost = 8161758.500000000\n",
            "Epoch: 1600 Cost = 8413323.000000000\n",
            "Epoch: 1610 Cost = 8410818.000000000\n",
            "Epoch: 1620 Cost = 7908052.500000000\n",
            "Epoch: 1630 Cost = 8063873.000000000\n",
            "Epoch: 1640 Cost = 8531009.000000000\n",
            "Epoch: 1650 Cost = 7836649.000000000\n",
            "Epoch: 1660 Cost = 7996554.000000000\n",
            "Epoch: 1670 Cost = 8395792.000000000\n",
            "Epoch: 1680 Cost = 7932690.500000000\n",
            "Epoch: 1690 Cost = 8240611.000000000\n",
            "Epoch: 1700 Cost = 8083510.000000000\n",
            "Epoch: 1710 Cost = 7787422.000000000\n",
            "Epoch: 1720 Cost = 8006868.000000000\n",
            "Epoch: 1730 Cost = 7983518.000000000\n",
            "Epoch: 1740 Cost = 7768702.000000000\n",
            "Epoch: 1750 Cost = 7939561.000000000\n",
            "Epoch: 1760 Cost = 7861597.000000000\n",
            "Epoch: 1770 Cost = 7642886.500000000\n",
            "Epoch: 1780 Cost = 8083097.500000000\n",
            "Epoch: 1790 Cost = 7819498.500000000\n",
            "Epoch: 1800 Cost = 8025949.000000000\n",
            "Epoch: 1810 Cost = 7651727.500000000\n",
            "Epoch: 1820 Cost = 8114202.500000000\n",
            "Epoch: 1830 Cost = 8013746.000000000\n",
            "Epoch: 1840 Cost = 7851743.000000000\n",
            "Epoch: 1850 Cost = 8070892.000000000\n",
            "Epoch: 1860 Cost = 7636794.000000000\n",
            "Epoch: 1870 Cost = 7645315.500000000\n",
            "Epoch: 1880 Cost = 8182859.000000000\n",
            "Epoch: 1890 Cost = 7852323.500000000\n",
            "Epoch: 1900 Cost = 7873343.000000000\n",
            "Epoch: 1910 Cost = 7478073.500000000\n",
            "Epoch: 1920 Cost = 7837282.500000000\n",
            "Epoch: 1930 Cost = 8229732.500000000\n",
            "Epoch: 1940 Cost = 8355807.000000000\n",
            "Epoch: 1950 Cost = 7901119.000000000\n",
            "Epoch: 1960 Cost = 7563764.000000000\n",
            "Epoch: 1970 Cost = 8088600.000000000\n",
            "Epoch: 1980 Cost = 7877369.000000000\n",
            "Epoch: 1990 Cost = 7642709.500000000\n",
            "Learning Finished\n"
          ],
          "name": "stdout"
        }
      ]
    },
    {
      "cell_type": "code",
      "metadata": {
        "id": "HGoWPCZsb4FK",
        "colab_type": "code",
        "colab": {
          "base_uri": "https://localhost:8080/",
          "height": 153
        },
        "outputId": "6fd23ef9-dc5f-4188-9861-1f818dc72c04"
      },
      "source": [
        "test_data = test.iloc[:,1:]\n",
        "test_data = np.array(test_data)\n",
        "test_data = torch.FloatTensor(test_data).to(device)\n",
        "\n",
        "with torch.no_grad():\n",
        "    predict = model(test_data)\n",
        "\n",
        "predict"
      ],
      "execution_count": 57,
      "outputs": [
        {
          "output_type": "execute_result",
          "data": {
            "text/plain": [
              "tensor([[18788.8906],\n",
              "        [19067.3984],\n",
              "        [22644.0332],\n",
              "        [21807.7676],\n",
              "        [18758.5898],\n",
              "        [16689.5898],\n",
              "        [15090.7832],\n",
              "        [20061.3652]], device='cuda:0')"
            ]
          },
          "metadata": {
            "tags": []
          },
          "execution_count": 57
        }
      ]
    },
    {
      "cell_type": "code",
      "metadata": {
        "id": "hbVt3X-1d6KL",
        "colab_type": "code",
        "colab": {}
      },
      "source": [
        "correct_prediction = predict.cpu().numpy().reshape(-1,1)"
      ],
      "execution_count": 58,
      "outputs": []
    },
    {
      "cell_type": "code",
      "metadata": {
        "id": "SzEv8Kd3cdAl",
        "colab_type": "code",
        "colab": {
          "base_uri": "https://localhost:8080/",
          "height": 297
        },
        "outputId": "9cfa78c4-64b1-4183-fc02-dd018a12585c"
      },
      "source": [
        "submit = pd.read_csv('submit_sample.csv')\n",
        "for i in range(len(correct_prediction)):\n",
        "  submit['Expected'][i]=correct_prediction[i].item()\n",
        "submit.to_csv('submit.csv', mode = 'w', index = False, header = True)\n",
        "submit\n"
      ],
      "execution_count": 59,
      "outputs": [
        {
          "output_type": "execute_result",
          "data": {
            "text/html": [
              "<div>\n",
              "<style scoped>\n",
              "    .dataframe tbody tr th:only-of-type {\n",
              "        vertical-align: middle;\n",
              "    }\n",
              "\n",
              "    .dataframe tbody tr th {\n",
              "        vertical-align: top;\n",
              "    }\n",
              "\n",
              "    .dataframe thead th {\n",
              "        text-align: right;\n",
              "    }\n",
              "</style>\n",
              "<table border=\"1\" class=\"dataframe\">\n",
              "  <thead>\n",
              "    <tr style=\"text-align: right;\">\n",
              "      <th></th>\n",
              "      <th>Id</th>\n",
              "      <th>Expected</th>\n",
              "    </tr>\n",
              "  </thead>\n",
              "  <tbody>\n",
              "    <tr>\n",
              "      <th>0</th>\n",
              "      <td>1</td>\n",
              "      <td>18788</td>\n",
              "    </tr>\n",
              "    <tr>\n",
              "      <th>1</th>\n",
              "      <td>2</td>\n",
              "      <td>19067</td>\n",
              "    </tr>\n",
              "    <tr>\n",
              "      <th>2</th>\n",
              "      <td>3</td>\n",
              "      <td>22644</td>\n",
              "    </tr>\n",
              "    <tr>\n",
              "      <th>3</th>\n",
              "      <td>4</td>\n",
              "      <td>21807</td>\n",
              "    </tr>\n",
              "    <tr>\n",
              "      <th>4</th>\n",
              "      <td>5</td>\n",
              "      <td>18758</td>\n",
              "    </tr>\n",
              "    <tr>\n",
              "      <th>5</th>\n",
              "      <td>6</td>\n",
              "      <td>16689</td>\n",
              "    </tr>\n",
              "    <tr>\n",
              "      <th>6</th>\n",
              "      <td>7</td>\n",
              "      <td>15090</td>\n",
              "    </tr>\n",
              "    <tr>\n",
              "      <th>7</th>\n",
              "      <td>8</td>\n",
              "      <td>20061</td>\n",
              "    </tr>\n",
              "  </tbody>\n",
              "</table>\n",
              "</div>"
            ],
            "text/plain": [
              "   Id  Expected\n",
              "0   1     18788\n",
              "1   2     19067\n",
              "2   3     22644\n",
              "3   4     21807\n",
              "4   5     18758\n",
              "5   6     16689\n",
              "6   7     15090\n",
              "7   8     20061"
            ]
          },
          "metadata": {
            "tags": []
          },
          "execution_count": 59
        }
      ]
    },
    {
      "cell_type": "code",
      "metadata": {
        "id": "fH1GZbO4diMa",
        "colab_type": "code",
        "colab": {
          "base_uri": "https://localhost:8080/",
          "height": 51
        },
        "outputId": "70e70aa0-f6b9-48f0-c9c5-ad6c2a5de5ca"
      },
      "source": [
        "!kaggle competitions submit -c 18011765watermelon-price -f submit.csv -m \"14010974_이기택\""
      ],
      "execution_count": 60,
      "outputs": [
        {
          "output_type": "stream",
          "text": [
            "100% 76.0/76.0 [00:00<00:00, 95.0B/s]\n",
            "Successfully submitted to SejongAI.텀프로젝트.[수박가격예측].watermelon_price"
          ],
          "name": "stdout"
        }
      ]
    }
  ]
}
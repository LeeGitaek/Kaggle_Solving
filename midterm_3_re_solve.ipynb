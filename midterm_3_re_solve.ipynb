{
  "nbformat": 4,
  "nbformat_minor": 0,
  "metadata": {
    "colab": {
      "name": "midterm_3_re-solve.ipynb",
      "provenance": [],
      "collapsed_sections": [],
      "authorship_tag": "ABX9TyNeqwj81qoyNyfQzqlCv1Q3"
    },
    "kernelspec": {
      "name": "python3",
      "display_name": "Python 3"
    },
    "accelerator": "GPU"
  },
  "cells": [
    {
      "cell_type": "code",
      "metadata": {
        "id": "_aeeICXStavU",
        "outputId": "d4854c74-136c-4a87-d6ab-3c1530a6e415",
        "colab": {
          "base_uri": "https://localhost:8080/"
        }
      },
      "source": [
        "#2020-ml-p3-re\n",
        "!pip uninstall --y kaggle \n",
        "!pip install --upgrade pip\n",
        "!pip install kaggle==1.5.6\n",
        "\n",
        "!mkdir -p ~/.kaggle\n",
        "!cp kaggle.json ~/.kaggle/\n",
        "!chmod 600 ~/.kaggle/kaggle.json\n",
        "!kaggle -v\n"
      ],
      "execution_count": 1,
      "outputs": [
        {
          "output_type": "stream",
          "text": [
            "Uninstalling kaggle-1.5.9:\n",
            "  Successfully uninstalled kaggle-1.5.9\n",
            "Collecting pip\n",
            "\u001b[?25l  Downloading https://files.pythonhosted.org/packages/cb/28/91f26bd088ce8e22169032100d4260614fc3da435025ff389ef1d396a433/pip-20.2.4-py2.py3-none-any.whl (1.5MB)\n",
            "\u001b[K     |████████████████████████████████| 1.5MB 4.9MB/s \n",
            "\u001b[?25hInstalling collected packages: pip\n",
            "  Found existing installation: pip 19.3.1\n",
            "    Uninstalling pip-19.3.1:\n",
            "      Successfully uninstalled pip-19.3.1\n",
            "Successfully installed pip-20.2.4\n",
            "Collecting kaggle==1.5.6\n",
            "  Downloading kaggle-1.5.6.tar.gz (58 kB)\n",
            "\u001b[K     |████████████████████████████████| 58 kB 2.8 MB/s \n",
            "\u001b[?25hRequirement already satisfied: urllib3<1.25,>=1.21.1 in /usr/local/lib/python3.6/dist-packages (from kaggle==1.5.6) (1.24.3)\n",
            "Requirement already satisfied: six>=1.10 in /usr/local/lib/python3.6/dist-packages (from kaggle==1.5.6) (1.15.0)\n",
            "Requirement already satisfied: certifi in /usr/local/lib/python3.6/dist-packages (from kaggle==1.5.6) (2020.6.20)\n",
            "Requirement already satisfied: python-dateutil in /usr/local/lib/python3.6/dist-packages (from kaggle==1.5.6) (2.8.1)\n",
            "Requirement already satisfied: requests in /usr/local/lib/python3.6/dist-packages (from kaggle==1.5.6) (2.23.0)\n",
            "Requirement already satisfied: tqdm in /usr/local/lib/python3.6/dist-packages (from kaggle==1.5.6) (4.41.1)\n",
            "Requirement already satisfied: python-slugify in /usr/local/lib/python3.6/dist-packages (from kaggle==1.5.6) (4.0.1)\n",
            "Requirement already satisfied: chardet<4,>=3.0.2 in /usr/local/lib/python3.6/dist-packages (from requests->kaggle==1.5.6) (3.0.4)\n",
            "Requirement already satisfied: idna<3,>=2.5 in /usr/local/lib/python3.6/dist-packages (from requests->kaggle==1.5.6) (2.10)\n",
            "Requirement already satisfied: text-unidecode>=1.3 in /usr/local/lib/python3.6/dist-packages (from python-slugify->kaggle==1.5.6) (1.3)\n",
            "Building wheels for collected packages: kaggle\n",
            "  Building wheel for kaggle (setup.py) ... \u001b[?25l\u001b[?25hdone\n",
            "  Created wheel for kaggle: filename=kaggle-1.5.6-py3-none-any.whl size=72859 sha256=e5f02da36616b9aea6e001c162d6e25ebdd1a73cd04ceb84e5610493ac85af97\n",
            "  Stored in directory: /root/.cache/pip/wheels/01/3e/ff/77407ebac3ef71a79b9166a8382aecf88415a0bcbe3c095a01\n",
            "Successfully built kaggle\n",
            "Installing collected packages: kaggle\n",
            "Successfully installed kaggle-1.5.6\n",
            "Kaggle API 1.5.6\n"
          ],
          "name": "stdout"
        }
      ]
    },
    {
      "cell_type": "code",
      "metadata": {
        "id": "yw3ysPvoIc7p",
        "outputId": "6a4c6726-a056-40f3-eedf-3d1a714ec14c",
        "colab": {
          "base_uri": "https://localhost:8080/"
        }
      },
      "source": [
        "!kaggle competitions download -c 2020ml3re\n",
        "!unzip 2020ml3re.zip"
      ],
      "execution_count": 2,
      "outputs": [
        {
          "output_type": "stream",
          "text": [
            "Downloading 2020ml3re.zip to /content\n",
            "\r  0% 0.00/68.5k [00:00<?, ?B/s]\n",
            "\r100% 68.5k/68.5k [00:00<00:00, 44.1MB/s]\n",
            "Archive:  2020ml3re.zip\n",
            "  inflating: sample_submission.csv   \n",
            "  inflating: test.csv                \n",
            "  inflating: train.csv               \n"
          ],
          "name": "stdout"
        }
      ]
    },
    {
      "cell_type": "code",
      "metadata": {
        "id": "F5Og7qkyIjvh",
        "outputId": "e4cb2f70-f9a2-499e-dafa-5756f404bdb0",
        "colab": {
          "base_uri": "https://localhost:8080/"
        }
      },
      "source": [
        "import seaborn as sns\n",
        "import pandas as pd \n",
        "import numpy as np \n",
        "\n",
        "df_train = pd.read_csv('train.csv')\n",
        "df_test = pd.read_csv('test.csv')\n",
        "pd.options.display.max_columns = None\n",
        "print(df_train.head(20))\n",
        "print(df_test.head(20)) "
      ],
      "execution_count": 3,
      "outputs": [
        {
          "output_type": "stream",
          "text": [
            "    index  0  1   2   3   4   5   6  7  8   9  10  11  12  13  14  15  16  17  \\\n",
            "0       0  0  0   5  13   9   1   0  0  0   0  13  15  10  15   5   0   0   3   \n",
            "1       1  0  0   0  12  13   5   0  0  0   0   0  11  16   9   0   0   0   0   \n",
            "2       2  0  0   0   4  15  12   0  0  0   0   3  16  15  14   0   0   0   0   \n",
            "3       3  0  0   7  15  13   1   0  0  0   8  13   6  15   4   0   0   0   2   \n",
            "4       4  0  0   0   1  11   0   0  0  0   0   0   7   8   0   0   0   0   0   \n",
            "5       5  0  0  12  10   0   0   0  0  0   0  14  16  16  14   0   0   0   0   \n",
            "6       6  0  0   0  12  13   0   0  0  0   0   5  16   8   0   0   0   0   0   \n",
            "7       7  0  0   7   8  13  16  15  1  0   0   7   7   4  11  12   0   0   0   \n",
            "8       8  0  0   9  14   8   1   0  0  0   0  12  14  14  12   0   0   0   0   \n",
            "9       9  0  0  11  12   0   0   0  0  0   2  16  16  16  13   0   0   0   3   \n",
            "10     10  0  0   1   9  15  11   0  0  0   0  11  16   8  14   6   0   0   2   \n",
            "11     11  0  0   0   0  14  13   1  0  0   0   0   5  16  16   2   0   0   0   \n",
            "12     12  0  0   5  12   1   0   0  0  0   0  15  14   7   0   0   0   0   0   \n",
            "13     13  0  2   9  15  14   9   3  0  0   4  13   8   9  16   8   0   0   0   \n",
            "14     14  0  0   0   8  15   1   0  0  0   0   1  14  13   1   1   0   0   0   \n",
            "15     15  0  5  12  13  16  16   2  0  0  11  16  15   8   4   0   0   0   8   \n",
            "16     16  0  0   0   8  15   1   0  0  0   0   0  12  14   0   0   0   0   0   \n",
            "17     17  0  0   1   8  15  10   0  0  0   3  13  15  14  14   0   0   0   5   \n",
            "18     18  0  0  10   7  13   9   0  0  0   0   9  10  12  15   2   0   0   0   \n",
            "19     19  0  0   6  14   4   0   0  0  0   0  11  16  10   0   0   0   0   0   \n",
            "\n",
            "    18  19  20  21  22  23  24  25  26  27  28  29  30  31  32  33  34  35  \\\n",
            "0   15   2   0  11   8   0   0   4  12   0   0   8   8   0   0   5   8   0   \n",
            "1    3  15  16   6   0   0   0   7  15  16  16   2   0   0   0   0   1  16   \n",
            "2    8  13   8  16   0   0   0   0   1   6  15  11   0   0   0   1   8  13   \n",
            "3    1  13  13   0   0   0   0   0   2  15  11   1   0   0   0   0   0   1   \n",
            "4    1  13   6   2   2   0   0   0   7  15   0   9   8   0   0   5  16  10   \n",
            "5   13  16  15  10   1   0   0   0  11  16  16   7   0   0   0   0   0   4   \n",
            "6   13  16   3   0   0   0   0   0  14  13   0   0   0   0   0   0  15  12   \n",
            "7    0   0   8  13   1   0   0   4   8   8  15  15   6   0   0   2  11  15   \n",
            "8    9  10   0  15   4   0   0   0   3  16  12  14   2   0   0   0   4  16   \n",
            "9   16  12  10  14   0   0   0   1  16   1  12  15   0   0   0   0  13  16   \n",
            "10  16  10   0   9   9   0   0   1  16   4   0   8   8   0   0   4  16   4   \n",
            "11   0  14  16  12   0   0   0   1  10  16  16  12   0   0   0   3  12  14   \n",
            "12  13   1  12   0   0   0   0   2  10   0  14   0   0   0   0   0   2   0   \n",
            "13   0   6  14  15   3   0   0   0   0  11  14   2   0   0   0   0   0   2   \n",
            "14  10  15   3  15  11   0   0   7  16   7   1  16   8   0   0   9  16  13   \n",
            "15  14  11   1   0   0   0   0   8  16  16  14   0   0   0   0   1   6   6   \n",
            "16   3  16   7   0   0   0   0   0   6  16   2   0   0   0   0   0   7  16   \n",
            "17  10   0  10  12   0   0   0   0   3   5  15  10   2   0   0   0  16  16   \n",
            "18   4  11  10  11   0   0   0   0   1  16  10   1   0   0   0   0  12  13   \n",
            "19   8  14  16   2   0   0   0   0   1  12  12  11   0   0   0   0   0   0   \n",
            "\n",
            "    36  37  38  39  40  41  42  43  44  45  46  47  48  49  50  51  52  53  \\\n",
            "0    0   9   8   0   0   4  11   0   1  12   7   0   0   2  14   5  10  12   \n",
            "1   16   3   0   0   0   0   1  16  16   6   0   0   0   0   1  16  16   6   \n",
            "2   15   1   0   0   0   9  16  16   5   0   0   0   0   3  13  16  16  11   \n",
            "3   12  12   1   0   0   0   0   0   1  10   8   0   0   0   8   4   5  14   \n",
            "4    0  16   6   0   0   4  15  16  13  16   1   0   0   0   0   3  15  10   \n",
            "5    7  16   7   0   0   0   0   0   4  16   9   0   0   0   5   4  12  16   \n",
            "6    7   2   0   0   0   0  13  16  13  16   3   0   0   0   7  16  11  15   \n",
            "7   15   4   0   0   0   0   0  16   5   0   0   0   0   0   9  15   1   0   \n",
            "8   16   2   0   0   0   3  16   8  10  13   2   0   0   1  15   1   3  16   \n",
            "9    9  15   2   0   0   0   0   3   0   9  11   0   0   0   0   0   9  15   \n",
            "10   0   8   8   0   0   1  16   5   1  11   3   0   0   0  12  12  10  10   \n",
            "11  16   9   0   0   0   0   0   5  16  15   0   0   0   0   0   4  16  14   \n",
            "12  16   1   0   0   0   0   0   6  15   0   0   0   0   0   9  16  15   9   \n",
            "13  15  11   0   0   0   0   0   0   2  15   4   0   0   1   5   6  13  16   \n",
            "14  14  16   5   0   0   1  10  15  16  14   0   0   0   0   0   1  16  10   \n",
            "15  16   0   0   0   0   0   0   5  16   3   0   0   0   1   5  15  13   0   \n",
            "16  16  13   5   0   0   0  15  16   9   9  14   0   0   0   3  14   9   2   \n",
            "17  16  16  12   0   0   1   8  12  14   8   3   0   0   0   0  10  13   0   \n",
            "18   4   0   0   0   0   0  12   1  12   0   0   0   0   1  10   2  14   0   \n",
            "19   0  11   3   0   0   0   0   0   0   5  11   0   0   0   1   4   4   7   \n",
            "\n",
            "    54  55  56  57  58  59  60  61  62  63  label  \n",
            "0    0   0   0   0   6  13  10   0   0   0      0  \n",
            "1    0   0   0   0   0  11  16  10   0   0      1  \n",
            "2    5   0   0   0   0   3  11  16   9   0      2  \n",
            "3    9   0   0   0   7  13  13   9   0   0      3  \n",
            "4    0   0   0   0   0   2  16   4   0   0      4  \n",
            "5    4   0   0   0   9  16  16  10   0   0      5  \n",
            "6    8   0   0   0   1   9  15  11   3   0      6  \n",
            "7    0   0   0   0  13   5   0   0   0   0      7  \n",
            "8    8   0   0   0  11  16  15  11   1   0      8  \n",
            "9    4   0   0   0   9  12  13   3   0   0      9  \n",
            "10   0   0   0   0   1  10  13   3   0   0      0  \n",
            "11   0   0   0   0   0   1  13  16   1   0      1  \n",
            "12   8   2   0   0   3  11   8  13  12   4      2  \n",
            "13   6   0   0   2  12  12  13  11   0   0      3  \n",
            "14   0   0   0   0   0  10  15   4   0   0      4  \n",
            "15   0   0   0   4  15  16   2   0   0   0      5  \n",
            "16  16   2   0   0   0   7  15  16  11   0      6  \n",
            "17   0   0   0   0   0  11   9   0   0   0      7  \n",
            "18   0   0   0   0  11  14   5   0   0   0      8  \n",
            "19  16   2   0   0   7  16  16  13  11   1      9  \n",
            "    index    0    1     2     3     4     5     6    7    8    9    10    11  \\\n",
            "0      23  0.0  1.0   8.0  12.0  15.0  14.0   4.0  0.0  0.0  3.0  11.0   8.0   \n",
            "1      29  0.0  0.0   9.0  13.0   7.0   0.0   0.0  0.0  0.0  0.0  12.0  16.0   \n",
            "2      30  0.0  0.0  10.0  14.0  11.0   3.0   0.0  0.0  0.0  4.0  16.0  13.0   \n",
            "3      32  0.0  2.0  13.0  16.0  16.0  16.0  11.0  0.0  0.0  5.0  16.0  10.0   \n",
            "4      44  0.0  0.0   9.0  16.0  16.0  16.0   5.0  0.0  0.0  1.0  14.0  10.0   \n",
            "5      49  0.0  0.0   1.0  15.0  13.0   1.0   0.0  0.0  0.0  0.0   7.0  16.0   \n",
            "6      51  0.0  0.0   0.0   3.0  15.0  10.0   1.0  0.0  0.0  0.0   0.0  11.0   \n",
            "7      59  0.0  1.0  10.0  15.0  11.0   1.0   0.0  0.0  0.0  3.0   8.0   8.0   \n",
            "8      65  0.0  0.0   0.0   9.0  10.0   0.0   0.0  0.0  0.0  0.0   7.0  16.0   \n",
            "9      67  0.0  0.0   5.0  14.0   0.0   0.0   0.0  0.0  0.0  0.0  12.0   9.0   \n",
            "10     69  0.0  0.0   6.0  12.0  13.0   6.0   0.0  0.0  0.0  6.0  16.0   9.0   \n",
            "11     70  0.0  0.0   0.0   0.0  14.0   7.0   0.0  0.0  0.0  0.0   0.0  13.0   \n",
            "12     71  0.0  1.0  13.0  15.0  12.0  12.0   5.0  0.0  0.0  4.0  16.0   8.0   \n",
            "13     73  0.0  1.0  12.0  13.0   4.0   0.0   0.0  0.0  0.0  4.0  16.0  16.0   \n",
            "14     76  0.0  3.0   5.0  14.0  13.0   6.0   0.0  0.0  0.0  9.0  16.0  12.0   \n",
            "15     78  0.0  0.0  10.0  12.0  10.0   0.0   0.0  0.0  0.0  3.0  16.0  16.0   \n",
            "16     99  0.0  0.0   1.0  15.0  13.0   0.0   0.0  0.0  0.0  0.0   1.0  16.0   \n",
            "17    109  0.0  0.0  15.0  16.0  16.0  12.0   2.0  0.0  0.0  2.0  16.0  15.0   \n",
            "18    111  0.0  0.0   1.0  10.0   9.0   0.0   0.0  0.0  0.0  0.0   9.0  15.0   \n",
            "19    115  0.0  0.0   0.0   8.0  15.0   8.0   0.0  0.0  0.0  0.0   3.0  16.0   \n",
            "\n",
            "      12    13    14   15   16   17    18    19    20    21   22   23   24  \\\n",
            "0    8.0  12.0  12.0  0.0  0.0  0.0   0.0   0.0   2.0  13.0  7.0  0.0  0.0   \n",
            "1   16.0   2.0   0.0  0.0  0.0  0.0  12.0  13.0  16.0   6.0  0.0  0.0  0.0   \n",
            "2    6.0  14.0   1.0  0.0  0.0  4.0  16.0   2.0   0.0  11.0  7.0  0.0  0.0   \n",
            "3    5.0   4.0   1.0  0.0  0.0  6.0  16.0   7.0   3.0   0.0  0.0  0.0  0.0   \n",
            "4    8.0  16.0   8.0  0.0  0.0  0.0   0.0   0.0   7.0  16.0  3.0  0.0  0.0   \n",
            "5   14.0   8.0   0.0  0.0  0.0  8.0  12.0   9.0   2.0  13.0  2.0  0.0  0.0   \n",
            "6   10.0  16.0   4.0  0.0  0.0  0.0   0.0  12.0   1.0  15.0  6.0  0.0  0.0   \n",
            "7   11.0  12.0   0.0  0.0  0.0  0.0   0.0   5.0  14.0  15.0  1.0  0.0  0.0   \n",
            "8    7.0   0.0   0.0  0.0  0.0  0.0  13.0  13.0   1.0   0.0  0.0  0.0  0.0   \n",
            "9    0.0   0.0   0.0  0.0  0.0  0.0  15.0   3.0   0.0   0.0  0.0  0.0  0.0   \n",
            "10  12.0  16.0   2.0  0.0  0.0  7.0  16.0   9.0  15.0  13.0  0.0  0.0  0.0   \n",
            "11  16.0   9.0   0.0  0.0  0.0  0.0  10.0  16.0  16.0   7.0  0.0  0.0  0.0   \n",
            "12   8.0   6.0   0.0  0.0  0.0  7.0  13.0   0.0   0.0   0.0  0.0  0.0  0.0   \n",
            "13  16.0   3.0   0.0  0.0  0.0  4.0  16.0  16.0  16.0  10.0  0.0  0.0  0.0   \n",
            "14  10.0  12.0   0.0  0.0  0.0  6.0  16.0   3.0  12.0  11.0  0.0  0.0  0.0   \n",
            "15  16.0   4.0   0.0  0.0  0.0  7.0  15.0   3.0   8.0  13.0  0.0  0.0  0.0   \n",
            "16  16.0   5.0   0.0  0.0  0.0  0.0   7.0  16.0  16.0   0.0  0.0  0.0  0.0   \n",
            "17  12.0  12.0   3.0  0.0  0.0  4.0  16.0   8.0   0.0   0.0  0.0  0.0  0.0   \n",
            "18   4.0   0.0   0.0  0.0  0.0  1.0  16.0   5.0   0.0   0.0  0.0  0.0  0.0   \n",
            "19  12.0  16.0   4.0  0.0  0.0  0.0   2.0  10.0   1.0  16.0  4.0  0.0  0.0   \n",
            "\n",
            "     25    26    27    28    29    30   31   32   33    34    35    36    37  \\\n",
            "0   0.0   0.0   2.0  15.0  12.0   1.0  0.0  0.0  0.0   0.0   0.0  13.0   5.0   \n",
            "1   0.0   6.0  16.0  16.0  14.0   0.0  0.0  0.0  0.0   0.0   0.0   2.0  16.0   \n",
            "2   8.0  16.0   0.0   0.0  10.0   5.0  0.0  0.0  8.0  16.0   0.0   0.0  14.0   \n",
            "3   9.0  16.0  16.0  16.0   6.0   0.0  0.0  0.0  3.0   8.0   4.0  11.0  15.0   \n",
            "4   3.0   8.0  11.0  15.0  16.0  11.0  0.0  0.0  8.0  16.0  16.0  15.0  11.0   \n",
            "5   7.0   9.0   1.0   0.0   6.0   6.0  0.0  0.0  5.0   9.0   0.0   0.0   3.0   \n",
            "6   0.0   0.0   3.0   4.0  15.0   4.0  0.0  0.0  0.0   0.0   6.0  15.0   6.0   \n",
            "7   0.0   0.0  11.0  15.0   2.0   0.0  0.0  0.0  0.0   0.0   4.0  15.0   2.0   \n",
            "8   0.0  15.0   7.0   0.0   0.0   0.0  0.0  0.0  4.0  16.0  15.0  12.0   7.0   \n",
            "9   1.0  16.0   0.0   0.0   0.0   0.0  0.0  0.0  1.0  16.0   2.0   7.0   4.0   \n",
            "10  0.0  11.0  15.0  16.0   4.0   0.0  0.0  0.0  0.0   0.0  12.0  10.0   0.0   \n",
            "11  7.0  16.0   8.0  16.0   2.0   0.0  0.0  0.0  1.0   5.0   6.0  16.0   6.0   \n",
            "12  8.0  15.0  13.0  15.0   7.0   0.0  0.0  0.0  1.0   6.0   5.0   8.0  12.0   \n",
            "13  0.0   6.0  16.0  14.0  16.0   0.0  0.0  0.0  0.0   0.0   0.0   0.0  16.0   \n",
            "14  1.0  13.0  10.0  16.0   6.0   0.0  0.0  0.0  0.0  10.0  16.0  10.0   0.0   \n",
            "15  8.0  12.0   0.0   0.0  14.0   1.0  0.0  0.0  8.0  12.0   0.0   0.0   7.0   \n",
            "16  0.0  13.0  16.0  13.0   0.0   0.0  0.0  0.0  7.0  16.0  16.0  13.0   0.0   \n",
            "17  8.0  16.0  12.0   4.0   0.0   0.0  0.0  0.0  0.0  12.0  16.0  16.0   0.0   \n",
            "18  4.0  16.0   1.0   4.0  14.0   4.0  0.0  0.0  4.0  16.0  12.0  14.0  16.0   \n",
            "19  0.0   0.0   0.0   8.0  14.0   0.0  0.0  0.0  0.0   0.0   9.0  15.0   3.0   \n",
            "\n",
            "     38   39   40   41    42    43    44    45    46   47   48   49    50  \\\n",
            "0   0.0  0.0  0.0  0.0   0.0   0.0   9.0  13.0   0.0  0.0  0.0  0.0   7.0   \n",
            "1   3.0  0.0  0.0  0.0   0.0   0.0   0.0   9.0  10.0  0.0  0.0  0.0   3.0   \n",
            "2   4.0  0.0  0.0  8.0  16.0   0.0   1.0  16.0   1.0  0.0  0.0  4.0  16.0   \n",
            "3   0.0  0.0  0.0  0.0   0.0   1.0  12.0  15.0   0.0  0.0  0.0  0.0   4.0   \n",
            "4   3.0  0.0  0.0  0.0   2.0  16.0   7.0   0.0   0.0  0.0  0.0  0.0   8.0   \n",
            "5   9.0  0.0  0.0  0.0  15.0   2.0   0.0   8.0  12.0  0.0  0.0  0.0   9.0   \n",
            "6   0.0  0.0  0.0  4.0  15.0  16.0   9.0   0.0   0.0  0.0  0.0  0.0  13.0   \n",
            "7   0.0  0.0  0.0  0.0   0.0   0.0  12.0  10.0   0.0  0.0  0.0  0.0   3.0   \n",
            "8   0.0  0.0  0.0  2.0  16.0  12.0   4.0  11.0  10.0  0.0  0.0  0.0   8.0   \n",
            "9   0.0  0.0  0.0  3.0  16.0  16.0  16.0  16.0   9.0  0.0  0.0  0.0  15.0   \n",
            "10  0.0  0.0  0.0  0.0   3.0  16.0   4.0   0.0   0.0  0.0  0.0  0.0   1.0   \n",
            "11  0.0  0.0  0.0  0.0   0.0   4.0  16.0   6.0   0.0  0.0  0.0  0.0   0.0   \n",
            "12  0.0  0.0  0.0  0.0   0.0   0.0  12.0  11.0   0.0  0.0  0.0  0.0   2.0   \n",
            "13  4.0  0.0  0.0  0.0   0.0   0.0   0.0  13.0   7.0  0.0  0.0  1.0   2.0   \n",
            "14  0.0  0.0  0.0  1.0  15.0  16.0  10.0   0.0   0.0  0.0  0.0  0.0  16.0   \n",
            "15  8.0  0.0  0.0  5.0  13.0   0.0   0.0   4.0   8.0  0.0  0.0  0.0  14.0   \n",
            "16  0.0  0.0  0.0  1.0  11.0  16.0  13.0   0.0   0.0  0.0  0.0  0.0   2.0   \n",
            "17  0.0  0.0  0.0  0.0   0.0   3.0  16.0   8.0   0.0  0.0  0.0  2.0   6.0   \n",
            "18  5.0  0.0  0.0  0.0   1.0   7.0  16.0   9.0   0.0  0.0  0.0  0.0   0.0   \n",
            "19  0.0  0.0  0.0  3.0  16.0  14.0   4.0   0.0   0.0  0.0  0.0  4.0  15.0   \n",
            "\n",
            "      51    52    53    54   55   56   57    58    59    60    61    62   63  \n",
            "0    8.0  14.0  15.0   0.0  0.0  0.0  0.0  14.0  15.0  11.0   2.0   0.0  0.0  \n",
            "1    7.0  12.0  14.0  16.0  2.0  0.0  0.0   7.0  12.0  12.0  12.0  11.0  0.0  \n",
            "2    1.0  11.0  15.0   0.0  0.0  0.0  0.0  11.0  16.0  12.0   3.0   0.0  0.0  \n",
            "3   13.0  16.0   6.0   0.0  0.0  0.0  2.0  16.0  15.0   8.0   0.0   0.0  0.0  \n",
            "4   16.0   1.0   0.0   0.0  0.0  0.0  0.0  13.0  10.0   0.0   0.0   0.0  0.0  \n",
            "5   15.0  13.0  16.0   6.0  0.0  0.0  0.0   0.0  13.0  14.0   8.0   0.0  0.0  \n",
            "6   16.0  15.0   9.0   3.0  0.0  0.0  0.0   0.0   4.0   9.0  14.0   7.0  0.0  \n",
            "7    4.0  10.0  16.0   1.0  0.0  0.0  0.0  13.0  16.0  15.0  10.0   0.0  0.0  \n",
            "8   14.0   5.0   9.0  14.0  0.0  0.0  0.0   0.0   6.0  12.0  14.0   9.0  0.0  \n",
            "9   15.0   4.0  10.0  16.0  0.0  0.0  0.0   4.0  14.0  16.0  12.0   7.0  0.0  \n",
            "10  16.0   2.0   0.0   0.0  0.0  0.0  0.0   6.0  11.0   0.0   0.0   0.0  0.0  \n",
            "11   2.0  16.0   6.0   0.0  0.0  0.0  0.0   0.0   0.0  12.0  11.0   0.0  0.0  \n",
            "12  13.0  14.0   1.0   0.0  0.0  0.0  3.0  14.0  10.0   1.0   0.0   0.0  0.0  \n",
            "13   3.0   7.0  14.0  10.0  0.0  0.0  2.0  12.0  16.0  14.0  12.0   3.0  0.0  \n",
            "14  12.0  16.0   0.0   0.0  0.0  0.0  0.0   3.0  15.0  16.0   5.0   0.0  0.0  \n",
            "15   8.0   0.0  10.0   8.0  0.0  0.0  0.0   7.0  12.0  13.0  12.0   4.0  0.0  \n",
            "16  16.0  16.0   0.0   0.0  0.0  0.0  0.0   1.0  14.0  16.0   3.0   0.0  0.0  \n",
            "17   9.0  16.0   8.0   0.0  0.0  0.0  1.0  15.0  16.0  15.0   3.0   0.0  0.0  \n",
            "18   2.0  16.0   4.0   0.0  0.0  0.0  0.0   0.0  10.0  13.0   0.0   0.0  0.0  \n",
            "19  14.0   7.0   1.0   0.0  0.0  0.0  0.0   0.0   9.0  12.0  14.0   4.0  0.0  \n"
          ],
          "name": "stdout"
        }
      ]
    },
    {
      "cell_type": "code",
      "metadata": {
        "id": "AezdARIMJsk6",
        "outputId": "add6fef5-1e30-4e9f-cc74-177595750284",
        "colab": {
          "base_uri": "https://localhost:8080/"
        }
      },
      "source": [
        "X = df_train.iloc[:,1:-1]\n",
        "y = df_train.iloc[:,[-1]]\n",
        "test_x = df_test.iloc[:,1:]\n",
        "\n",
        "print(X.shape)\n",
        "print(y.shape)\n",
        "print(test_x.shape)\n"
      ],
      "execution_count": 4,
      "outputs": [
        {
          "output_type": "stream",
          "text": [
            "(1437, 64)\n",
            "(1437, 1)\n",
            "(360, 64)\n"
          ],
          "name": "stdout"
        }
      ]
    },
    {
      "cell_type": "code",
      "metadata": {
        "id": "mCpSp65k9pTA",
        "outputId": "9a227919-a42e-4d90-a319-5738389c8299",
        "colab": {
          "base_uri": "https://localhost:8080/"
        }
      },
      "source": [
        "from sklearn.model_selection import train_test_split\n",
        "\n",
        "X_train,X_test,y_train,y_test = train_test_split(X,y, test_size=0.3, random_state=777, shuffle=True)\n",
        "\n",
        "print(X_train.shape)\n",
        "print(X_test.shape)\n",
        "print(y_train.shape)\n",
        "print(y_test.shape)"
      ],
      "execution_count": 21,
      "outputs": [
        {
          "output_type": "stream",
          "text": [
            "(1005, 64)\n",
            "(432, 64)\n",
            "(1005, 1)\n",
            "(432, 1)\n"
          ],
          "name": "stdout"
        }
      ]
    },
    {
      "cell_type": "code",
      "metadata": {
        "id": "XI51-gn49Pb8",
        "outputId": "477bde7d-8094-4ebe-be10-acf19b854287",
        "colab": {
          "base_uri": "https://localhost:8080/"
        }
      },
      "source": [
        "from sklearn.neighbors import KNeighborsClassifier\n",
        "\n",
        "\n",
        "neighbors = np.arange(1,10)\n",
        "train_accuracy =np.empty(len(neighbors))\n",
        "test_accuracy = np.empty(len(neighbors))\n",
        "\n",
        "for i,k in enumerate(neighbors):\n",
        "\n",
        "    knn = KNeighborsClassifier(n_neighbors=k,weights='distance',p=10)\n",
        "    \n",
        "    knn.fit(X_train, y_train)\n",
        "\n",
        "    train_accuracy[i] = knn.score(X_train, y_train)\n",
        "    \n",
        "    test_accuracy[i] = knn.score(X_test, y_test)"
      ],
      "execution_count": 22,
      "outputs": [
        {
          "output_type": "stream",
          "text": [
            "/usr/local/lib/python3.6/dist-packages/ipykernel_launcher.py:12: DataConversionWarning: A column-vector y was passed when a 1d array was expected. Please change the shape of y to (n_samples, ), for example using ravel().\n",
            "  if sys.path[0] == '':\n",
            "/usr/local/lib/python3.6/dist-packages/ipykernel_launcher.py:12: DataConversionWarning: A column-vector y was passed when a 1d array was expected. Please change the shape of y to (n_samples, ), for example using ravel().\n",
            "  if sys.path[0] == '':\n",
            "/usr/local/lib/python3.6/dist-packages/ipykernel_launcher.py:12: DataConversionWarning: A column-vector y was passed when a 1d array was expected. Please change the shape of y to (n_samples, ), for example using ravel().\n",
            "  if sys.path[0] == '':\n",
            "/usr/local/lib/python3.6/dist-packages/ipykernel_launcher.py:12: DataConversionWarning: A column-vector y was passed when a 1d array was expected. Please change the shape of y to (n_samples, ), for example using ravel().\n",
            "  if sys.path[0] == '':\n",
            "/usr/local/lib/python3.6/dist-packages/ipykernel_launcher.py:12: DataConversionWarning: A column-vector y was passed when a 1d array was expected. Please change the shape of y to (n_samples, ), for example using ravel().\n",
            "  if sys.path[0] == '':\n",
            "/usr/local/lib/python3.6/dist-packages/ipykernel_launcher.py:12: DataConversionWarning: A column-vector y was passed when a 1d array was expected. Please change the shape of y to (n_samples, ), for example using ravel().\n",
            "  if sys.path[0] == '':\n",
            "/usr/local/lib/python3.6/dist-packages/ipykernel_launcher.py:12: DataConversionWarning: A column-vector y was passed when a 1d array was expected. Please change the shape of y to (n_samples, ), for example using ravel().\n",
            "  if sys.path[0] == '':\n",
            "/usr/local/lib/python3.6/dist-packages/ipykernel_launcher.py:12: DataConversionWarning: A column-vector y was passed when a 1d array was expected. Please change the shape of y to (n_samples, ), for example using ravel().\n",
            "  if sys.path[0] == '':\n",
            "/usr/local/lib/python3.6/dist-packages/ipykernel_launcher.py:12: DataConversionWarning: A column-vector y was passed when a 1d array was expected. Please change the shape of y to (n_samples, ), for example using ravel().\n",
            "  if sys.path[0] == '':\n"
          ],
          "name": "stderr"
        }
      ]
    },
    {
      "cell_type": "code",
      "metadata": {
        "id": "cMQDQj569dye",
        "outputId": "6915d861-0e36-419f-f4ca-c04e13e93be6",
        "colab": {
          "base_uri": "https://localhost:8080/",
          "height": 295
        }
      },
      "source": [
        "#Generate plot\n",
        "import matplotlib.pyplot as plt\n",
        "plt.title('k-NN Varying number of neighbors')\n",
        "plt.plot(neighbors, test_accuracy, label='Testing Accuracy')\n",
        "plt.plot(neighbors, train_accuracy, label='Training accuracy')\n",
        "plt.legend()\n",
        "plt.xlabel('Number of neighbors')\n",
        "plt.ylabel('Accuracy')\n",
        "plt.show()"
      ],
      "execution_count": 23,
      "outputs": [
        {
          "output_type": "display_data",
          "data": {
            "image/png": "[encoded data removed]",
            "text/plain": [
              "<Figure size 432x288 with 1 Axes>"
            ]
          },
          "metadata": {
            "tags": [],
            "needs_background": "light"
          }
        }
      ]
    },
    {
      "cell_type": "code",
      "metadata": {
        "id": "80USsgnjKvim",
        "outputId": "9ad3a453-3b8e-4d19-9db5-08a07ca3197f",
        "colab": {
          "base_uri": "https://localhost:8080/"
        }
      },
      "source": [
        "from sklearn.neighbors import KNeighborsClassifier\n",
        "\n",
        "knn = KNeighborsClassifier(n_neighbors=2,weights='distance',p=10)\n",
        "knn.fit(X,y)\n",
        "y_pred = knn.predict(test_x)\n",
        "y_pred"
      ],
      "execution_count": 24,
      "outputs": [
        {
          "output_type": "stream",
          "text": [
            "/usr/local/lib/python3.6/dist-packages/ipykernel_launcher.py:4: DataConversionWarning: A column-vector y was passed when a 1d array was expected. Please change the shape of y to (n_samples, ), for example using ravel().\n",
            "  after removing the cwd from sys.path.\n"
          ],
          "name": "stderr"
        },
        {
          "output_type": "execute_result",
          "data": {
            "text/plain": [
              "array([3, 9, 0, 5, 7, 0, 2, 3, 6, 6, 9, 1, 5, 9, 8, 0, 1, 5, 4, 2, 8, 4,\n",
              "       5, 1, 5, 8, 8, 7, 2, 0, 6, 6, 9, 1, 6, 9, 9, 5, 4, 7, 2, 4, 4, 9,\n",
              "       9, 3, 5, 4, 5, 9, 5, 4, 1, 7, 1, 0, 2, 3, 6, 4, 2, 8, 3, 7, 6, 7,\n",
              "       6, 8, 3, 5, 4, 4, 2, 7, 9, 0, 8, 8, 2, 2, 5, 7, 9, 0, 0, 4, 7, 5,\n",
              "       7, 8, 4, 0, 1, 9, 1, 7, 6, 8, 4, 4, 5, 4, 9, 2, 0, 1, 4, 6, 8, 9,\n",
              "       2, 7, 8, 8, 9, 4, 2, 2, 9, 6, 4, 9, 0, 9, 5, 2, 3, 7, 1, 7, 6, 4,\n",
              "       0, 5, 3, 2, 4, 8, 4, 5, 4, 3, 8, 9, 5, 5, 0, 0, 7, 6, 2, 4, 6, 7,\n",
              "       2, 4, 9, 2, 1, 6, 2, 3, 5, 3, 1, 0, 1, 3, 6, 4, 9, 9, 7, 1, 3, 3,\n",
              "       4, 7, 4, 8, 4, 0, 5, 6, 5, 5, 5, 1, 3, 3, 3, 4, 6, 2, 6, 9, 3, 1,\n",
              "       3, 9, 5, 5, 9, 0, 7, 8, 1, 4, 5, 8, 7, 0, 8, 1, 3, 4, 5, 8, 0, 3,\n",
              "       4, 7, 4, 9, 2, 7, 4, 8, 0, 9, 5, 8, 4, 7, 1, 2, 6, 6, 5, 3, 1, 6,\n",
              "       1, 6, 0, 7, 4, 7, 2, 5, 0, 9, 0, 5, 8, 0, 2, 5, 8, 0, 0, 9, 5, 1,\n",
              "       3, 3, 6, 5, 0, 9, 6, 0, 7, 7, 3, 1, 4, 6, 9, 7, 5, 6, 6, 8, 6, 5,\n",
              "       6, 9, 4, 3, 5, 1, 2, 6, 4, 9, 2, 0, 4, 3, 6, 4, 1, 3, 2, 0, 8, 5,\n",
              "       3, 3, 4, 5, 5, 5, 7, 0, 8, 7, 4, 9, 2, 6, 3, 9, 1, 2, 5, 7, 5, 8,\n",
              "       2, 4, 9, 1, 5, 7, 4, 5, 9, 0, 7, 0, 3, 3, 3, 4, 6, 5, 9, 2, 8, 2,\n",
              "       2, 6, 6, 1, 5, 7, 9, 8])"
            ]
          },
          "metadata": {
            "tags": []
          },
          "execution_count": 24
        }
      ]
    },
    {
      "cell_type": "code",
      "metadata": {
        "id": "B5PP64XuL13E",
        "outputId": "1c29ad05-bb58-4712-8953-e11241d7ae23",
        "colab": {
          "base_uri": "https://localhost:8080/",
          "height": 419
        }
      },
      "source": [
        "submit = pd.read_csv('sample_submission.csv')\n",
        "\n",
        "submit"
      ],
      "execution_count": 25,
      "outputs": [
        {
          "output_type": "execute_result",
          "data": {
            "text/html": [
              "<div>\n",
              "<style scoped>\n",
              "    .dataframe tbody tr th:only-of-type {\n",
              "        vertical-align: middle;\n",
              "    }\n",
              "\n",
              "    .dataframe tbody tr th {\n",
              "        vertical-align: top;\n",
              "    }\n",
              "\n",
              "    .dataframe thead th {\n",
              "        text-align: right;\n",
              "    }\n",
              "</style>\n",
              "<table border=\"1\" class=\"dataframe\">\n",
              "  <thead>\n",
              "    <tr style=\"text-align: right;\">\n",
              "      <th></th>\n",
              "      <th>index</th>\n",
              "      <th>label</th>\n",
              "    </tr>\n",
              "  </thead>\n",
              "  <tbody>\n",
              "    <tr>\n",
              "      <th>0</th>\n",
              "      <td>23</td>\n",
              "      <td>1</td>\n",
              "    </tr>\n",
              "    <tr>\n",
              "      <th>1</th>\n",
              "      <td>29</td>\n",
              "      <td>1</td>\n",
              "    </tr>\n",
              "    <tr>\n",
              "      <th>2</th>\n",
              "      <td>30</td>\n",
              "      <td>1</td>\n",
              "    </tr>\n",
              "    <tr>\n",
              "      <th>3</th>\n",
              "      <td>32</td>\n",
              "      <td>1</td>\n",
              "    </tr>\n",
              "    <tr>\n",
              "      <th>4</th>\n",
              "      <td>44</td>\n",
              "      <td>1</td>\n",
              "    </tr>\n",
              "    <tr>\n",
              "      <th>...</th>\n",
              "      <td>...</td>\n",
              "      <td>...</td>\n",
              "    </tr>\n",
              "    <tr>\n",
              "      <th>355</th>\n",
              "      <td>1774</td>\n",
              "      <td>1</td>\n",
              "    </tr>\n",
              "    <tr>\n",
              "      <th>356</th>\n",
              "      <td>1784</td>\n",
              "      <td>1</td>\n",
              "    </tr>\n",
              "    <tr>\n",
              "      <th>357</th>\n",
              "      <td>1785</td>\n",
              "      <td>1</td>\n",
              "    </tr>\n",
              "    <tr>\n",
              "      <th>358</th>\n",
              "      <td>1786</td>\n",
              "      <td>1</td>\n",
              "    </tr>\n",
              "    <tr>\n",
              "      <th>359</th>\n",
              "      <td>1790</td>\n",
              "      <td>1</td>\n",
              "    </tr>\n",
              "  </tbody>\n",
              "</table>\n",
              "<p>360 rows × 2 columns</p>\n",
              "</div>"
            ],
            "text/plain": [
              "     index  label\n",
              "0       23      1\n",
              "1       29      1\n",
              "2       30      1\n",
              "3       32      1\n",
              "4       44      1\n",
              "..     ...    ...\n",
              "355   1774      1\n",
              "356   1784      1\n",
              "357   1785      1\n",
              "358   1786      1\n",
              "359   1790      1\n",
              "\n",
              "[360 rows x 2 columns]"
            ]
          },
          "metadata": {
            "tags": []
          },
          "execution_count": 25
        }
      ]
    },
    {
      "cell_type": "code",
      "metadata": {
        "id": "BE3_tFEsMJSi",
        "outputId": "4a78d054-5c47-4c6b-f3ca-efa9f0f081fd",
        "colab": {
          "base_uri": "https://localhost:8080/",
          "height": 419
        }
      },
      "source": [
        "for i in range(len(y_pred)):\n",
        "    submit['label'][i] = y_pred[i].item()\n",
        "\n",
        "submit"
      ],
      "execution_count": 26,
      "outputs": [
        {
          "output_type": "execute_result",
          "data": {
            "text/html": [
              "<div>\n",
              "<style scoped>\n",
              "    .dataframe tbody tr th:only-of-type {\n",
              "        vertical-align: middle;\n",
              "    }\n",
              "\n",
              "    .dataframe tbody tr th {\n",
              "        vertical-align: top;\n",
              "    }\n",
              "\n",
              "    .dataframe thead th {\n",
              "        text-align: right;\n",
              "    }\n",
              "</style>\n",
              "<table border=\"1\" class=\"dataframe\">\n",
              "  <thead>\n",
              "    <tr style=\"text-align: right;\">\n",
              "      <th></th>\n",
              "      <th>index</th>\n",
              "      <th>label</th>\n",
              "    </tr>\n",
              "  </thead>\n",
              "  <tbody>\n",
              "    <tr>\n",
              "      <th>0</th>\n",
              "      <td>23</td>\n",
              "      <td>3</td>\n",
              "    </tr>\n",
              "    <tr>\n",
              "      <th>1</th>\n",
              "      <td>29</td>\n",
              "      <td>9</td>\n",
              "    </tr>\n",
              "    <tr>\n",
              "      <th>2</th>\n",
              "      <td>30</td>\n",
              "      <td>0</td>\n",
              "    </tr>\n",
              "    <tr>\n",
              "      <th>3</th>\n",
              "      <td>32</td>\n",
              "      <td>5</td>\n",
              "    </tr>\n",
              "    <tr>\n",
              "      <th>4</th>\n",
              "      <td>44</td>\n",
              "      <td>7</td>\n",
              "    </tr>\n",
              "    <tr>\n",
              "      <th>...</th>\n",
              "      <td>...</td>\n",
              "      <td>...</td>\n",
              "    </tr>\n",
              "    <tr>\n",
              "      <th>355</th>\n",
              "      <td>1774</td>\n",
              "      <td>1</td>\n",
              "    </tr>\n",
              "    <tr>\n",
              "      <th>356</th>\n",
              "      <td>1784</td>\n",
              "      <td>5</td>\n",
              "    </tr>\n",
              "    <tr>\n",
              "      <th>357</th>\n",
              "      <td>1785</td>\n",
              "      <td>7</td>\n",
              "    </tr>\n",
              "    <tr>\n",
              "      <th>358</th>\n",
              "      <td>1786</td>\n",
              "      <td>9</td>\n",
              "    </tr>\n",
              "    <tr>\n",
              "      <th>359</th>\n",
              "      <td>1790</td>\n",
              "      <td>8</td>\n",
              "    </tr>\n",
              "  </tbody>\n",
              "</table>\n",
              "<p>360 rows × 2 columns</p>\n",
              "</div>"
            ],
            "text/plain": [
              "     index  label\n",
              "0       23      3\n",
              "1       29      9\n",
              "2       30      0\n",
              "3       32      5\n",
              "4       44      7\n",
              "..     ...    ...\n",
              "355   1774      1\n",
              "356   1784      5\n",
              "357   1785      7\n",
              "358   1786      9\n",
              "359   1790      8\n",
              "\n",
              "[360 rows x 2 columns]"
            ]
          },
          "metadata": {
            "tags": []
          },
          "execution_count": 26
        }
      ]
    },
    {
      "cell_type": "code",
      "metadata": {
        "id": "6e_SsZZlMvB8",
        "outputId": "de4bdc1b-ec2e-451f-8eb6-aefdaa0e53af",
        "colab": {
          "base_uri": "https://localhost:8080/"
        }
      },
      "source": [
        "submit.to_csv('result.csv',mode='w',index=False)\n",
        "!kaggle competitions submit -c 2020ml3re -f result.csv -m \"14010974_이기택\""
      ],
      "execution_count": 27,
      "outputs": [
        {
          "output_type": "stream",
          "text": [
            "Warning: Looks like you're using an outdated API Version, please consider updating (server 1.5.9 / client 1.5.6)\n",
            "100% 2.26k/2.26k [00:03<00:00, 769B/s]\n",
            "Successfully submitted to 2020.ML.중간고사.문제3.다시풀기"
          ],
          "name": "stdout"
        }
      ]
    }
  ]
}
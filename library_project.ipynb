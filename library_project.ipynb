{
  "nbformat": 4,
  "nbformat_minor": 0,
  "metadata": {
    "colab": {
      "name": "library-project.ipynb",
      "provenance": [],
      "authorship_tag": "ABX9TyMSRi3on67ks83g7jhOVwfl",
      "include_colab_link": true
    },
    "kernelspec": {
      "name": "python3",
      "display_name": "Python 3"
    },
    "accelerator": "GPU"
  },
  "cells": [
    {
      "cell_type": "markdown",
      "metadata": {
        "id": "view-in-github",
        "colab_type": "text"
      },
      "source": [
        "<a href=\"https://colab.research.google.com/github/LeeGitaek/Kaggle_Solving/blob/master/library_project.ipynb\" target=\"_parent\"><img src=\"https://colab.research.google.com/assets/colab-badge.svg\" alt=\"Open In Colab\"/></a>"
      ]
    },
    {
      "cell_type": "code",
      "metadata": {
        "id": "kwyEpuDjRbsX",
        "colab_type": "code",
        "colab": {
          "base_uri": "https://localhost:8080/",
          "height": 547
        },
        "outputId": "6217be9a-a3c7-42bd-a639-9bcddb1c4a2d"
      },
      "source": [
        "!pip uninstall --y kaggle\n",
        "!pip install --upgrade pip\n",
        "!pip install kaggle==1.5.6"
      ],
      "execution_count": 1,
      "outputs": [
        {
          "output_type": "stream",
          "text": [
            "Uninstalling kaggle-1.5.6:\n",
            "  Successfully uninstalled kaggle-1.5.6\n",
            "Collecting pip\n",
            "\u001b[?25l  Downloading https://files.pythonhosted.org/packages/43/84/23ed6a1796480a6f1a2d38f2802901d078266bda38388954d01d3f2e821d/pip-20.1.1-py2.py3-none-any.whl (1.5MB)\n",
            "\u001b[K     |████████████████████████████████| 1.5MB 2.8MB/s \n",
            "\u001b[?25hInstalling collected packages: pip\n",
            "  Found existing installation: pip 19.3.1\n",
            "    Uninstalling pip-19.3.1:\n",
            "      Successfully uninstalled pip-19.3.1\n",
            "Successfully installed pip-20.1.1\n",
            "Collecting kaggle==1.5.6\n",
            "  Downloading kaggle-1.5.6.tar.gz (58 kB)\n",
            "\u001b[K     |████████████████████████████████| 58 kB 1.7 MB/s \n",
            "\u001b[?25hRequirement already satisfied: urllib3<1.25,>=1.21.1 in /usr/local/lib/python3.6/dist-packages (from kaggle==1.5.6) (1.24.3)\n",
            "Requirement already satisfied: six>=1.10 in /usr/local/lib/python3.6/dist-packages (from kaggle==1.5.6) (1.12.0)\n",
            "Requirement already satisfied: certifi in /usr/local/lib/python3.6/dist-packages (from kaggle==1.5.6) (2020.6.20)\n",
            "Requirement already satisfied: python-dateutil in /usr/local/lib/python3.6/dist-packages (from kaggle==1.5.6) (2.8.1)\n",
            "Requirement already satisfied: requests in /usr/local/lib/python3.6/dist-packages (from kaggle==1.5.6) (2.23.0)\n",
            "Requirement already satisfied: tqdm in /usr/local/lib/python3.6/dist-packages (from kaggle==1.5.6) (4.41.1)\n",
            "Requirement already satisfied: python-slugify in /usr/local/lib/python3.6/dist-packages (from kaggle==1.5.6) (4.0.0)\n",
            "Requirement already satisfied: idna<3,>=2.5 in /usr/local/lib/python3.6/dist-packages (from requests->kaggle==1.5.6) (2.9)\n",
            "Requirement already satisfied: chardet<4,>=3.0.2 in /usr/local/lib/python3.6/dist-packages (from requests->kaggle==1.5.6) (3.0.4)\n",
            "Requirement already satisfied: text-unidecode>=1.3 in /usr/local/lib/python3.6/dist-packages (from python-slugify->kaggle==1.5.6) (1.3)\n",
            "Building wheels for collected packages: kaggle\n",
            "  Building wheel for kaggle (setup.py) ... \u001b[?25l\u001b[?25hdone\n",
            "  Created wheel for kaggle: filename=kaggle-1.5.6-py3-none-any.whl size=72859 sha256=1bb95d2f4c31cfe0f6bde26c8c0dc2c3640a765d6ef578afb9bee8a2ec3c7135\n",
            "  Stored in directory: /root/.cache/pip/wheels/01/3e/ff/77407ebac3ef71a79b9166a8382aecf88415a0bcbe3c095a01\n",
            "Successfully built kaggle\n",
            "Installing collected packages: kaggle\n",
            "Successfully installed kaggle-1.5.6\n"
          ],
          "name": "stdout"
        }
      ]
    },
    {
      "cell_type": "code",
      "metadata": {
        "id": "t5Wp1SDuRunx",
        "colab_type": "code",
        "colab": {
          "base_uri": "https://localhost:8080/",
          "height": 34
        },
        "outputId": "8a14f00a-b6d6-4e46-a770-6c530d53a0cf"
      },
      "source": [
        "!mkdir -p ~/.kaggle\n",
        "!cp kaggle.json ~/.kaggle\n",
        "!ls -lha kaggle.json\n",
        "!chmod 600 ~/.kaggle/kaggle.json"
      ],
      "execution_count": 2,
      "outputs": [
        {
          "output_type": "stream",
          "text": [
            "-rw-r--r-- 1 root root 68 Jun 28 11:45 kaggle.json\n"
          ],
          "name": "stdout"
        }
      ]
    },
    {
      "cell_type": "code",
      "metadata": {
        "id": "Movf7U0xR3Xd",
        "colab_type": "code",
        "colab": {
          "base_uri": "https://localhost:8080/",
          "height": 68
        },
        "outputId": "28d6f030-b877-47a9-d9ca-5457f7bb5aa3"
      },
      "source": [
        "!kaggle competitions download -c library-project"
      ],
      "execution_count": 3,
      "outputs": [
        {
          "output_type": "stream",
          "text": [
            "Downloading library-project.zip to /content\n",
            "\r  0% 0.00/8.96k [00:00<?, ?B/s]\n",
            "\r100% 8.96k/8.96k [00:00<00:00, 7.71MB/s]\n"
          ],
          "name": "stdout"
        }
      ]
    },
    {
      "cell_type": "code",
      "metadata": {
        "id": "y3rUUfEwR7W3",
        "colab_type": "code",
        "colab": {
          "base_uri": "https://localhost:8080/",
          "height": 85
        },
        "outputId": "6daa7866-295a-4aa4-88c6-6280149fa56c"
      },
      "source": [
        "!unzip library-project"
      ],
      "execution_count": 4,
      "outputs": [
        {
          "output_type": "stream",
          "text": [
            "Archive:  library-project.zip\n",
            "  inflating: library_test.csv        \n",
            "  inflating: library_train.csv       \n",
            "  inflating: sample_submit.csv       \n"
          ],
          "name": "stdout"
        }
      ]
    },
    {
      "cell_type": "code",
      "metadata": {
        "id": "MHE5usY3R8SG",
        "colab_type": "code",
        "colab": {}
      },
      "source": [
        "import pandas as pd\n",
        "import numpy as np\n",
        "import torch\n",
        "import torchvision.datasets as datasets\n",
        "import torchvision.transforms as transforms\n",
        "import torch.nn.functional as F\n",
        "import torch.optim as optim\n",
        "import torch.nn as nn\n",
        "from sklearn import preprocessing"
      ],
      "execution_count": 264,
      "outputs": []
    },
    {
      "cell_type": "code",
      "metadata": {
        "id": "yaDGIk4ESNt-",
        "colab_type": "code",
        "colab": {}
      },
      "source": [
        "device = 'cuda' if torch.cuda.is_available() else 'cpu'\n",
        "\n",
        "torch.manual_seed(777)\n",
        "if device == 'cuda':\n",
        "    torch.cuda.manual_seed_all(777)"
      ],
      "execution_count": 265,
      "outputs": []
    },
    {
      "cell_type": "code",
      "metadata": {
        "id": "sBA0FGIETRYV",
        "colab_type": "code",
        "colab": {}
      },
      "source": [
        "learning_rate = 1e-3\n",
        "training_epochs = 4000                     \n",
        "batch_size = 40           \n",
        "Scaler = preprocessing.MinMaxScaler()       "
      ],
      "execution_count": 266,
      "outputs": []
    },
    {
      "cell_type": "code",
      "metadata": {
        "id": "V682GDrQSZWK",
        "colab_type": "code",
        "colab": {
          "base_uri": "https://localhost:8080/",
          "height": 595
        },
        "outputId": "6f264727-8774-4478-c462-6dcbc93103ef"
      },
      "source": [
        "train = pd.read_csv('library_train.csv',header=None,skiprows=2)\n",
        "print(train.head(10))\n",
        "print(train.info())"
      ],
      "execution_count": 267,
      "outputs": [
        {
          "output_type": "stream",
          "text": [
            "     0   1              2   3    4   ...      8       9       10  11    12\n",
            "0  시ㆍ군립  남부      수원시 선경도서관   1  567  ...  509703  427002  287365   7  1944\n",
            "1  시ㆍ군립  남부      수원시서수원도서관   1  570  ...  398865  284723  142950   5  1068\n",
            "2  시ㆍ군립  남부      수원시북수원도서관   1  800  ...  746202  518371  309459   7  1342\n",
            "3  시ㆍ군립  남부      수원시 영통도서관   1  825  ...  776412  597632  393451   6  1211\n",
            "4  시ㆍ군립  남부      수원시 중앙도서관   1  387  ...  231455  157592   81128   5  9537\n",
            "5  시ㆍ군립  남부    수원시 태장마루도서관   1  582  ...  579954  441601  294095   4  1194\n",
            "6  시ㆍ군립  남부  수원시 지혜샘어린이도서관   1  516  ...  363632  307166  329083   4   868\n",
            "7  시ㆍ군립  남부  수원시 바른샘어린이도서관   1  500  ...  259097  238896  245654   5   868\n",
            "8  시ㆍ군립  남부  수원시 슬기샘어린이도서관   1  471  ...  243058  199019  190059   6   868\n",
            "9  시ㆍ군립  남부     수원시 한아름도서관   1   88  ...   76685   61405   56298   3   208\n",
            "\n",
            "[10 rows x 13 columns]\n",
            "<class 'pandas.core.frame.DataFrame'>\n",
            "RangeIndex: 180 entries, 0 to 179\n",
            "Data columns (total 13 columns):\n",
            " #   Column  Non-Null Count  Dtype \n",
            "---  ------  --------------  ----- \n",
            " 0   0       180 non-null    object\n",
            " 1   1       180 non-null    object\n",
            " 2   2       180 non-null    object\n",
            " 3   3       180 non-null    int64 \n",
            " 4   4       180 non-null    int64 \n",
            " 5   5       180 non-null    int64 \n",
            " 6   6       180 non-null    int64 \n",
            " 7   7       180 non-null    int64 \n",
            " 8   8       180 non-null    int64 \n",
            " 9   9       180 non-null    int64 \n",
            " 10  10      180 non-null    int64 \n",
            " 11  11      180 non-null    int64 \n",
            " 12  12      180 non-null    int64 \n",
            "dtypes: int64(10), object(3)\n",
            "memory usage: 18.4+ KB\n",
            "None\n"
          ],
          "name": "stdout"
        }
      ]
    },
    {
      "cell_type": "code",
      "metadata": {
        "id": "tSHuFQIdTb-m",
        "colab_type": "code",
        "colab": {
          "base_uri": "https://localhost:8080/",
          "height": 578
        },
        "outputId": "c2a43567-c5ea-4dd5-c245-32db277b9ba2"
      },
      "source": [
        "test = pd.read_csv('library_test.csv',header=None,skiprows=2)\n",
        "\n",
        "print(test.head(10))\n",
        "print(test.info())"
      ],
      "execution_count": 268,
      "outputs": [
        {
          "output_type": "stream",
          "text": [
            "     0   1             2   3    4   ...   7       8       9       10  11\n",
            "0  시ㆍ군립  북부   고양시 아람누리도서관   1  326  ...  157  466367  426352  320636   8\n",
            "1  시ㆍ군립  북부     고양시 마두도서관   1  536  ...  134  306977  173151  142997   7\n",
            "2  시ㆍ군립  북부     고양시 백석도서관   1  425  ...  115  344448  233102  201259   5\n",
            "3  시ㆍ군립  북부     고양시 화정도서관   1  866  ...  144  481933  313548  324145  22\n",
            "4  시ㆍ군립  북부     고양시 행신도서관   1  378  ...  108  340788  231633  169154   5\n",
            "5  시ㆍ군립  북부     고양시 원당도서관   1  418  ...  105  228037  174622  121731   3\n",
            "6  시ㆍ군립  북부     고양시 한뫼도서관   1  391  ...  139  404896  320675  243378   5\n",
            "7  시ㆍ군립  북부     고양시 대화도서관   1  435  ...  141  518542  398303  367315   8\n",
            "8  시ㆍ군립  북부     고양시 풍동도서관   1  110  ...   99  207936  201749  172968   6\n",
            "9  시ㆍ군립  북부  고양시 주엽어린이도서관   1   94  ...   38  244587  223274  267745   5\n",
            "\n",
            "[10 rows x 12 columns]\n",
            "<class 'pandas.core.frame.DataFrame'>\n",
            "RangeIndex: 72 entries, 0 to 71\n",
            "Data columns (total 12 columns):\n",
            " #   Column  Non-Null Count  Dtype \n",
            "---  ------  --------------  ----- \n",
            " 0   0       72 non-null     object\n",
            " 1   1       72 non-null     object\n",
            " 2   2       72 non-null     object\n",
            " 3   3       72 non-null     int64 \n",
            " 4   4       72 non-null     int64 \n",
            " 5   5       72 non-null     int64 \n",
            " 6   6       72 non-null     int64 \n",
            " 7   7       72 non-null     int64 \n",
            " 8   8       72 non-null     int64 \n",
            " 9   9       72 non-null     int64 \n",
            " 10  10      72 non-null     int64 \n",
            " 11  11      72 non-null     int64 \n",
            "dtypes: int64(9), object(3)\n",
            "memory usage: 6.9+ KB\n",
            "None\n"
          ],
          "name": "stdout"
        }
      ]
    },
    {
      "cell_type": "code",
      "metadata": {
        "id": "_CinmxUUT7QJ",
        "colab_type": "code",
        "colab": {
          "base_uri": "https://localhost:8080/",
          "height": 51
        },
        "outputId": "3b136c28-c519-4d83-c34e-745afb0edf54"
      },
      "source": [
        "x_train = train.iloc[:,5:-1]\n",
        "y_train = train.iloc[:,[-1]]\n",
        "x_train = Scaler.fit_transform(x_train)\n",
        "x_train = np.array(x_train)#.astype(int)\n",
        "y_train = np.array(y_train)#.astype(int)\n",
        "\n",
        "x_train = torch.FloatTensor(x_train)\n",
        "y_train = torch.FloatTensor(y_train)\n",
        "\n",
        "print(x_train.shape)\n",
        "print(y_train.shape)"
      ],
      "execution_count": 269,
      "outputs": [
        {
          "output_type": "stream",
          "text": [
            "torch.Size([180, 7])\n",
            "torch.Size([180, 1])\n"
          ],
          "name": "stdout"
        }
      ]
    },
    {
      "cell_type": "code",
      "metadata": {
        "id": "qSs0EwX5TxSK",
        "colab_type": "code",
        "colab": {}
      },
      "source": [
        "train_dataset = torch.utils.data.TensorDataset(x_train,y_train)\n",
        "\n",
        "data_loader = torch.utils.data.DataLoader(dataset=train_dataset,\n",
        "                                          batch_size = batch_size,\n",
        "                                          shuffle = True,\n",
        "                                          drop_last = True)"
      ],
      "execution_count": 270,
      "outputs": []
    },
    {
      "cell_type": "code",
      "metadata": {
        "id": "7oc-2Sc3V3F3",
        "colab_type": "code",
        "colab": {}
      },
      "source": [
        "class MishFunction(torch.autograd.Function):\n",
        "    @staticmethod\n",
        "    def forward(ctx, x):\n",
        "        ctx.save_for_backward(x)\n",
        "        return x * torch.tanh(F.softplus(x))   # x * tanh(ln(1 + exp(x)))\n",
        "\n",
        "    @staticmethod\n",
        "    def backward(ctx, grad_output):\n",
        "        x = ctx.saved_variables[0]\n",
        "        sigmoid = torch.sigmoid(x)\n",
        "        tanh_sp = torch.tanh(F.softplus(x)) \n",
        "        return grad_output * (tanh_sp + x * sigmoid * (1 - tanh_sp * tanh_sp))\n",
        "\n",
        "class Mish(nn.Module):\n",
        "    def forward(self, x):\n",
        "        return MishFunction.apply(x)\n",
        "\n",
        "def to_Mish(model):\n",
        "    for child_name, child in model.named_children():\n",
        "        if isinstance(child, nn.ReLU):\n",
        "            setattr(model, child_name, Mish())\n",
        "        else:\n",
        "            to_Mish(child)"
      ],
      "execution_count": 271,
      "outputs": []
    },
    {
      "cell_type": "code",
      "metadata": {
        "id": "eFADQ3XpWDzJ",
        "colab_type": "code",
        "colab": {}
      },
      "source": [
        "linear1 = nn.Linear(7,4,bias = True)\n",
        "linear2 = nn.Linear(4,4,bias = True)\n",
        "linear3 = nn.Linear(4,1,bias = True)\n",
        "mish = Mish()"
      ],
      "execution_count": 272,
      "outputs": []
    },
    {
      "cell_type": "code",
      "metadata": {
        "id": "3ZCVBcUBWS_b",
        "colab_type": "code",
        "colab": {
          "base_uri": "https://localhost:8080/",
          "height": 51
        },
        "outputId": "3a94e2fc-3c67-45e0-b03f-0e96c26af86f"
      },
      "source": [
        "nn.init.kaiming_uniform_(linear1.weight)\n",
        "nn.init.kaiming_uniform_(linear2.weight)\n",
        "nn.init.kaiming_uniform_(linear3.weight)"
      ],
      "execution_count": 273,
      "outputs": [
        {
          "output_type": "execute_result",
          "data": {
            "text/plain": [
              "Parameter containing:\n",
              "tensor([[-0.7597, -0.2111, -0.1341,  0.6305]], requires_grad=True)"
            ]
          },
          "metadata": {
            "tags": []
          },
          "execution_count": 273
        }
      ]
    },
    {
      "cell_type": "code",
      "metadata": {
        "id": "uLhaC6lbWgq7",
        "colab_type": "code",
        "colab": {}
      },
      "source": [
        "model = nn.Sequential(\n",
        "    linear1,mish,\n",
        "    linear2,mish,\n",
        "    linear3\n",
        ").to(device)"
      ],
      "execution_count": 274,
      "outputs": []
    },
    {
      "cell_type": "code",
      "metadata": {
        "id": "iTMkFZv1WuE3",
        "colab_type": "code",
        "colab": {}
      },
      "source": [
        "loss = nn.MSELoss().to(device)\n",
        "optimizer = optim.Adam(model.parameters(),lr=learning_rate)"
      ],
      "execution_count": 275,
      "outputs": []
    },
    {
      "cell_type": "code",
      "metadata": {
        "id": "aRd3-e8fW3h3",
        "colab_type": "code",
        "colab": {
          "base_uri": "https://localhost:8080/",
          "height": 1000
        },
        "outputId": "335fb902-d3f5-4dfa-f771-ddc25caf8351"
      },
      "source": [
        "total_batch = len(data_loader)\n",
        "\n",
        "for epoch in range(training_epochs):\n",
        "    avg_cost = 0\n",
        "\n",
        "    for X,Y in data_loader:\n",
        "        X = X.to(device)\n",
        "        Y = Y.to(device)\n",
        "\n",
        "        optimizer.zero_grad()\n",
        "        hypothesis = model(X)\n",
        "        cost = loss(hypothesis,Y)\n",
        "        cost.backward()\n",
        "        optimizer.step()\n",
        "\n",
        "        avg_cost += cost/total_batch\n",
        "\n",
        "    if epoch % 10 == 0:  \n",
        "        print('Epoch:', '%d' % (epoch ), 'Cost =', '{:.9f}'.format(avg_cost))\n",
        "print('Learning Finished')"
      ],
      "execution_count": 276,
      "outputs": [
        {
          "output_type": "stream",
          "text": [
            "Epoch: 0 Cost = 2746523.750000000\n"
          ],
          "name": "stdout"
        },
        {
          "output_type": "stream",
          "text": [
            "/usr/local/lib/python3.6/dist-packages/ipykernel_launcher.py:9: DeprecationWarning: 'saved_variables' is deprecated; use 'saved_tensors'\n",
            "  if __name__ == '__main__':\n"
          ],
          "name": "stderr"
        },
        {
          "output_type": "stream",
          "text": [
            "Epoch: 10 Cost = 2772047.250000000\n",
            "Epoch: 20 Cost = 2503302.750000000\n",
            "Epoch: 30 Cost = 2735251.750000000\n",
            "Epoch: 40 Cost = 2534930.000000000\n",
            "Epoch: 50 Cost = 2632432.750000000\n",
            "Epoch: 60 Cost = 2525553.500000000\n",
            "Epoch: 70 Cost = 2739196.500000000\n",
            "Epoch: 80 Cost = 2569863.000000000\n",
            "Epoch: 90 Cost = 2701305.000000000\n",
            "Epoch: 100 Cost = 2625156.000000000\n",
            "Epoch: 110 Cost = 2534329.750000000\n",
            "Epoch: 120 Cost = 2715119.750000000\n",
            "Epoch: 130 Cost = 2675317.500000000\n",
            "Epoch: 140 Cost = 2755909.500000000\n",
            "Epoch: 150 Cost = 2764623.500000000\n",
            "Epoch: 160 Cost = 2569275.750000000\n",
            "Epoch: 170 Cost = 2526409.250000000\n",
            "Epoch: 180 Cost = 2662643.750000000\n",
            "Epoch: 190 Cost = 2478993.750000000\n",
            "Epoch: 200 Cost = 2603511.750000000\n",
            "Epoch: 210 Cost = 2268746.500000000\n",
            "Epoch: 220 Cost = 2536085.250000000\n",
            "Epoch: 230 Cost = 2537063.500000000\n",
            "Epoch: 240 Cost = 2365053.500000000\n",
            "Epoch: 250 Cost = 2241146.500000000\n",
            "Epoch: 260 Cost = 2333299.750000000\n",
            "Epoch: 270 Cost = 2332015.750000000\n",
            "Epoch: 280 Cost = 2216106.000000000\n",
            "Epoch: 290 Cost = 2172599.500000000\n",
            "Epoch: 300 Cost = 2246026.750000000\n",
            "Epoch: 310 Cost = 1616390.750000000\n",
            "Epoch: 320 Cost = 2108058.750000000\n",
            "Epoch: 330 Cost = 2119712.750000000\n",
            "Epoch: 340 Cost = 1934969.250000000\n",
            "Epoch: 350 Cost = 1952505.625000000\n",
            "Epoch: 360 Cost = 1884498.500000000\n",
            "Epoch: 370 Cost = 1776173.875000000\n",
            "Epoch: 380 Cost = 1752874.125000000\n",
            "Epoch: 390 Cost = 1819959.750000000\n",
            "Epoch: 400 Cost = 1695204.875000000\n",
            "Epoch: 410 Cost = 1721875.750000000\n",
            "Epoch: 420 Cost = 1125005.750000000\n",
            "Epoch: 430 Cost = 1536986.000000000\n",
            "Epoch: 440 Cost = 1557333.750000000\n",
            "Epoch: 450 Cost = 1480489.875000000\n",
            "Epoch: 460 Cost = 1363002.375000000\n",
            "Epoch: 470 Cost = 1349998.000000000\n",
            "Epoch: 480 Cost = 1209722.125000000\n",
            "Epoch: 490 Cost = 1266431.875000000\n",
            "Epoch: 500 Cost = 1234213.750000000\n",
            "Epoch: 510 Cost = 1207672.250000000\n",
            "Epoch: 520 Cost = 1156818.125000000\n",
            "Epoch: 530 Cost = 641935.812500000\n",
            "Epoch: 540 Cost = 1076132.625000000\n",
            "Epoch: 550 Cost = 1075708.250000000\n",
            "Epoch: 560 Cost = 1023181.750000000\n",
            "Epoch: 570 Cost = 899669.250000000\n",
            "Epoch: 580 Cost = 1009698.875000000\n",
            "Epoch: 590 Cost = 979793.687500000\n",
            "Epoch: 600 Cost = 934115.562500000\n",
            "Epoch: 610 Cost = 915186.875000000\n",
            "Epoch: 620 Cost = 888523.687500000\n",
            "Epoch: 630 Cost = 855377.687500000\n",
            "Epoch: 640 Cost = 845761.062500000\n",
            "Epoch: 650 Cost = 827713.625000000\n",
            "Epoch: 660 Cost = 832409.312500000\n",
            "Epoch: 670 Cost = 840135.500000000\n",
            "Epoch: 680 Cost = 767066.812500000\n",
            "Epoch: 690 Cost = 755325.750000000\n",
            "Epoch: 700 Cost = 809930.062500000\n",
            "Epoch: 710 Cost = 367561.593750000\n",
            "Epoch: 720 Cost = 785313.187500000\n",
            "Epoch: 730 Cost = 758652.625000000\n",
            "Epoch: 740 Cost = 768773.437500000\n",
            "Epoch: 750 Cost = 740638.375000000\n",
            "Epoch: 760 Cost = 758721.562500000\n",
            "Epoch: 770 Cost = 722340.625000000\n",
            "Epoch: 780 Cost = 752097.875000000\n",
            "Epoch: 790 Cost = 756389.437500000\n",
            "Epoch: 800 Cost = 757277.562500000\n",
            "Epoch: 810 Cost = 755775.125000000\n",
            "Epoch: 820 Cost = 728645.125000000\n",
            "Epoch: 830 Cost = 348272.906250000\n",
            "Epoch: 840 Cost = 714426.062500000\n",
            "Epoch: 850 Cost = 688543.500000000\n",
            "Epoch: 860 Cost = 698351.500000000\n",
            "Epoch: 870 Cost = 734899.937500000\n",
            "Epoch: 880 Cost = 333690.250000000\n",
            "Epoch: 890 Cost = 733442.375000000\n",
            "Epoch: 900 Cost = 752405.625000000\n",
            "Epoch: 910 Cost = 731963.687500000\n",
            "Epoch: 920 Cost = 323133.343750000\n",
            "Epoch: 930 Cost = 732574.187500000\n",
            "Epoch: 940 Cost = 735241.375000000\n",
            "Epoch: 950 Cost = 692620.625000000\n",
            "Epoch: 960 Cost = 718500.250000000\n",
            "Epoch: 970 Cost = 710442.875000000\n",
            "Epoch: 980 Cost = 321499.187500000\n",
            "Epoch: 990 Cost = 670467.562500000\n",
            "Epoch: 1000 Cost = 722635.250000000\n",
            "Epoch: 1010 Cost = 713790.250000000\n",
            "Epoch: 1020 Cost = 717074.500000000\n",
            "Epoch: 1030 Cost = 711313.125000000\n",
            "Epoch: 1040 Cost = 706930.562500000\n",
            "Epoch: 1050 Cost = 691731.875000000\n",
            "Epoch: 1060 Cost = 703845.000000000\n",
            "Epoch: 1070 Cost = 659690.000000000\n",
            "Epoch: 1080 Cost = 335795.843750000\n",
            "Epoch: 1090 Cost = 679850.937500000\n",
            "Epoch: 1100 Cost = 700762.625000000\n",
            "Epoch: 1110 Cost = 703565.625000000\n",
            "Epoch: 1120 Cost = 647335.562500000\n",
            "Epoch: 1130 Cost = 680116.125000000\n",
            "Epoch: 1140 Cost = 685642.312500000\n",
            "Epoch: 1150 Cost = 683270.312500000\n",
            "Epoch: 1160 Cost = 694697.687500000\n",
            "Epoch: 1170 Cost = 646857.125000000\n",
            "Epoch: 1180 Cost = 697460.937500000\n",
            "Epoch: 1190 Cost = 689210.500000000\n",
            "Epoch: 1200 Cost = 679781.750000000\n",
            "Epoch: 1210 Cost = 684494.937500000\n",
            "Epoch: 1220 Cost = 676564.500000000\n",
            "Epoch: 1230 Cost = 682947.062500000\n",
            "Epoch: 1240 Cost = 296027.375000000\n",
            "Epoch: 1250 Cost = 668613.312500000\n",
            "Epoch: 1260 Cost = 677766.500000000\n",
            "Epoch: 1270 Cost = 669668.625000000\n",
            "Epoch: 1280 Cost = 667710.312500000\n",
            "Epoch: 1290 Cost = 675985.062500000\n",
            "Epoch: 1300 Cost = 678234.875000000\n",
            "Epoch: 1310 Cost = 658343.812500000\n",
            "Epoch: 1320 Cost = 619237.562500000\n",
            "Epoch: 1330 Cost = 663248.687500000\n",
            "Epoch: 1340 Cost = 639324.187500000\n",
            "Epoch: 1350 Cost = 662753.062500000\n",
            "Epoch: 1360 Cost = 649006.312500000\n",
            "Epoch: 1370 Cost = 658723.812500000\n",
            "Epoch: 1380 Cost = 617863.125000000\n",
            "Epoch: 1390 Cost = 617788.687500000\n",
            "Epoch: 1400 Cost = 633829.937500000\n",
            "Epoch: 1410 Cost = 661664.000000000\n",
            "Epoch: 1420 Cost = 664302.062500000\n",
            "Epoch: 1430 Cost = 649183.750000000\n",
            "Epoch: 1440 Cost = 657861.812500000\n",
            "Epoch: 1450 Cost = 647023.437500000\n",
            "Epoch: 1460 Cost = 641593.625000000\n",
            "Epoch: 1470 Cost = 653447.750000000\n",
            "Epoch: 1480 Cost = 652098.250000000\n",
            "Epoch: 1490 Cost = 642928.437500000\n",
            "Epoch: 1500 Cost = 643932.812500000\n",
            "Epoch: 1510 Cost = 641771.750000000\n",
            "Epoch: 1520 Cost = 658518.500000000\n",
            "Epoch: 1530 Cost = 627686.125000000\n",
            "Epoch: 1540 Cost = 645040.750000000\n",
            "Epoch: 1550 Cost = 618204.437500000\n",
            "Epoch: 1560 Cost = 626557.250000000\n",
            "Epoch: 1570 Cost = 639441.625000000\n",
            "Epoch: 1580 Cost = 264017.968750000\n",
            "Epoch: 1590 Cost = 638603.875000000\n",
            "Epoch: 1600 Cost = 643226.250000000\n",
            "Epoch: 1610 Cost = 604158.562500000\n",
            "Epoch: 1620 Cost = 269224.875000000\n",
            "Epoch: 1630 Cost = 285377.093750000\n",
            "Epoch: 1640 Cost = 637172.562500000\n",
            "Epoch: 1650 Cost = 259763.468750000\n",
            "Epoch: 1660 Cost = 638547.500000000\n",
            "Epoch: 1670 Cost = 640339.687500000\n",
            "Epoch: 1680 Cost = 638290.812500000\n",
            "Epoch: 1690 Cost = 612663.625000000\n",
            "Epoch: 1700 Cost = 595255.000000000\n",
            "Epoch: 1710 Cost = 616048.125000000\n",
            "Epoch: 1720 Cost = 637185.687500000\n",
            "Epoch: 1730 Cost = 614919.812500000\n",
            "Epoch: 1740 Cost = 613472.750000000\n",
            "Epoch: 1750 Cost = 640504.687500000\n",
            "Epoch: 1760 Cost = 638335.250000000\n",
            "Epoch: 1770 Cost = 633730.687500000\n",
            "Epoch: 1780 Cost = 640760.750000000\n",
            "Epoch: 1790 Cost = 584202.000000000\n",
            "Epoch: 1800 Cost = 585302.562500000\n",
            "Epoch: 1810 Cost = 625638.187500000\n",
            "Epoch: 1820 Cost = 622644.937500000\n",
            "Epoch: 1830 Cost = 263366.937500000\n",
            "Epoch: 1840 Cost = 634743.750000000\n",
            "Epoch: 1850 Cost = 256166.750000000\n",
            "Epoch: 1860 Cost = 624113.562500000\n",
            "Epoch: 1870 Cost = 578817.250000000\n",
            "Epoch: 1880 Cost = 624499.937500000\n",
            "Epoch: 1890 Cost = 623622.875000000\n",
            "Epoch: 1900 Cost = 635710.062500000\n",
            "Epoch: 1910 Cost = 628447.625000000\n",
            "Epoch: 1920 Cost = 619199.375000000\n",
            "Epoch: 1930 Cost = 613311.875000000\n",
            "Epoch: 1940 Cost = 631046.500000000\n",
            "Epoch: 1950 Cost = 621263.250000000\n",
            "Epoch: 1960 Cost = 625775.875000000\n",
            "Epoch: 1970 Cost = 617537.250000000\n",
            "Epoch: 1980 Cost = 634484.125000000\n",
            "Epoch: 1990 Cost = 611827.312500000\n",
            "Epoch: 2000 Cost = 607975.687500000\n",
            "Epoch: 2010 Cost = 627545.625000000\n",
            "Epoch: 2020 Cost = 615189.250000000\n",
            "Epoch: 2030 Cost = 635111.937500000\n",
            "Epoch: 2040 Cost = 609587.312500000\n",
            "Epoch: 2050 Cost = 614212.437500000\n",
            "Epoch: 2060 Cost = 598079.937500000\n",
            "Epoch: 2070 Cost = 581628.375000000\n",
            "Epoch: 2080 Cost = 632795.562500000\n",
            "Epoch: 2090 Cost = 595918.375000000\n",
            "Epoch: 2100 Cost = 272179.562500000\n",
            "Epoch: 2110 Cost = 633662.187500000\n",
            "Epoch: 2120 Cost = 242796.875000000\n",
            "Epoch: 2130 Cost = 625156.375000000\n",
            "Epoch: 2140 Cost = 630780.125000000\n",
            "Epoch: 2150 Cost = 622087.375000000\n",
            "Epoch: 2160 Cost = 622618.687500000\n",
            "Epoch: 2170 Cost = 629111.875000000\n",
            "Epoch: 2180 Cost = 627257.250000000\n",
            "Epoch: 2190 Cost = 275668.156250000\n",
            "Epoch: 2200 Cost = 626583.125000000\n",
            "Epoch: 2210 Cost = 597831.312500000\n",
            "Epoch: 2220 Cost = 624612.625000000\n",
            "Epoch: 2230 Cost = 605353.625000000\n",
            "Epoch: 2240 Cost = 615796.125000000\n",
            "Epoch: 2250 Cost = 240915.031250000\n",
            "Epoch: 2260 Cost = 584647.125000000\n",
            "Epoch: 2270 Cost = 272374.750000000\n",
            "Epoch: 2280 Cost = 598945.750000000\n",
            "Epoch: 2290 Cost = 590863.812500000\n",
            "Epoch: 2300 Cost = 624542.187500000\n",
            "Epoch: 2310 Cost = 611610.312500000\n",
            "Epoch: 2320 Cost = 616291.000000000\n",
            "Epoch: 2330 Cost = 627418.937500000\n",
            "Epoch: 2340 Cost = 602482.437500000\n",
            "Epoch: 2350 Cost = 255126.906250000\n",
            "Epoch: 2360 Cost = 259082.953125000\n",
            "Epoch: 2370 Cost = 619597.625000000\n",
            "Epoch: 2380 Cost = 629659.312500000\n",
            "Epoch: 2390 Cost = 616923.437500000\n",
            "Epoch: 2400 Cost = 607326.625000000\n",
            "Epoch: 2410 Cost = 612483.000000000\n",
            "Epoch: 2420 Cost = 592581.937500000\n",
            "Epoch: 2430 Cost = 620545.312500000\n",
            "Epoch: 2440 Cost = 624120.125000000\n",
            "Epoch: 2450 Cost = 622798.750000000\n",
            "Epoch: 2460 Cost = 627020.500000000\n",
            "Epoch: 2470 Cost = 266268.875000000\n",
            "Epoch: 2480 Cost = 611300.875000000\n",
            "Epoch: 2490 Cost = 619736.437500000\n",
            "Epoch: 2500 Cost = 282274.187500000\n",
            "Epoch: 2510 Cost = 593807.500000000\n",
            "Epoch: 2520 Cost = 587845.250000000\n",
            "Epoch: 2530 Cost = 616964.250000000\n",
            "Epoch: 2540 Cost = 608394.125000000\n",
            "Epoch: 2550 Cost = 594248.687500000\n",
            "Epoch: 2560 Cost = 601385.562500000\n",
            "Epoch: 2570 Cost = 604742.625000000\n",
            "Epoch: 2580 Cost = 617083.000000000\n",
            "Epoch: 2590 Cost = 602240.375000000\n",
            "Epoch: 2600 Cost = 610830.875000000\n",
            "Epoch: 2610 Cost = 272423.812500000\n",
            "Epoch: 2620 Cost = 594452.812500000\n",
            "Epoch: 2630 Cost = 593671.750000000\n",
            "Epoch: 2640 Cost = 616974.812500000\n",
            "Epoch: 2650 Cost = 613949.562500000\n",
            "Epoch: 2660 Cost = 615994.625000000\n",
            "Epoch: 2670 Cost = 591704.250000000\n",
            "Epoch: 2680 Cost = 611981.375000000\n",
            "Epoch: 2690 Cost = 587996.750000000\n",
            "Epoch: 2700 Cost = 608497.062500000\n",
            "Epoch: 2710 Cost = 278954.812500000\n",
            "Epoch: 2720 Cost = 612576.062500000\n",
            "Epoch: 2730 Cost = 608822.812500000\n",
            "Epoch: 2740 Cost = 609143.687500000\n",
            "Epoch: 2750 Cost = 597100.437500000\n",
            "Epoch: 2760 Cost = 611134.125000000\n",
            "Epoch: 2770 Cost = 598786.875000000\n",
            "Epoch: 2780 Cost = 588187.312500000\n",
            "Epoch: 2790 Cost = 609923.937500000\n",
            "Epoch: 2800 Cost = 600673.125000000\n",
            "Epoch: 2810 Cost = 259603.390625000\n",
            "Epoch: 2820 Cost = 611791.937500000\n",
            "Epoch: 2830 Cost = 609224.625000000\n",
            "Epoch: 2840 Cost = 582364.437500000\n",
            "Epoch: 2850 Cost = 584474.500000000\n",
            "Epoch: 2860 Cost = 237888.125000000\n",
            "Epoch: 2870 Cost = 620544.312500000\n",
            "Epoch: 2880 Cost = 609793.250000000\n",
            "Epoch: 2890 Cost = 610753.812500000\n",
            "Epoch: 2900 Cost = 589520.062500000\n",
            "Epoch: 2910 Cost = 272823.718750000\n",
            "Epoch: 2920 Cost = 270363.562500000\n",
            "Epoch: 2930 Cost = 619000.625000000\n",
            "Epoch: 2940 Cost = 622398.000000000\n",
            "Epoch: 2950 Cost = 612929.562500000\n",
            "Epoch: 2960 Cost = 579662.875000000\n",
            "Epoch: 2970 Cost = 598229.000000000\n",
            "Epoch: 2980 Cost = 609077.125000000\n",
            "Epoch: 2990 Cost = 592055.437500000\n",
            "Epoch: 3000 Cost = 599090.187500000\n",
            "Epoch: 3010 Cost = 568921.062500000\n",
            "Epoch: 3020 Cost = 283931.750000000\n",
            "Epoch: 3030 Cost = 609282.750000000\n",
            "Epoch: 3040 Cost = 612630.875000000\n",
            "Epoch: 3050 Cost = 582639.000000000\n",
            "Epoch: 3060 Cost = 616146.500000000\n",
            "Epoch: 3070 Cost = 606923.812500000\n",
            "Epoch: 3080 Cost = 607390.562500000\n",
            "Epoch: 3090 Cost = 607041.937500000\n",
            "Epoch: 3100 Cost = 617259.812500000\n",
            "Epoch: 3110 Cost = 594370.000000000\n",
            "Epoch: 3120 Cost = 603745.000000000\n",
            "Epoch: 3130 Cost = 578353.250000000\n",
            "Epoch: 3140 Cost = 609116.812500000\n",
            "Epoch: 3150 Cost = 229096.671875000\n",
            "Epoch: 3160 Cost = 617023.437500000\n",
            "Epoch: 3170 Cost = 592737.812500000\n",
            "Epoch: 3180 Cost = 604577.437500000\n",
            "Epoch: 3190 Cost = 602916.187500000\n",
            "Epoch: 3200 Cost = 595376.937500000\n",
            "Epoch: 3210 Cost = 581402.875000000\n",
            "Epoch: 3220 Cost = 606758.125000000\n",
            "Epoch: 3230 Cost = 600077.125000000\n",
            "Epoch: 3240 Cost = 275008.750000000\n",
            "Epoch: 3250 Cost = 606365.562500000\n",
            "Epoch: 3260 Cost = 578754.687500000\n",
            "Epoch: 3270 Cost = 604464.250000000\n",
            "Epoch: 3280 Cost = 578349.375000000\n",
            "Epoch: 3290 Cost = 596523.187500000\n",
            "Epoch: 3300 Cost = 606103.812500000\n",
            "Epoch: 3310 Cost = 580140.125000000\n",
            "Epoch: 3320 Cost = 608661.375000000\n",
            "Epoch: 3330 Cost = 580159.500000000\n",
            "Epoch: 3340 Cost = 621889.125000000\n",
            "Epoch: 3350 Cost = 604349.875000000\n",
            "Epoch: 3360 Cost = 612933.187500000\n",
            "Epoch: 3370 Cost = 599551.312500000\n",
            "Epoch: 3380 Cost = 608974.250000000\n",
            "Epoch: 3390 Cost = 607054.375000000\n",
            "Epoch: 3400 Cost = 589462.250000000\n",
            "Epoch: 3410 Cost = 610913.500000000\n",
            "Epoch: 3420 Cost = 256463.843750000\n",
            "Epoch: 3430 Cost = 581940.250000000\n",
            "Epoch: 3440 Cost = 586357.937500000\n",
            "Epoch: 3450 Cost = 617597.375000000\n",
            "Epoch: 3460 Cost = 599415.875000000\n",
            "Epoch: 3470 Cost = 582862.312500000\n",
            "Epoch: 3480 Cost = 617299.875000000\n",
            "Epoch: 3490 Cost = 590810.937500000\n",
            "Epoch: 3500 Cost = 611436.875000000\n",
            "Epoch: 3510 Cost = 597908.187500000\n",
            "Epoch: 3520 Cost = 574456.625000000\n",
            "Epoch: 3530 Cost = 583871.812500000\n",
            "Epoch: 3540 Cost = 590808.625000000\n",
            "Epoch: 3550 Cost = 568306.250000000\n",
            "Epoch: 3560 Cost = 598854.312500000\n",
            "Epoch: 3570 Cost = 610573.937500000\n",
            "Epoch: 3580 Cost = 597811.000000000\n",
            "Epoch: 3590 Cost = 602546.000000000\n",
            "Epoch: 3600 Cost = 588752.000000000\n",
            "Epoch: 3610 Cost = 586348.062500000\n",
            "Epoch: 3620 Cost = 609703.500000000\n",
            "Epoch: 3630 Cost = 587245.375000000\n",
            "Epoch: 3640 Cost = 602690.625000000\n",
            "Epoch: 3650 Cost = 609978.187500000\n",
            "Epoch: 3660 Cost = 581632.562500000\n",
            "Epoch: 3670 Cost = 619552.500000000\n",
            "Epoch: 3680 Cost = 578777.000000000\n",
            "Epoch: 3690 Cost = 588862.375000000\n",
            "Epoch: 3700 Cost = 577028.187500000\n",
            "Epoch: 3710 Cost = 609793.937500000\n",
            "Epoch: 3720 Cost = 595743.875000000\n",
            "Epoch: 3730 Cost = 603544.125000000\n",
            "Epoch: 3740 Cost = 587626.687500000\n",
            "Epoch: 3750 Cost = 602863.125000000\n",
            "Epoch: 3760 Cost = 599274.875000000\n",
            "Epoch: 3770 Cost = 614464.562500000\n",
            "Epoch: 3780 Cost = 613760.687500000\n",
            "Epoch: 3790 Cost = 590764.312500000\n",
            "Epoch: 3800 Cost = 581008.750000000\n",
            "Epoch: 3810 Cost = 270498.437500000\n",
            "Epoch: 3820 Cost = 613526.000000000\n",
            "Epoch: 3830 Cost = 612069.750000000\n",
            "Epoch: 3840 Cost = 595017.500000000\n",
            "Epoch: 3850 Cost = 577782.312500000\n",
            "Epoch: 3860 Cost = 598111.375000000\n",
            "Epoch: 3870 Cost = 607727.750000000\n",
            "Epoch: 3880 Cost = 580685.875000000\n",
            "Epoch: 3890 Cost = 573111.937500000\n",
            "Epoch: 3900 Cost = 570531.437500000\n",
            "Epoch: 3910 Cost = 598565.625000000\n",
            "Epoch: 3920 Cost = 583006.812500000\n",
            "Epoch: 3930 Cost = 602728.437500000\n",
            "Epoch: 3940 Cost = 615174.062500000\n",
            "Epoch: 3950 Cost = 609165.625000000\n",
            "Epoch: 3960 Cost = 250848.640625000\n",
            "Epoch: 3970 Cost = 602734.250000000\n",
            "Epoch: 3980 Cost = 249411.406250000\n",
            "Epoch: 3990 Cost = 255027.718750000\n",
            "Learning Finished\n"
          ],
          "name": "stdout"
        }
      ]
    },
    {
      "cell_type": "code",
      "metadata": {
        "id": "XtNB-owOXkLa",
        "colab_type": "code",
        "colab": {
          "base_uri": "https://localhost:8080/",
          "height": 1000
        },
        "outputId": "31acfe05-d98e-4b27-965b-e7ccfb3e52cd"
      },
      "source": [
        "test = pd.read_csv('library_test.csv',header=None,skiprows=2)\n",
        "\n",
        "print(test.head(10))\n",
        "print(test.info())\n",
        "test = test.iloc[:,5:]\n",
        "test = Scaler.transform(test)\n",
        "test = np.array(test)\n",
        "test = torch.FloatTensor(test).to(device)\n",
        "\n",
        "with torch.no_grad():\n",
        "    predict = model(test)\n",
        "predict"
      ],
      "execution_count": 277,
      "outputs": [
        {
          "output_type": "stream",
          "text": [
            "     0   1             2   3    4   ...   7       8       9       10  11\n",
            "0  시ㆍ군립  북부   고양시 아람누리도서관   1  326  ...  157  466367  426352  320636   8\n",
            "1  시ㆍ군립  북부     고양시 마두도서관   1  536  ...  134  306977  173151  142997   7\n",
            "2  시ㆍ군립  북부     고양시 백석도서관   1  425  ...  115  344448  233102  201259   5\n",
            "3  시ㆍ군립  북부     고양시 화정도서관   1  866  ...  144  481933  313548  324145  22\n",
            "4  시ㆍ군립  북부     고양시 행신도서관   1  378  ...  108  340788  231633  169154   5\n",
            "5  시ㆍ군립  북부     고양시 원당도서관   1  418  ...  105  228037  174622  121731   3\n",
            "6  시ㆍ군립  북부     고양시 한뫼도서관   1  391  ...  139  404896  320675  243378   5\n",
            "7  시ㆍ군립  북부     고양시 대화도서관   1  435  ...  141  518542  398303  367315   8\n",
            "8  시ㆍ군립  북부     고양시 풍동도서관   1  110  ...   99  207936  201749  172968   6\n",
            "9  시ㆍ군립  북부  고양시 주엽어린이도서관   1   94  ...   38  244587  223274  267745   5\n",
            "\n",
            "[10 rows x 12 columns]\n",
            "<class 'pandas.core.frame.DataFrame'>\n",
            "RangeIndex: 72 entries, 0 to 71\n",
            "Data columns (total 12 columns):\n",
            " #   Column  Non-Null Count  Dtype \n",
            "---  ------  --------------  ----- \n",
            " 0   0       72 non-null     object\n",
            " 1   1       72 non-null     object\n",
            " 2   2       72 non-null     object\n",
            " 3   3       72 non-null     int64 \n",
            " 4   4       72 non-null     int64 \n",
            " 5   5       72 non-null     int64 \n",
            " 6   6       72 non-null     int64 \n",
            " 7   7       72 non-null     int64 \n",
            " 8   8       72 non-null     int64 \n",
            " 9   9       72 non-null     int64 \n",
            " 10  10      72 non-null     int64 \n",
            " 11  11      72 non-null     int64 \n",
            "dtypes: int64(9), object(3)\n",
            "memory usage: 6.9+ KB\n",
            "None\n"
          ],
          "name": "stdout"
        },
        {
          "output_type": "execute_result",
          "data": {
            "text/plain": [
              "tensor([[1745.3710],\n",
              "        [1518.1801],\n",
              "        [1255.2670],\n",
              "        [2368.5286],\n",
              "        [1225.9395],\n",
              "        [ 997.6014],\n",
              "        [1323.6976],\n",
              "        [1495.3226],\n",
              "        [1045.0718],\n",
              "        [ 877.4924],\n",
              "        [ 765.6346],\n",
              "        [ 705.4663],\n",
              "        [ 973.4793],\n",
              "        [1086.7668],\n",
              "        [ 997.3898],\n",
              "        [ 938.4026],\n",
              "        [ 931.4088],\n",
              "        [1514.1166],\n",
              "        [1333.9647],\n",
              "        [1247.7499],\n",
              "        [1356.0648],\n",
              "        [1295.2972],\n",
              "        [1204.4906],\n",
              "        [1176.0575],\n",
              "        [1158.8656],\n",
              "        [1085.1202],\n",
              "        [1133.8549],\n",
              "        [1164.7783],\n",
              "        [1022.9604],\n",
              "        [2365.4526],\n",
              "        [ 826.9621],\n",
              "        [ 464.6377],\n",
              "        [2151.8181],\n",
              "        [2513.2056],\n",
              "        [ 997.7238],\n",
              "        [ 360.7691],\n",
              "        [ 722.5806],\n",
              "        [ 823.1031],\n",
              "        [2378.1116],\n",
              "        [ 656.4070],\n",
              "        [ 534.9772],\n",
              "        [ 686.9366],\n",
              "        [ 726.0626],\n",
              "        [ 476.4657],\n",
              "        [ 293.3604],\n",
              "        [ 938.4147],\n",
              "        [ 893.2292],\n",
              "        [ 304.6872],\n",
              "        [2485.0227],\n",
              "        [1680.7020],\n",
              "        [1549.3585],\n",
              "        [ 644.7901],\n",
              "        [ 234.9837],\n",
              "        [ 645.9239],\n",
              "        [1132.2418],\n",
              "        [ 364.0037],\n",
              "        [ 449.1077],\n",
              "        [ 787.4236],\n",
              "        [ 727.8727],\n",
              "        [ 328.6092],\n",
              "        [ 553.2321],\n",
              "        [ 518.4103],\n",
              "        [ 580.6314],\n",
              "        [ 410.8697],\n",
              "        [1366.0398],\n",
              "        [1140.5629],\n",
              "        [1191.4404],\n",
              "        [ 663.9197],\n",
              "        [ 556.6142],\n",
              "        [ 572.9894],\n",
              "        [ 803.7546],\n",
              "        [ 541.3652]], device='cuda:0')"
            ]
          },
          "metadata": {
            "tags": []
          },
          "execution_count": 277
        }
      ]
    },
    {
      "cell_type": "code",
      "metadata": {
        "id": "7L6vW5iPYFNg",
        "colab_type": "code",
        "colab": {}
      },
      "source": [
        "correct_prediction = predict.cpu().numpy().reshape(-1,1)"
      ],
      "execution_count": 278,
      "outputs": []
    },
    {
      "cell_type": "code",
      "metadata": {
        "id": "FvQU9O7wYMXV",
        "colab_type": "code",
        "colab": {
          "base_uri": "https://localhost:8080/",
          "height": 419
        },
        "outputId": "84bdb9cd-f53f-45b3-d775-76090ca9683c"
      },
      "source": [
        "submit = pd.read_csv('sample_submit.csv')\n",
        "for i in range(len(correct_prediction)):\n",
        "  submit['Expected'][i]=correct_prediction[i].item()\n",
        "  submit['id'][i] = i\n",
        "submit.to_csv('submit.csv', mode = 'w', index = False, header = True)\n",
        "submit"
      ],
      "execution_count": 279,
      "outputs": [
        {
          "output_type": "execute_result",
          "data": {
            "text/html": [
              "<div>\n",
              "<style scoped>\n",
              "    .dataframe tbody tr th:only-of-type {\n",
              "        vertical-align: middle;\n",
              "    }\n",
              "\n",
              "    .dataframe tbody tr th {\n",
              "        vertical-align: top;\n",
              "    }\n",
              "\n",
              "    .dataframe thead th {\n",
              "        text-align: right;\n",
              "    }\n",
              "</style>\n",
              "<table border=\"1\" class=\"dataframe\">\n",
              "  <thead>\n",
              "    <tr style=\"text-align: right;\">\n",
              "      <th></th>\n",
              "      <th>id</th>\n",
              "      <th>Expected</th>\n",
              "    </tr>\n",
              "  </thead>\n",
              "  <tbody>\n",
              "    <tr>\n",
              "      <th>0</th>\n",
              "      <td>0</td>\n",
              "      <td>1745</td>\n",
              "    </tr>\n",
              "    <tr>\n",
              "      <th>1</th>\n",
              "      <td>1</td>\n",
              "      <td>1518</td>\n",
              "    </tr>\n",
              "    <tr>\n",
              "      <th>2</th>\n",
              "      <td>2</td>\n",
              "      <td>1255</td>\n",
              "    </tr>\n",
              "    <tr>\n",
              "      <th>3</th>\n",
              "      <td>3</td>\n",
              "      <td>2368</td>\n",
              "    </tr>\n",
              "    <tr>\n",
              "      <th>4</th>\n",
              "      <td>4</td>\n",
              "      <td>1225</td>\n",
              "    </tr>\n",
              "    <tr>\n",
              "      <th>...</th>\n",
              "      <td>...</td>\n",
              "      <td>...</td>\n",
              "    </tr>\n",
              "    <tr>\n",
              "      <th>67</th>\n",
              "      <td>67</td>\n",
              "      <td>663</td>\n",
              "    </tr>\n",
              "    <tr>\n",
              "      <th>68</th>\n",
              "      <td>68</td>\n",
              "      <td>556</td>\n",
              "    </tr>\n",
              "    <tr>\n",
              "      <th>69</th>\n",
              "      <td>69</td>\n",
              "      <td>572</td>\n",
              "    </tr>\n",
              "    <tr>\n",
              "      <th>70</th>\n",
              "      <td>70</td>\n",
              "      <td>803</td>\n",
              "    </tr>\n",
              "    <tr>\n",
              "      <th>71</th>\n",
              "      <td>71</td>\n",
              "      <td>541</td>\n",
              "    </tr>\n",
              "  </tbody>\n",
              "</table>\n",
              "<p>72 rows × 2 columns</p>\n",
              "</div>"
            ],
            "text/plain": [
              "    id  Expected\n",
              "0    0      1745\n",
              "1    1      1518\n",
              "2    2      1255\n",
              "3    3      2368\n",
              "4    4      1225\n",
              "..  ..       ...\n",
              "67  67       663\n",
              "68  68       556\n",
              "69  69       572\n",
              "70  70       803\n",
              "71  71       541\n",
              "\n",
              "[72 rows x 2 columns]"
            ]
          },
          "metadata": {
            "tags": []
          },
          "execution_count": 279
        }
      ]
    },
    {
      "cell_type": "code",
      "metadata": {
        "id": "1RDCKR6iYehI",
        "colab_type": "code",
        "colab": {
          "base_uri": "https://localhost:8080/",
          "height": 51
        },
        "outputId": "b314bd54-e156-425b-d97e-9712d7a9a1d8"
      },
      "source": [
        "!kaggle competitions submit -c library-project -f submit.csv -m \"14010974_이기택\""
      ],
      "execution_count": 280,
      "outputs": [
        {
          "output_type": "stream",
          "text": [
            "100% 538/538 [00:07<00:00, 71.6B/s]\n",
            "Successfully submitted to SejongAI.텀프로젝트.공공도서관 예산 예측하기"
          ],
          "name": "stdout"
        }
      ]
    }
  ]
}
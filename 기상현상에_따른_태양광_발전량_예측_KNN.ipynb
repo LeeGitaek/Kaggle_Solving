{
  "nbformat": 4,
  "nbformat_minor": 0,
  "metadata": {
    "colab": {
      "name": "기상현상에_따른_태양광_발전량_예측_KNN.ipynb",
      "provenance": [],
      "authorship_tag": "ABX9TyNTM5wHZ16qIGWinK8l896w"
    },
    "kernelspec": {
      "name": "python3",
      "display_name": "Python 3"
    },
    "accelerator": "GPU"
  },
  "cells": [
    {
      "cell_type": "code",
      "metadata": {
        "id": "YaYb2DQ-EfJN",
        "outputId": "a8340c66-0fc7-4075-e227-edcc5e55fdfe",
        "colab": {
          "base_uri": "https://localhost:8080/",
          "height": 564
        }
      },
      "source": [
        "#기상현상에 따른 태양광 발전량 예측 \n",
        "# 0.16145\n",
        "!pip uninstall --y kaggle\n",
        "!pip install --upgrade pip\n",
        "!pip  install kaggle==1.5.6\n",
        "\n",
        "!mkdir -p ~/.kaggle\n",
        "!cp kaggle.json ~/.kaggle/\n",
        "!chmod 600 ~/.kaggle/kaggle.json\n",
        "!kaggle -v"
      ],
      "execution_count": 2,
      "outputs": [
        {
          "output_type": "stream",
          "text": [
            "Uninstalling kaggle-1.5.8:\n",
            "  Successfully uninstalled kaggle-1.5.8\n",
            "Collecting pip\n",
            "\u001b[?25l  Downloading https://files.pythonhosted.org/packages/cb/28/91f26bd088ce8e22169032100d4260614fc3da435025ff389ef1d396a433/pip-20.2.4-py2.py3-none-any.whl (1.5MB)\n",
            "\u001b[K     |████████████████████████████████| 1.5MB 10.8MB/s \n",
            "\u001b[?25hInstalling collected packages: pip\n",
            "  Found existing installation: pip 19.3.1\n",
            "    Uninstalling pip-19.3.1:\n",
            "      Successfully uninstalled pip-19.3.1\n",
            "Successfully installed pip-20.2.4\n",
            "Collecting kaggle==1.5.6\n",
            "  Downloading kaggle-1.5.6.tar.gz (58 kB)\n",
            "\u001b[K     |████████████████████████████████| 58 kB 4.2 MB/s \n",
            "\u001b[?25hRequirement already satisfied: urllib3<1.25,>=1.21.1 in /usr/local/lib/python3.6/dist-packages (from kaggle==1.5.6) (1.24.3)\n",
            "Requirement already satisfied: six>=1.10 in /usr/local/lib/python3.6/dist-packages (from kaggle==1.5.6) (1.15.0)\n",
            "Requirement already satisfied: certifi in /usr/local/lib/python3.6/dist-packages (from kaggle==1.5.6) (2020.6.20)\n",
            "Requirement already satisfied: python-dateutil in /usr/local/lib/python3.6/dist-packages (from kaggle==1.5.6) (2.8.1)\n",
            "Requirement already satisfied: requests in /usr/local/lib/python3.6/dist-packages (from kaggle==1.5.6) (2.23.0)\n",
            "Requirement already satisfied: tqdm in /usr/local/lib/python3.6/dist-packages (from kaggle==1.5.6) (4.41.1)\n",
            "Requirement already satisfied: python-slugify in /usr/local/lib/python3.6/dist-packages (from kaggle==1.5.6) (4.0.1)\n",
            "Requirement already satisfied: chardet<4,>=3.0.2 in /usr/local/lib/python3.6/dist-packages (from requests->kaggle==1.5.6) (3.0.4)\n",
            "Requirement already satisfied: idna<3,>=2.5 in /usr/local/lib/python3.6/dist-packages (from requests->kaggle==1.5.6) (2.10)\n",
            "Requirement already satisfied: text-unidecode>=1.3 in /usr/local/lib/python3.6/dist-packages (from python-slugify->kaggle==1.5.6) (1.3)\n",
            "Building wheels for collected packages: kaggle\n",
            "  Building wheel for kaggle (setup.py) ... \u001b[?25l\u001b[?25hdone\n",
            "  Created wheel for kaggle: filename=kaggle-1.5.6-py3-none-any.whl size=72859 sha256=a7b724774d35d6d6eed0d3cb06caac5049ff0ad1c3d708e9d273b73d22dbe02d\n",
            "  Stored in directory: /root/.cache/pip/wheels/01/3e/ff/77407ebac3ef71a79b9166a8382aecf88415a0bcbe3c095a01\n",
            "Successfully built kaggle\n",
            "Installing collected packages: kaggle\n",
            "Successfully installed kaggle-1.5.6\n",
            "Kaggle API 1.5.6\n"
          ],
          "name": "stdout"
        }
      ]
    },
    {
      "cell_type": "code",
      "metadata": {
        "id": "6mGrNqSCG8Vi",
        "outputId": "4e4fee7c-1b68-4e1b-eecd-395f441daaa5",
        "colab": {
          "base_uri": "https://localhost:8080/",
          "height": 136
        }
      },
      "source": [
        "!kaggle competitions download -c solarenergy-meteorologicalphenomenon2\n",
        "!unzip solarenergy-meteorologicalphenomenon2.zip"
      ],
      "execution_count": 3,
      "outputs": [
        {
          "output_type": "stream",
          "text": [
            "Downloading solarenergy-meteorologicalphenomenon2.zip to /content\n",
            "\r  0% 0.00/6.51k [00:00<?, ?B/s]\n",
            "\r100% 6.51k/6.51k [00:00<00:00, 4.74MB/s]\n",
            "Archive:  solarenergy-meteorologicalphenomenon2.zip\n",
            "  inflating: Solar_SubmitForm_2.csv  \n",
            "  inflating: Solar_TestData_2.csv    \n",
            "  inflating: Solar_TrainData_3.csv   \n"
          ],
          "name": "stdout"
        }
      ]
    },
    {
      "cell_type": "code",
      "metadata": {
        "id": "Ve4IIC5GHhp7",
        "outputId": "56274e07-9ddf-47b5-f5df-a747a61f8cdd",
        "colab": {
          "base_uri": "https://localhost:8080/",
          "height": 391
        }
      },
      "source": [
        "import seaborn as sns \n",
        "import pandas as pd \n",
        "\n",
        "\n",
        "df_train = pd.read_csv('Solar_TrainData_3.csv',header=None,skiprows=1,usecols=range(0,9))\n",
        "df_test  = pd.read_csv('Solar_TestData_2.csv',header=None,skiprows=1,usecols=range(0,8))\n",
        "print(df_train.head(10))\n",
        "print(df_test.head(10))"
      ],
      "execution_count": 36,
      "outputs": [
        {
          "output_type": "stream",
          "text": [
            "            0    1    2    3      4    5     6    7      8\n",
            "0  2018-01-01  0.9  0.0  1.5  0.479  8.4  7.13  0.0  1.229\n",
            "1  2018-01-02  0.7  0.0  0.7  0.569  8.1  6.70  0.0  1.034\n",
            "2  2018-01-03  2.0  0.0  1.5  0.265  8.6  7.35  0.0  1.193\n",
            "3  2018-01-04  1.4  0.0  1.0  0.321  4.0  4.79  0.0  0.859\n",
            "4  2018-01-05  2.4  0.0  1.3  0.379  7.1  6.54  0.0  1.197\n",
            "5  2018-01-06 -0.3  0.0  0.8  0.523  8.5  7.64  0.0  1.268\n",
            "6  2018-01-07 -0.3  0.9  0.5  0.619  1.0  2.81  0.0  0.419\n",
            "7  2018-01-08  3.2  1.5  1.1  0.814  0.0  1.23  0.0  0.231\n",
            "8  2018-01-09  1.8  0.0  2.6  0.450  7.7  6.81  0.0  0.685\n",
            "9  2018-01-10 -1.7  0.5  2.3  0.573  4.3  4.31  0.0  0.640\n",
            "            0     1     2    3      4     5      6    7\n",
            "0  2018-01-11  -5.4   0.0  1.5  0.465   8.7   7.78  0.0\n",
            "1  2018-02-16   3.4   0.0  0.8  0.309   5.2   6.63  0.0\n",
            "2  2018-03-04   9.4  13.1  0.8  0.859   0.0   2.40  0.0\n",
            "3  2018-03-28  13.4   0.0  1.2  0.611  10.7  13.74  0.0\n",
            "4  2018-04-27  16.1   0.0  1.1  0.583  11.1  24.00  0.0\n",
            "5  2018-05-11  16.5   0.0  1.2  0.603  10.3  24.66  0.0\n",
            "6  2018-05-30  22.1   0.0  1.2  0.765   6.1  18.86  0.0\n",
            "7  2018-06-12  18.5  19.4  0.9  0.830   1.3   9.28  0.0\n",
            "8  2018-06-25  24.6   0.0  1.2  0.650  10.2  22.89  0.0\n",
            "9  2018-07-28  28.6   0.0  1.1  0.779   3.8  13.54  0.0\n"
          ],
          "name": "stdout"
        }
      ]
    },
    {
      "cell_type": "code",
      "metadata": {
        "id": "EPamCCg1VP0W",
        "outputId": "2f1ba831-e202-4eb8-8aec-7f03d987d144",
        "colab": {
          "base_uri": "https://localhost:8080/",
          "height": 51
        }
      },
      "source": [
        "X = df_train.iloc[:,1:7]\n",
        "y = df_train.iloc[:,[-1]]\n",
        "X_test = df_test.iloc[:,1:7]\n",
        "\n",
        "print(X.shape)\n",
        "print(y.shape)"
      ],
      "execution_count": 37,
      "outputs": [
        {
          "output_type": "stream",
          "text": [
            "(350, 6)\n",
            "(350, 1)\n"
          ],
          "name": "stdout"
        }
      ]
    },
    {
      "cell_type": "code",
      "metadata": {
        "id": "7mMvntY9Kzug",
        "outputId": "661c5146-a2f1-412e-c3ed-0c4f6d89f264",
        "colab": {
          "base_uri": "https://localhost:8080/",
          "height": 289
        }
      },
      "source": [
        "from sklearn.neighbors import KNeighborsRegressor\n",
        "from sklearn.metrics import mean_squared_error\n",
        "\n",
        "regressor = KNeighborsRegressor(n_neighbors=10,weights = \"distance\")\n",
        "\n",
        "regressor.fit(X, y)\n",
        "\n",
        "test_predict = regressor.predict(X_test)\n",
        "print(test_predict)"
      ],
      "execution_count": 86,
      "outputs": [
        {
          "output_type": "stream",
          "text": [
            "[[1.38878594]\n",
            " [1.00044753]\n",
            " [0.37442653]\n",
            " [1.59008379]\n",
            " [2.00562103]\n",
            " [2.02833521]\n",
            " [1.51183147]\n",
            " [0.4399516 ]\n",
            " [1.7948916 ]\n",
            " [1.17044329]\n",
            " [0.60149115]\n",
            " [0.44398969]\n",
            " [1.645     ]\n",
            " [1.02044795]\n",
            " [1.29387252]\n",
            " [0.78602938]]\n"
          ],
          "name": "stdout"
        }
      ]
    },
    {
      "cell_type": "code",
      "metadata": {
        "id": "ZNubX86NM0Es",
        "outputId": "022f6f11-d4dd-42b3-bd42-b4ec0f03f7bc",
        "colab": {
          "base_uri": "https://localhost:8080/",
          "height": 545
        }
      },
      "source": [
        "submit = pd.read_csv('Solar_SubmitForm_2.csv')\n",
        "submit"
      ],
      "execution_count": 87,
      "outputs": [
        {
          "output_type": "execute_result",
          "data": {
            "text/html": [
              "<div>\n",
              "<style scoped>\n",
              "    .dataframe tbody tr th:only-of-type {\n",
              "        vertical-align: middle;\n",
              "    }\n",
              "\n",
              "    .dataframe tbody tr th {\n",
              "        vertical-align: top;\n",
              "    }\n",
              "\n",
              "    .dataframe thead th {\n",
              "        text-align: right;\n",
              "    }\n",
              "</style>\n",
              "<table border=\"1\" class=\"dataframe\">\n",
              "  <thead>\n",
              "    <tr style=\"text-align: right;\">\n",
              "      <th></th>\n",
              "      <th>YYYY/MM/DD</th>\n",
              "      <th>Predict</th>\n",
              "    </tr>\n",
              "  </thead>\n",
              "  <tbody>\n",
              "    <tr>\n",
              "      <th>0</th>\n",
              "      <td>0000-00-00</td>\n",
              "      <td>NaN</td>\n",
              "    </tr>\n",
              "    <tr>\n",
              "      <th>1</th>\n",
              "      <td>0000-00-00</td>\n",
              "      <td>NaN</td>\n",
              "    </tr>\n",
              "    <tr>\n",
              "      <th>2</th>\n",
              "      <td>0000-00-00</td>\n",
              "      <td>NaN</td>\n",
              "    </tr>\n",
              "    <tr>\n",
              "      <th>3</th>\n",
              "      <td>0000-00-00</td>\n",
              "      <td>NaN</td>\n",
              "    </tr>\n",
              "    <tr>\n",
              "      <th>4</th>\n",
              "      <td>0000-00-00</td>\n",
              "      <td>NaN</td>\n",
              "    </tr>\n",
              "    <tr>\n",
              "      <th>5</th>\n",
              "      <td>0000-00-00</td>\n",
              "      <td>NaN</td>\n",
              "    </tr>\n",
              "    <tr>\n",
              "      <th>6</th>\n",
              "      <td>0000-00-00</td>\n",
              "      <td>NaN</td>\n",
              "    </tr>\n",
              "    <tr>\n",
              "      <th>7</th>\n",
              "      <td>0000-00-00</td>\n",
              "      <td>NaN</td>\n",
              "    </tr>\n",
              "    <tr>\n",
              "      <th>8</th>\n",
              "      <td>0000-00-00</td>\n",
              "      <td>NaN</td>\n",
              "    </tr>\n",
              "    <tr>\n",
              "      <th>9</th>\n",
              "      <td>0000-00-00</td>\n",
              "      <td>NaN</td>\n",
              "    </tr>\n",
              "    <tr>\n",
              "      <th>10</th>\n",
              "      <td>0000-00-00</td>\n",
              "      <td>NaN</td>\n",
              "    </tr>\n",
              "    <tr>\n",
              "      <th>11</th>\n",
              "      <td>0000-00-00</td>\n",
              "      <td>NaN</td>\n",
              "    </tr>\n",
              "    <tr>\n",
              "      <th>12</th>\n",
              "      <td>0000-00-00</td>\n",
              "      <td>NaN</td>\n",
              "    </tr>\n",
              "    <tr>\n",
              "      <th>13</th>\n",
              "      <td>0000-00-00</td>\n",
              "      <td>NaN</td>\n",
              "    </tr>\n",
              "    <tr>\n",
              "      <th>14</th>\n",
              "      <td>0000-00-00</td>\n",
              "      <td>NaN</td>\n",
              "    </tr>\n",
              "    <tr>\n",
              "      <th>15</th>\n",
              "      <td>0000-00-00</td>\n",
              "      <td>NaN</td>\n",
              "    </tr>\n",
              "  </tbody>\n",
              "</table>\n",
              "</div>"
            ],
            "text/plain": [
              "    YYYY/MM/DD  Predict\n",
              "0   0000-00-00      NaN\n",
              "1   0000-00-00      NaN\n",
              "2   0000-00-00      NaN\n",
              "3   0000-00-00      NaN\n",
              "4   0000-00-00      NaN\n",
              "5   0000-00-00      NaN\n",
              "6   0000-00-00      NaN\n",
              "7   0000-00-00      NaN\n",
              "8   0000-00-00      NaN\n",
              "9   0000-00-00      NaN\n",
              "10  0000-00-00      NaN\n",
              "11  0000-00-00      NaN\n",
              "12  0000-00-00      NaN\n",
              "13  0000-00-00      NaN\n",
              "14  0000-00-00      NaN\n",
              "15  0000-00-00      NaN"
            ]
          },
          "metadata": {
            "tags": []
          },
          "execution_count": 87
        }
      ]
    },
    {
      "cell_type": "code",
      "metadata": {
        "id": "yOFhrpSMNnjs",
        "outputId": "f60b231d-19bd-453f-8e78-936863255063",
        "colab": {
          "base_uri": "https://localhost:8080/",
          "height": 630
        }
      },
      "source": [
        "MAKE = pd.read_csv('Solar_TestData_2.csv', header = None, skiprows= 1)\n",
        "\n",
        "for i in range(len(test_predict)):\n",
        "  submit['Predict'][i] = test_predict[i].item()\n",
        "\n",
        "submit['YYYY/MM/DD'] = MAKE[0]\n",
        "submit"
      ],
      "execution_count": 88,
      "outputs": [
        {
          "output_type": "stream",
          "text": [
            "/usr/local/lib/python3.6/dist-packages/ipykernel_launcher.py:4: SettingWithCopyWarning: \n",
            "A value is trying to be set on a copy of a slice from a DataFrame\n",
            "\n",
            "See the caveats in the documentation: https://pandas.pydata.org/pandas-docs/stable/user_guide/indexing.html#returning-a-view-versus-a-copy\n",
            "  after removing the cwd from sys.path.\n"
          ],
          "name": "stderr"
        },
        {
          "output_type": "execute_result",
          "data": {
            "text/html": [
              "<div>\n",
              "<style scoped>\n",
              "    .dataframe tbody tr th:only-of-type {\n",
              "        vertical-align: middle;\n",
              "    }\n",
              "\n",
              "    .dataframe tbody tr th {\n",
              "        vertical-align: top;\n",
              "    }\n",
              "\n",
              "    .dataframe thead th {\n",
              "        text-align: right;\n",
              "    }\n",
              "</style>\n",
              "<table border=\"1\" class=\"dataframe\">\n",
              "  <thead>\n",
              "    <tr style=\"text-align: right;\">\n",
              "      <th></th>\n",
              "      <th>YYYY/MM/DD</th>\n",
              "      <th>Predict</th>\n",
              "    </tr>\n",
              "  </thead>\n",
              "  <tbody>\n",
              "    <tr>\n",
              "      <th>0</th>\n",
              "      <td>2018-01-11</td>\n",
              "      <td>1.388786</td>\n",
              "    </tr>\n",
              "    <tr>\n",
              "      <th>1</th>\n",
              "      <td>2018-02-16</td>\n",
              "      <td>1.000448</td>\n",
              "    </tr>\n",
              "    <tr>\n",
              "      <th>2</th>\n",
              "      <td>2018-03-04</td>\n",
              "      <td>0.374427</td>\n",
              "    </tr>\n",
              "    <tr>\n",
              "      <th>3</th>\n",
              "      <td>2018-03-28</td>\n",
              "      <td>1.590084</td>\n",
              "    </tr>\n",
              "    <tr>\n",
              "      <th>4</th>\n",
              "      <td>2018-04-27</td>\n",
              "      <td>2.005621</td>\n",
              "    </tr>\n",
              "    <tr>\n",
              "      <th>5</th>\n",
              "      <td>2018-05-11</td>\n",
              "      <td>2.028335</td>\n",
              "    </tr>\n",
              "    <tr>\n",
              "      <th>6</th>\n",
              "      <td>2018-05-30</td>\n",
              "      <td>1.511831</td>\n",
              "    </tr>\n",
              "    <tr>\n",
              "      <th>7</th>\n",
              "      <td>2018-06-12</td>\n",
              "      <td>0.439952</td>\n",
              "    </tr>\n",
              "    <tr>\n",
              "      <th>8</th>\n",
              "      <td>2018-06-25</td>\n",
              "      <td>1.794892</td>\n",
              "    </tr>\n",
              "    <tr>\n",
              "      <th>9</th>\n",
              "      <td>2018-07-28</td>\n",
              "      <td>1.170443</td>\n",
              "    </tr>\n",
              "    <tr>\n",
              "      <th>10</th>\n",
              "      <td>2018-08-16</td>\n",
              "      <td>0.601491</td>\n",
              "    </tr>\n",
              "    <tr>\n",
              "      <th>11</th>\n",
              "      <td>2018-09-14</td>\n",
              "      <td>0.443990</td>\n",
              "    </tr>\n",
              "    <tr>\n",
              "      <th>12</th>\n",
              "      <td>2018-09-25</td>\n",
              "      <td>1.645000</td>\n",
              "    </tr>\n",
              "    <tr>\n",
              "      <th>13</th>\n",
              "      <td>2018-10-22</td>\n",
              "      <td>1.020448</td>\n",
              "    </tr>\n",
              "    <tr>\n",
              "      <th>14</th>\n",
              "      <td>2018-11-15</td>\n",
              "      <td>1.293873</td>\n",
              "    </tr>\n",
              "    <tr>\n",
              "      <th>15</th>\n",
              "      <td>2018-12-07</td>\n",
              "      <td>0.786029</td>\n",
              "    </tr>\n",
              "  </tbody>\n",
              "</table>\n",
              "</div>"
            ],
            "text/plain": [
              "    YYYY/MM/DD   Predict\n",
              "0   2018-01-11  1.388786\n",
              "1   2018-02-16  1.000448\n",
              "2   2018-03-04  0.374427\n",
              "3   2018-03-28  1.590084\n",
              "4   2018-04-27  2.005621\n",
              "5   2018-05-11  2.028335\n",
              "6   2018-05-30  1.511831\n",
              "7   2018-06-12  0.439952\n",
              "8   2018-06-25  1.794892\n",
              "9   2018-07-28  1.170443\n",
              "10  2018-08-16  0.601491\n",
              "11  2018-09-14  0.443990\n",
              "12  2018-09-25  1.645000\n",
              "13  2018-10-22  1.020448\n",
              "14  2018-11-15  1.293873\n",
              "15  2018-12-07  0.786029"
            ]
          },
          "metadata": {
            "tags": []
          },
          "execution_count": 88
        }
      ]
    },
    {
      "cell_type": "code",
      "metadata": {
        "id": "Ot5LALSdOEfJ"
      },
      "source": [
        "submit.to_csv('result.csv', mode='w', index = False)"
      ],
      "execution_count": 89,
      "outputs": []
    },
    {
      "cell_type": "code",
      "metadata": {
        "id": "Li9dFiRBOHt9",
        "outputId": "520695ac-dff4-44cf-fdbc-1278342182ac",
        "colab": {
          "base_uri": "https://localhost:8080/",
          "height": 68
        }
      },
      "source": [
        "! kaggle competitions submit -c solarenergy-meteorologicalphenomenon2 -f result.csv -m \"14010974 이기택 LATE\""
      ],
      "execution_count": 90,
      "outputs": [
        {
          "output_type": "stream",
          "text": [
            "Warning: Looks like you're using an outdated API Version, please consider updating (server 1.5.9 / client 1.5.6)\n",
            "100% 479/479 [00:00<00:00, 1.11kB/s]\n",
            "Successfully submitted to SejongAI.텀프로젝트.[기상현상에 따른 태양광발전량 예측]"
          ],
          "name": "stdout"
        }
      ]
    }
  ]
}
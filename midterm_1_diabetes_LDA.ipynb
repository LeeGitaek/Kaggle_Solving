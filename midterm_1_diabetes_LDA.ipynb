{
  "nbformat": 4,
  "nbformat_minor": 0,
  "metadata": {
    "colab": {
      "name": "midterm_1_diabetes_LDA.ipynb",
      "provenance": [],
      "collapsed_sections": [],
      "authorship_tag": "ABX9TyNvk0k38TAXeOydAB3/VzYw"
    },
    "kernelspec": {
      "name": "python3",
      "display_name": "Python 3"
    },
    "accelerator": "GPU"
  },
  "cells": [
    {
      "cell_type": "code",
      "metadata": {
        "id": "_aeeICXStavU",
        "outputId": "99f9e28a-43dd-466b-e443-ba605fdf45ff",
        "colab": {
          "base_uri": "https://localhost:8080/"
        }
      },
      "source": [
        "#2020-ml-p1-re\n",
        "!pip uninstall --y kaggle \n",
        "!pip install --upgrade pip\n",
        "!pip install kaggle==1.5.6\n",
        "\n",
        "!mkdir -p ~/.kaggle\n",
        "!cp kaggle.json ~/.kaggle/\n",
        "!chmod 600 ~/.kaggle/kaggle.json\n",
        "!kaggle -v\n"
      ],
      "execution_count": 2,
      "outputs": [
        {
          "output_type": "stream",
          "text": [
            "Uninstalling kaggle-1.5.9:\n",
            "  Successfully uninstalled kaggle-1.5.9\n",
            "Collecting pip\n",
            "\u001b[?25l  Downloading https://files.pythonhosted.org/packages/cb/28/91f26bd088ce8e22169032100d4260614fc3da435025ff389ef1d396a433/pip-20.2.4-py2.py3-none-any.whl (1.5MB)\n",
            "\u001b[K     |████████████████████████████████| 1.5MB 9.4MB/s \n",
            "\u001b[?25hInstalling collected packages: pip\n",
            "  Found existing installation: pip 19.3.1\n",
            "    Uninstalling pip-19.3.1:\n",
            "      Successfully uninstalled pip-19.3.1\n",
            "Successfully installed pip-20.2.4\n",
            "Collecting kaggle==1.5.6\n",
            "  Downloading kaggle-1.5.6.tar.gz (58 kB)\n",
            "\u001b[K     |████████████████████████████████| 58 kB 4.8 MB/s \n",
            "\u001b[?25hRequirement already satisfied: urllib3<1.25,>=1.21.1 in /usr/local/lib/python3.6/dist-packages (from kaggle==1.5.6) (1.24.3)\n",
            "Requirement already satisfied: six>=1.10 in /usr/local/lib/python3.6/dist-packages (from kaggle==1.5.6) (1.15.0)\n",
            "Requirement already satisfied: certifi in /usr/local/lib/python3.6/dist-packages (from kaggle==1.5.6) (2020.6.20)\n",
            "Requirement already satisfied: python-dateutil in /usr/local/lib/python3.6/dist-packages (from kaggle==1.5.6) (2.8.1)\n",
            "Requirement already satisfied: requests in /usr/local/lib/python3.6/dist-packages (from kaggle==1.5.6) (2.23.0)\n",
            "Requirement already satisfied: tqdm in /usr/local/lib/python3.6/dist-packages (from kaggle==1.5.6) (4.41.1)\n",
            "Requirement already satisfied: python-slugify in /usr/local/lib/python3.6/dist-packages (from kaggle==1.5.6) (4.0.1)\n",
            "Requirement already satisfied: idna<3,>=2.5 in /usr/local/lib/python3.6/dist-packages (from requests->kaggle==1.5.6) (2.10)\n",
            "Requirement already satisfied: chardet<4,>=3.0.2 in /usr/local/lib/python3.6/dist-packages (from requests->kaggle==1.5.6) (3.0.4)\n",
            "Requirement already satisfied: text-unidecode>=1.3 in /usr/local/lib/python3.6/dist-packages (from python-slugify->kaggle==1.5.6) (1.3)\n",
            "Building wheels for collected packages: kaggle\n",
            "  Building wheel for kaggle (setup.py) ... \u001b[?25l\u001b[?25hdone\n",
            "  Created wheel for kaggle: filename=kaggle-1.5.6-py3-none-any.whl size=72859 sha256=5ae56106ebf56cd87a42a78a04bd17890a359646fd7c4a75c0aa8cc9cbef9766\n",
            "  Stored in directory: /root/.cache/pip/wheels/01/3e/ff/77407ebac3ef71a79b9166a8382aecf88415a0bcbe3c095a01\n",
            "Successfully built kaggle\n",
            "Installing collected packages: kaggle\n",
            "Successfully installed kaggle-1.5.6\n",
            "Kaggle API 1.5.6\n"
          ],
          "name": "stdout"
        }
      ]
    },
    {
      "cell_type": "code",
      "metadata": {
        "id": "yw3ysPvoIc7p",
        "outputId": "cfe51264-57c2-409c-d8e9-1609dfb76005",
        "colab": {
          "base_uri": "https://localhost:8080/"
        }
      },
      "source": [
        "!kaggle competitions download -c 2020ml1re\n",
        "!unzip 2020ml1re.zip"
      ],
      "execution_count": 3,
      "outputs": [
        {
          "output_type": "stream",
          "text": [
            "Downloading 2020ml1re.zip to /content\n",
            "\r  0% 0.00/53.2k [00:00<?, ?B/s]\n",
            "\r100% 53.2k/53.2k [00:00<00:00, 44.5MB/s]\n",
            "Archive:  2020ml1re.zip\n",
            "  inflating: sampleSubmission.csv    \n",
            "  inflating: test.csv                \n",
            "  inflating: train.csv               \n"
          ],
          "name": "stdout"
        }
      ]
    },
    {
      "cell_type": "code",
      "metadata": {
        "id": "F5Og7qkyIjvh",
        "outputId": "8339be45-04dd-4ebd-afc4-99e1a9084de2",
        "colab": {
          "base_uri": "https://localhost:8080/"
        }
      },
      "source": [
        "import seaborn as sns\n",
        "import pandas as pd \n",
        "import numpy as np \n",
        "\n",
        "from sklearn.discriminant_analysis import LinearDiscriminantAnalysis\n",
        "from sklearn.preprocessing import LabelBinarizer\n",
        "from sklearn.ensemble import RandomForestClassifier\n",
        "from sklearn.model_selection import train_test_split, GridSearchCV, StratifiedKFold\n",
        "from sklearn.feature_selection import RFE\n",
        "from sklearn.metrics import accuracy_score\n",
        "from sklearn.linear_model import LogisticRegression\n",
        "\n",
        "df_train = pd.read_csv('train.csv')\n",
        "df_test = pd.read_csv('test.csv')\n",
        "\n",
        "print(df_train.shape)\n",
        "print(df_test.shape)\n",
        "\n",
        "pd.options.display.max_columns = None\n",
        "df_train.drop(['Unnamed: 32'], axis=1, inplace=True)\n",
        "df_test.drop(['Unnamed: 32'], axis=1, inplace=True)\n",
        "\n",
        "print(df_train.head()) \n",
        "print(df_test.head()) \n"
      ],
      "execution_count": 11,
      "outputs": [
        {
          "output_type": "stream",
          "text": [
            "(398, 32)\n",
            "(171, 31)\n",
            "   diagnosis  radius_mean  texture_mean  perimeter_mean  area_mean  \\\n",
            "0          0        8.734         16.84           55.27      234.3   \n",
            "1          0       11.360         17.57           72.49      399.8   \n",
            "2          1       14.950         17.57           96.85      678.1   \n",
            "3          1       17.350         23.06          111.00      933.1   \n",
            "4          0       11.060         17.12           71.25      366.5   \n",
            "\n",
            "   smoothness_mean  compactness_mean  concavity_mean  concave points_mean  \\\n",
            "0          0.10390           0.07428         0.00000              0.00000   \n",
            "1          0.08858           0.05313         0.02783              0.02100   \n",
            "2          0.11670           0.13050         0.15390              0.08624   \n",
            "3          0.08662           0.06290         0.02891              0.02837   \n",
            "4          0.11940           0.10710         0.04063              0.04268   \n",
            "\n",
            "   symmetry_mean  fractal_dimension_mean  radius_se  texture_se  perimeter_se  \\\n",
            "0         0.1985                 0.07098     0.5169       2.079         3.167   \n",
            "1         0.1601                 0.05913     0.1916       1.555         1.359   \n",
            "2         0.1957                 0.06216     1.2960       1.452         8.419   \n",
            "3         0.1564                 0.05307     0.4007       1.317         2.577   \n",
            "4         0.1954                 0.07976     0.1779       1.030         1.318   \n",
            "\n",
            "   area_se  smoothness_se  compactness_se  concavity_se  concave points_se  \\\n",
            "0    28.85       0.015820        0.019660       0.00000           0.000000   \n",
            "1    13.66       0.005391        0.009947       0.01163           0.005872   \n",
            "2   101.90       0.010000        0.034800       0.06577           0.028010   \n",
            "3    44.41       0.005726        0.011060       0.01246           0.007671   \n",
            "4    12.30       0.012620        0.023480       0.01800           0.012850   \n",
            "\n",
            "   symmetry_se  fractal_dimension_se  radius_worst  texture_worst  \\\n",
            "0      0.01865              0.006736         10.17          22.80   \n",
            "1      0.01341              0.001659         13.05          36.32   \n",
            "2      0.05168              0.002887         18.55          21.43   \n",
            "3      0.01411              0.001578         19.85          31.47   \n",
            "4      0.02220              0.008313         11.69          20.74   \n",
            "\n",
            "   perimeter_worst  area_worst  smoothness_worst  compactness_worst  \\\n",
            "0            64.01       317.0            0.1460             0.1310   \n",
            "1            85.07       521.3            0.1453             0.1622   \n",
            "2           121.40       971.4            0.1411             0.2164   \n",
            "3           128.20      1218.0            0.1240             0.1486   \n",
            "4            76.08       411.1            0.1662             0.2031   \n",
            "\n",
            "   concavity_worst  concave points_worst  symmetry_worst  \\\n",
            "0           0.0000               0.00000          0.2445   \n",
            "1           0.1811               0.08698          0.2973   \n",
            "2           0.3355               0.16670          0.3414   \n",
            "3           0.1211               0.08235          0.2452   \n",
            "4           0.1256               0.09514          0.2780   \n",
            "\n",
            "   fractal_dimension_worst  \n",
            "0                  0.08865  \n",
            "1                  0.07745  \n",
            "2                  0.07147  \n",
            "3                  0.06515  \n",
            "4                  0.11680  \n",
            "   radius_mean  texture_mean  perimeter_mean  area_mean  smoothness_mean  \\\n",
            "0       11.670         20.02           75.21      416.2          0.10160   \n",
            "1       10.800          9.71           68.77      357.6          0.09594   \n",
            "2       12.450         16.41           82.85      476.7          0.09514   \n",
            "3        9.465         21.01           60.11      269.4          0.10440   \n",
            "4       13.650         13.16           87.88      568.9          0.09646   \n",
            "\n",
            "   compactness_mean  concavity_mean  concave points_mean  symmetry_mean  \\\n",
            "0           0.09453         0.04200              0.02157         0.1859   \n",
            "1           0.05736         0.02531              0.01698         0.1381   \n",
            "2           0.15110         0.15440              0.04846         0.2082   \n",
            "3           0.07773         0.02172              0.01504         0.1717   \n",
            "4           0.08711         0.03888              0.02563         0.1360   \n",
            "\n",
            "   fractal_dimension_mean  radius_se  texture_se  perimeter_se  area_se  \\\n",
            "0                 0.06461     0.2067      0.8745         1.393    15.34   \n",
            "1                 0.06400     0.1728      0.4064         1.126    11.48   \n",
            "2                 0.07325     0.3921      1.2070         5.004    30.19   \n",
            "3                 0.06899     0.2351      2.0110         1.660    14.20   \n",
            "4                 0.06344     0.2102      0.4336         1.391    17.40   \n",
            "\n",
            "   smoothness_se  compactness_se  concavity_se  concave points_se  \\\n",
            "0       0.005251        0.017270       0.01840           0.005298   \n",
            "1       0.007809        0.009816       0.01099           0.005344   \n",
            "2       0.007234        0.074710       0.11140           0.027210   \n",
            "3       0.010520        0.017550       0.01714           0.009333   \n",
            "4       0.004133        0.016950       0.01652           0.006659   \n",
            "\n",
            "   symmetry_se  fractal_dimension_se  radius_worst  texture_worst  \\\n",
            "0      0.01449              0.002671         13.35          28.81   \n",
            "1      0.01254              0.002120         11.60          12.02   \n",
            "2      0.03232              0.009627         13.78          21.03   \n",
            "3      0.02279              0.004237         10.41          31.56   \n",
            "4      0.01371              0.002735         15.34          16.35   \n",
            "\n",
            "   perimeter_worst  area_worst  smoothness_worst  compactness_worst  \\\n",
            "0            87.00       550.6            0.1550             0.2964   \n",
            "1            73.66       414.0            0.1436             0.1257   \n",
            "2            97.82       580.6            0.1175             0.4061   \n",
            "3            67.03       330.7            0.1548             0.1664   \n",
            "4            99.71       706.2            0.1311             0.2474   \n",
            "\n",
            "   concavity_worst  concave points_worst  symmetry_worst  \\\n",
            "0          0.27580               0.08120          0.3206   \n",
            "1          0.10470               0.04603          0.2090   \n",
            "2          0.48960               0.13420          0.3231   \n",
            "3          0.09412               0.06517          0.2878   \n",
            "4          0.17590               0.08056          0.2380   \n",
            "\n",
            "   fractal_dimension_worst  \n",
            "0                  0.08950  \n",
            "1                  0.07699  \n",
            "2                  0.10340  \n",
            "3                  0.09211  \n",
            "4                  0.08718  \n"
          ],
          "name": "stdout"
        }
      ]
    },
    {
      "cell_type": "code",
      "metadata": {
        "id": "AezdARIMJsk6",
        "outputId": "20d7da4a-eeef-43f1-efe1-aa657dc04b24",
        "colab": {
          "base_uri": "https://localhost:8080/"
        }
      },
      "source": [
        "X = df_train.iloc[:,1:]\n",
        "y = df_train.iloc[:,[0]]\n",
        "test_x = df_test.iloc[:,0:]\n",
        "\n",
        "print(X.shape)\n",
        "print(y.shape)\n",
        "print(test_x.shape)\n"
      ],
      "execution_count": 12,
      "outputs": [
        {
          "output_type": "stream",
          "text": [
            "(398, 30)\n",
            "(398, 1)\n",
            "(171, 30)\n"
          ],
          "name": "stdout"
        }
      ]
    },
    {
      "cell_type": "code",
      "metadata": {
        "id": "_wvWGN3w6559"
      },
      "source": [
        "X_train, X_test, y_train, y_test = train_test_split(X,y, random_state=777,stratify=y)"
      ],
      "execution_count": 115,
      "outputs": []
    },
    {
      "cell_type": "code",
      "metadata": {
        "id": "n5gAQ6eR7WaZ",
        "outputId": "a0b38056-8cdb-4ed2-e3e4-b3c6fdfb1c76",
        "colab": {
          "base_uri": "https://localhost:8080/"
        }
      },
      "source": [
        "print('y_train class distribution')\n",
        "print(y_train.value_counts(normalize=True))\n",
        "\n",
        "print('y_test class distribution')\n",
        "print(y_test.value_counts(normalize=True))\n"
      ],
      "execution_count": 116,
      "outputs": [
        {
          "output_type": "stream",
          "text": [
            "y_train class distribution\n",
            "diagnosis\n",
            "0            0.634228\n",
            "1            0.365772\n",
            "dtype: float64\n",
            "y_test class distribution\n",
            "diagnosis\n",
            "0            0.63\n",
            "1            0.37\n",
            "dtype: float64\n"
          ],
          "name": "stdout"
        }
      ]
    },
    {
      "cell_type": "code",
      "metadata": {
        "id": "80USsgnjKvim",
        "outputId": "7828a450-7ab2-4904-cba5-560c4c3b4b6d",
        "colab": {
          "base_uri": "https://localhost:8080/"
        }
      },
      "source": [
        "lda = LinearDiscriminantAnalysis()\n",
        "\n",
        "print(X_train.shape, X_test.shape)\n",
        "lda.fit(X_train, y_train)\n",
        "y_pred = lda.predict(test_x)\n",
        "y_pred"
      ],
      "execution_count": 130,
      "outputs": [
        {
          "output_type": "stream",
          "text": [
            "(298, 30) (100, 30)\n"
          ],
          "name": "stdout"
        },
        {
          "output_type": "stream",
          "text": [
            "/usr/local/lib/python3.6/dist-packages/sklearn/utils/validation.py:760: DataConversionWarning: A column-vector y was passed when a 1d array was expected. Please change the shape of y to (n_samples, ), for example using ravel().\n",
            "  y = column_or_1d(y, warn=True)\n"
          ],
          "name": "stderr"
        },
        {
          "output_type": "execute_result",
          "data": {
            "text/plain": [
              "array([0, 0, 0, 0, 0, 0, 1, 0, 1, 1, 1, 0, 0, 0, 0, 1, 0, 0, 0, 1, 0, 1,\n",
              "       1, 1, 1, 0, 1, 0, 0, 0, 0, 0, 1, 0, 0, 0, 0, 1, 0, 0, 1, 0, 1, 0,\n",
              "       0, 0, 0, 0, 1, 0, 0, 0, 0, 1, 0, 0, 0, 0, 0, 1, 0, 0, 0, 0, 0, 1,\n",
              "       1, 0, 0, 0, 0, 1, 0, 1, 0, 0, 0, 1, 0, 1, 0, 0, 0, 1, 1, 1, 1, 1,\n",
              "       0, 1, 0, 0, 0, 1, 1, 0, 0, 0, 0, 0, 1, 1, 0, 0, 1, 0, 0, 1, 1, 0,\n",
              "       1, 0, 1, 1, 0, 0, 0, 1, 0, 1, 0, 0, 0, 0, 1, 0, 1, 1, 0, 0, 0, 0,\n",
              "       1, 0, 0, 0, 0, 0, 0, 1, 0, 1, 1, 0, 1, 0, 1, 0, 1, 0, 0, 0, 1, 0,\n",
              "       0, 1, 0, 1, 1, 0, 0, 0, 1, 0, 0, 1, 0, 0, 0, 0, 1])"
            ]
          },
          "metadata": {
            "tags": []
          },
          "execution_count": 130
        }
      ]
    },
    {
      "cell_type": "code",
      "metadata": {
        "id": "B5PP64XuL13E",
        "outputId": "b527f00c-a4af-4c64-9915-37fc73fc6ace",
        "colab": {
          "base_uri": "https://localhost:8080/",
          "height": 419
        }
      },
      "source": [
        "submit = pd.read_csv('sampleSubmission.csv')\n",
        "\n",
        "submit"
      ],
      "execution_count": 126,
      "outputs": [
        {
          "output_type": "execute_result",
          "data": {
            "text/html": [
              "<div>\n",
              "<style scoped>\n",
              "    .dataframe tbody tr th:only-of-type {\n",
              "        vertical-align: middle;\n",
              "    }\n",
              "\n",
              "    .dataframe tbody tr th {\n",
              "        vertical-align: top;\n",
              "    }\n",
              "\n",
              "    .dataframe thead th {\n",
              "        text-align: right;\n",
              "    }\n",
              "</style>\n",
              "<table border=\"1\" class=\"dataframe\">\n",
              "  <thead>\n",
              "    <tr style=\"text-align: right;\">\n",
              "      <th></th>\n",
              "      <th>id</th>\n",
              "      <th>diagnosis</th>\n",
              "    </tr>\n",
              "  </thead>\n",
              "  <tbody>\n",
              "    <tr>\n",
              "      <th>0</th>\n",
              "      <td>0</td>\n",
              "      <td>1</td>\n",
              "    </tr>\n",
              "    <tr>\n",
              "      <th>1</th>\n",
              "      <td>1</td>\n",
              "      <td>1</td>\n",
              "    </tr>\n",
              "    <tr>\n",
              "      <th>2</th>\n",
              "      <td>2</td>\n",
              "      <td>1</td>\n",
              "    </tr>\n",
              "    <tr>\n",
              "      <th>3</th>\n",
              "      <td>3</td>\n",
              "      <td>1</td>\n",
              "    </tr>\n",
              "    <tr>\n",
              "      <th>4</th>\n",
              "      <td>4</td>\n",
              "      <td>1</td>\n",
              "    </tr>\n",
              "    <tr>\n",
              "      <th>...</th>\n",
              "      <td>...</td>\n",
              "      <td>...</td>\n",
              "    </tr>\n",
              "    <tr>\n",
              "      <th>166</th>\n",
              "      <td>166</td>\n",
              "      <td>1</td>\n",
              "    </tr>\n",
              "    <tr>\n",
              "      <th>167</th>\n",
              "      <td>167</td>\n",
              "      <td>1</td>\n",
              "    </tr>\n",
              "    <tr>\n",
              "      <th>168</th>\n",
              "      <td>168</td>\n",
              "      <td>1</td>\n",
              "    </tr>\n",
              "    <tr>\n",
              "      <th>169</th>\n",
              "      <td>169</td>\n",
              "      <td>1</td>\n",
              "    </tr>\n",
              "    <tr>\n",
              "      <th>170</th>\n",
              "      <td>170</td>\n",
              "      <td>1</td>\n",
              "    </tr>\n",
              "  </tbody>\n",
              "</table>\n",
              "<p>171 rows × 2 columns</p>\n",
              "</div>"
            ],
            "text/plain": [
              "      id  diagnosis\n",
              "0      0          1\n",
              "1      1          1\n",
              "2      2          1\n",
              "3      3          1\n",
              "4      4          1\n",
              "..   ...        ...\n",
              "166  166          1\n",
              "167  167          1\n",
              "168  168          1\n",
              "169  169          1\n",
              "170  170          1\n",
              "\n",
              "[171 rows x 2 columns]"
            ]
          },
          "metadata": {
            "tags": []
          },
          "execution_count": 126
        }
      ]
    },
    {
      "cell_type": "code",
      "metadata": {
        "id": "BE3_tFEsMJSi",
        "outputId": "d1dc7efa-4951-430e-df0c-4fc17382a29d",
        "colab": {
          "base_uri": "https://localhost:8080/",
          "height": 419
        }
      },
      "source": [
        "for i in range(len(y_pred)):\n",
        "    submit['diagnosis'][i] = y_pred[i].item()\n",
        "\n",
        "submit"
      ],
      "execution_count": 131,
      "outputs": [
        {
          "output_type": "execute_result",
          "data": {
            "text/html": [
              "<div>\n",
              "<style scoped>\n",
              "    .dataframe tbody tr th:only-of-type {\n",
              "        vertical-align: middle;\n",
              "    }\n",
              "\n",
              "    .dataframe tbody tr th {\n",
              "        vertical-align: top;\n",
              "    }\n",
              "\n",
              "    .dataframe thead th {\n",
              "        text-align: right;\n",
              "    }\n",
              "</style>\n",
              "<table border=\"1\" class=\"dataframe\">\n",
              "  <thead>\n",
              "    <tr style=\"text-align: right;\">\n",
              "      <th></th>\n",
              "      <th>id</th>\n",
              "      <th>diagnosis</th>\n",
              "    </tr>\n",
              "  </thead>\n",
              "  <tbody>\n",
              "    <tr>\n",
              "      <th>0</th>\n",
              "      <td>0</td>\n",
              "      <td>0</td>\n",
              "    </tr>\n",
              "    <tr>\n",
              "      <th>1</th>\n",
              "      <td>1</td>\n",
              "      <td>0</td>\n",
              "    </tr>\n",
              "    <tr>\n",
              "      <th>2</th>\n",
              "      <td>2</td>\n",
              "      <td>0</td>\n",
              "    </tr>\n",
              "    <tr>\n",
              "      <th>3</th>\n",
              "      <td>3</td>\n",
              "      <td>0</td>\n",
              "    </tr>\n",
              "    <tr>\n",
              "      <th>4</th>\n",
              "      <td>4</td>\n",
              "      <td>0</td>\n",
              "    </tr>\n",
              "    <tr>\n",
              "      <th>...</th>\n",
              "      <td>...</td>\n",
              "      <td>...</td>\n",
              "    </tr>\n",
              "    <tr>\n",
              "      <th>166</th>\n",
              "      <td>166</td>\n",
              "      <td>0</td>\n",
              "    </tr>\n",
              "    <tr>\n",
              "      <th>167</th>\n",
              "      <td>167</td>\n",
              "      <td>0</td>\n",
              "    </tr>\n",
              "    <tr>\n",
              "      <th>168</th>\n",
              "      <td>168</td>\n",
              "      <td>0</td>\n",
              "    </tr>\n",
              "    <tr>\n",
              "      <th>169</th>\n",
              "      <td>169</td>\n",
              "      <td>0</td>\n",
              "    </tr>\n",
              "    <tr>\n",
              "      <th>170</th>\n",
              "      <td>170</td>\n",
              "      <td>1</td>\n",
              "    </tr>\n",
              "  </tbody>\n",
              "</table>\n",
              "<p>171 rows × 2 columns</p>\n",
              "</div>"
            ],
            "text/plain": [
              "      id  diagnosis\n",
              "0      0          0\n",
              "1      1          0\n",
              "2      2          0\n",
              "3      3          0\n",
              "4      4          0\n",
              "..   ...        ...\n",
              "166  166          0\n",
              "167  167          0\n",
              "168  168          0\n",
              "169  169          0\n",
              "170  170          1\n",
              "\n",
              "[171 rows x 2 columns]"
            ]
          },
          "metadata": {
            "tags": []
          },
          "execution_count": 131
        }
      ]
    },
    {
      "cell_type": "code",
      "metadata": {
        "id": "6e_SsZZlMvB8",
        "outputId": "0ac9cc1e-aaa8-40a4-b527-42083b32371e",
        "colab": {
          "base_uri": "https://localhost:8080/"
        }
      },
      "source": [
        "submit.to_csv('result.csv',mode='w',index=False)\n",
        "!kaggle competitions submit -c 2020ml1re -f result.csv -m \"14010974_이기택\""
      ],
      "execution_count": 132,
      "outputs": [
        {
          "output_type": "stream",
          "text": [
            "Warning: Looks like you're using an outdated API Version, please consider updating (server 1.5.9 / client 1.5.6)\n",
            "100% 929/929 [00:00<00:00, 2.18kB/s]\n",
            "Successfully submitted to 2020.ML.중간고사.문제1.다시풀기"
          ],
          "name": "stdout"
        }
      ]
    }
  ]
}
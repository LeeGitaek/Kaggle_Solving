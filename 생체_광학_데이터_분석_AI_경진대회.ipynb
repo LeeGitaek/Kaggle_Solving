{
  "nbformat": 4,
  "nbformat_minor": 0,
  "metadata": {
    "colab": {
      "name": "생체 광학 데이터 분석 AI 경진대회.ipynb",
      "provenance": [],
      "authorship_tag": "ABX9TyPv+5YvIrFdyFsllwbI72fC",
      "include_colab_link": true
    },
    "kernelspec": {
      "name": "python3",
      "display_name": "Python 3"
    },
    "accelerator": "GPU"
  },
  "cells": [
    {
      "cell_type": "markdown",
      "metadata": {
        "id": "view-in-github",
        "colab_type": "text"
      },
      "source": [
        "<a href=\"https://colab.research.google.com/github/LeeGitaek/Kaggle_Solving/blob/master/%EC%83%9D%EC%B2%B4_%EA%B4%91%ED%95%99_%EB%8D%B0%EC%9D%B4%ED%84%B0_%EB%B6%84%EC%84%9D_AI_%EA%B2%BD%EC%A7%84%EB%8C%80%ED%9A%8C.ipynb\" target=\"_parent\"><img src=\"https://colab.research.google.com/assets/colab-badge.svg\" alt=\"Open In Colab\"/></a>"
      ]
    },
    {
      "cell_type": "code",
      "metadata": {
        "id": "YIaChypUHFYS",
        "colab_type": "code",
        "colab": {
          "base_uri": "https://localhost:8080/",
          "height": 357
        },
        "outputId": "8434263a-98cf-4bea-b532-c2680d8f9072"
      },
      "source": [
        "! nvidia-smi"
      ],
      "execution_count": 1,
      "outputs": [
        {
          "output_type": "stream",
          "text": [
            "Thu Jun 25 15:34:45 2020       \n",
            "+-----------------------------------------------------------------------------+\n",
            "| NVIDIA-SMI 450.36.06    Driver Version: 418.67       CUDA Version: 10.1     |\n",
            "|-------------------------------+----------------------+----------------------+\n",
            "| GPU  Name        Persistence-M| Bus-Id        Disp.A | Volatile Uncorr. ECC |\n",
            "| Fan  Temp  Perf  Pwr:Usage/Cap|         Memory-Usage | GPU-Util  Compute M. |\n",
            "|                               |                      |               MIG M. |\n",
            "|===============================+======================+======================|\n",
            "|   0  Tesla K80           Off  | 00000000:00:04.0 Off |                    0 |\n",
            "| N/A   36C    P8    27W / 149W |      0MiB / 11441MiB |      0%      Default |\n",
            "|                               |                      |                 ERR! |\n",
            "+-------------------------------+----------------------+----------------------+\n",
            "                                                                               \n",
            "+-----------------------------------------------------------------------------+\n",
            "| Processes:                                                                  |\n",
            "|  GPU   GI   CI        PID   Type   Process name                  GPU Memory |\n",
            "|        ID   ID                                                   Usage      |\n",
            "|=============================================================================|\n",
            "|  No running processes found                                                 |\n",
            "+-----------------------------------------------------------------------------+\n"
          ],
          "name": "stdout"
        }
      ]
    },
    {
      "cell_type": "code",
      "metadata": {
        "id": "-7QGK-JmHzWY",
        "colab_type": "code",
        "colab": {}
      },
      "source": [
        "import torch\n",
        "import torch.optim as optim\n",
        "import pandas as pd\n",
        "import numpy as np \n",
        "import torchvision.datasets as data\n",
        "import torchvision.transforms as transforms\n",
        "from torch.utils.data import TensorDataset, DataLoader\n",
        "from sklearn.preprocessing import MinMaxScaler"
      ],
      "execution_count": 197,
      "outputs": []
    },
    {
      "cell_type": "code",
      "metadata": {
        "id": "GgTyyDusIdqa",
        "colab_type": "code",
        "colab": {}
      },
      "source": [
        "device = 'cuda' if torch.cuda.is_available() else 'cpu'\n",
        "\n",
        "torch.manual_seed(777)\n",
        "if device == 'cuda':\n",
        "    torch.cuda.manual_seed_all(777)"
      ],
      "execution_count": 198,
      "outputs": []
    },
    {
      "cell_type": "code",
      "metadata": {
        "id": "gpN5NQk-IvnC",
        "colab_type": "code",
        "colab": {}
      },
      "source": [
        "train_data = pd.read_csv('train.csv')\n",
        "train_data = train_data.fillna(0)\n",
        "train_data.head(20)\n",
        "\n",
        "learning_rate = 0.001\n",
        "training_epochs = 100\n",
        "batch_size = 100\n",
        "drop_prob = 0.5\n",
        "#rho : 측정 거리 (단위: mm)\n",
        "#src : 광원 스펙트럼 (650 nm ~ 990 nm)\n",
        "#dst : 측정 스펙트럼 (650 nm ~ 990 nm)\n",
        "#hhb : 디옥시헤모글로빈 농도\n",
        "#hbo2 : 옥시헤모글로빈 농도\n",
        "#ca : 칼슘 농도\n",
        "#na : 나트륨 농도\n"
      ],
      "execution_count": 215,
      "outputs": []
    },
    {
      "cell_type": "code",
      "metadata": {
        "id": "v54-LnWjJuJG",
        "colab_type": "code",
        "colab": {
          "base_uri": "https://localhost:8080/",
          "height": 493
        },
        "outputId": "bfbaeb64-5e8e-4dc9-d866-236ed03cc219"
      },
      "source": [
        "x_data = train_data.iloc[: , 1:-4]\n",
        "y_data = train_data.iloc[:,72:]\n",
        "print(x_data)\n",
        "print(y_data)\n",
        "\n",
        "x_data = np.array(x_data)\n",
        "y_data = np.array(y_data)\n",
        "scaler = MinMaxScaler()\n",
        "x_data = scaler.fit_transform(x_data)\n",
        "\n",
        "x_train = torch.FloatTensor(x_data)\n",
        "y_train = torch.FloatTensor(y_data)"
      ],
      "execution_count": 216,
      "outputs": [
        {
          "output_type": "stream",
          "text": [
            "      rho  650_src  660_src  ...       970_dst       980_dst       990_dst\n",
            "0      25  0.37950  0.42993  ...  1.067504e-18  5.998949e-18  4.378513e-17\n",
            "1      10  0.00000  0.00000  ...  0.000000e+00  9.710091e-09  0.000000e+00\n",
            "2      25  0.00000  0.03289  ...  0.000000e+00  1.329725e-18  0.000000e+00\n",
            "3      10  0.27503  0.31281  ...  0.000000e+00  4.088921e-10  0.000000e+00\n",
            "4      15  1.01521  1.00872  ...  1.330237e-13  0.000000e+00  0.000000e+00\n",
            "...   ...      ...      ...  ...           ...           ...           ...\n",
            "9995   15  0.23929  0.30265  ...  9.690979e-16  1.391635e-15  5.460702e-14\n",
            "9996   20  0.02583  0.00946  ...  0.000000e+00  5.825347e-16  4.226436e-15\n",
            "9997   10  0.57589  0.62976  ...  0.000000e+00  1.504115e-10  4.003657e-10\n",
            "9998   15  1.01477  1.01504  ...  0.000000e+00  2.818857e-12  1.408742e-11\n",
            "9999   10  0.24452  0.28182  ...  1.219509e-11  3.259396e-12  3.830300e-11\n",
            "\n",
            "[10000 rows x 71 columns]\n",
            "        hhb  hbo2     ca    na\n",
            "0      5.59  4.32   8.92  4.29\n",
            "1      0.00  2.83   7.25  4.64\n",
            "2     10.64  3.00   8.40  5.16\n",
            "3      5.67  4.01   5.05  4.35\n",
            "4     11.97  4.41  10.78  2.42\n",
            "...     ...   ...    ...   ...\n",
            "9995  12.68  4.11  12.31  0.10\n",
            "9996   8.46  4.11  10.46  3.12\n",
            "9997   9.84  3.20  10.45  2.06\n",
            "9998   6.38  4.06  11.28  4.03\n",
            "9999   9.35  4.34   9.73  3.54\n",
            "\n",
            "[10000 rows x 4 columns]\n"
          ],
          "name": "stdout"
        }
      ]
    },
    {
      "cell_type": "code",
      "metadata": {
        "id": "8Xge8MYpPOos",
        "colab_type": "code",
        "colab": {}
      },
      "source": [
        "train_dataset = TensorDataset(x_train, y_train)\n",
        "data_loader = torch.utils.data.DataLoader(dataset = train_dataset,\n",
        "                                          batch_size = batch_size,\n",
        "                                          shuffle=True,\n",
        "                                          drop_last=True)\n"
      ],
      "execution_count": 217,
      "outputs": []
    },
    {
      "cell_type": "code",
      "metadata": {
        "id": "GYWAIAFaSlEc",
        "colab_type": "code",
        "colab": {}
      },
      "source": [
        "linear1 = torch.nn.Linear(71, 256, bias=True)\n",
        "linear2 = torch.nn.Linear(256, 256, bias=True)\n",
        "linear3 = torch.nn.Linear(256, 256, bias=True)\n",
        "linear4 = torch.nn.Linear(256, 512, bias=True)\n",
        "linear5 = torch.nn.Linear(512, 1024, bias=True)\n",
        "linear6 = torch.nn.Linear(1024, 1024, bias=True)\n",
        "linear7 = torch.nn.Linear(1024, 512, bias=True)\n",
        "linear8 = torch.nn.Linear(512, 512, bias=True)\n",
        "linear9 = torch.nn.Linear(512, 256, bias=True)\n",
        "linear10 = torch.nn.Linear(256, 256, bias=True)\n",
        "linear11 = torch.nn.Linear(256, 128, bias=True)\n",
        "linear12 = torch.nn.Linear(128, 128, bias=True)\n",
        "linear13 = torch.nn.Linear(128, 4, bias=True)\n",
        "dropout = torch.nn.Dropout(p=drop_prob)\n",
        "relu = torch.nn.ReLU()\n"
      ],
      "execution_count": 218,
      "outputs": []
    },
    {
      "cell_type": "code",
      "metadata": {
        "id": "hrDEdEXGT-b2",
        "colab_type": "code",
        "colab": {}
      },
      "source": [
        "torch.nn.init.xavier_normal_(linear1.weight)\n",
        "torch.nn.init.xavier_normal_(linear2.weight)\n",
        "torch.nn.init.xavier_uniform_(linear3.weight)\n",
        "torch.nn.init.xavier_normal_(linear4.weight)\n",
        "torch.nn.init.xavier_uniform_(linear5.weight)\n",
        "torch.nn.init.xavier_normal_(linear6.weight)\n",
        "torch.nn.init.xavier_normal_(linear7.weight)\n",
        "torch.nn.init.xavier_normal_(linear8.weight)\n",
        "torch.nn.init.xavier_uniform_(linear9.weight)\n",
        "torch.nn.init.xavier_normal_(linear10.weight)\n",
        "torch.nn.init.xavier_uniform_(linear11.weight)\n",
        "torch.nn.init.xavier_normal_(linear12.weight)\n",
        "torch.nn.init.xavier_normal_(linear13.weight)\n",
        "\n",
        "model = torch.nn.Sequential(linear1,relu,dropout,\n",
        "                            linear2,relu,dropout,\n",
        "                            linear3,relu,dropout,\n",
        "                            linear4,relu,dropout,\n",
        "                            linear5,relu,dropout,\n",
        "                            linear6,relu,dropout,\n",
        "                            linear7,relu,dropout,\n",
        "                            linear8,relu,dropout,\n",
        "                            linear9,relu,dropout,\n",
        "                            linear10,relu,dropout,\n",
        "                            linear11,relu,dropout,\n",
        "                            linear12,relu,dropout,\n",
        "                            linear13\n",
        "                            ).to(device)"
      ],
      "execution_count": 219,
      "outputs": []
    },
    {
      "cell_type": "code",
      "metadata": {
        "id": "8P8JRZFLU3VA",
        "colab_type": "code",
        "colab": {
          "base_uri": "https://localhost:8080/",
          "height": 1000
        },
        "outputId": "29f97000-ddf6-45b8-8480-527fc37062aa"
      },
      "source": [
        "loss = torch.nn.MSELoss().to(device)\n",
        "optimizer = torch.optim.Adam(model.parameters(),lr=learning_rate)\n",
        "\n",
        "losses = []\n",
        "model_history = []\n",
        "err_history = []\n",
        "total_batch = len(data_loader)\n",
        "\n",
        "for epoch in range(training_epochs+1):\n",
        "    avg_cost = 0\n",
        "    for X,Y in data_loader:\n",
        "      X = X.to(device)\n",
        "      Y = Y.to(device)\n",
        "\n",
        "      optimizer.zero_grad()\n",
        "      hypothesis = model(X)\n",
        "      cost = loss(hypothesis,Y)\n",
        "      cost.backward()\n",
        "      optimizer.step()\n",
        "      avg_cost += cost / total_batch\n",
        "    \n",
        "    model_history.append(model)\n",
        "    err_history.append(avg_cost)\n",
        "\n",
        "    if epoch % 1 == 0:  \n",
        "      print('Epoch:', '%d' % (epoch + 1), 'Cost =', '{:.9f}'.format(avg_cost))\n",
        "    losses.append(cost.item())\n",
        "print('Learning finished')"
      ],
      "execution_count": 220,
      "outputs": [
        {
          "output_type": "stream",
          "text": [
            "Epoch: 1 Cost = 13.483530998\n",
            "Epoch: 2 Cost = 8.461858749\n",
            "Epoch: 3 Cost = 7.475688457\n",
            "Epoch: 4 Cost = 6.992487907\n",
            "Epoch: 5 Cost = 6.864223480\n",
            "Epoch: 6 Cost = 6.658472061\n",
            "Epoch: 7 Cost = 6.514311314\n",
            "Epoch: 8 Cost = 6.435469151\n",
            "Epoch: 9 Cost = 6.382607937\n",
            "Epoch: 10 Cost = 6.290222645\n",
            "Epoch: 11 Cost = 6.284305096\n",
            "Epoch: 12 Cost = 6.236523151\n",
            "Epoch: 13 Cost = 6.210156441\n",
            "Epoch: 14 Cost = 6.186075687\n",
            "Epoch: 15 Cost = 6.109236717\n",
            "Epoch: 16 Cost = 6.111011982\n",
            "Epoch: 17 Cost = 6.101627827\n",
            "Epoch: 18 Cost = 6.124692440\n",
            "Epoch: 19 Cost = 6.124307632\n",
            "Epoch: 20 Cost = 6.066931725\n",
            "Epoch: 21 Cost = 6.022045135\n",
            "Epoch: 22 Cost = 6.043918133\n",
            "Epoch: 23 Cost = 6.038253307\n",
            "Epoch: 24 Cost = 6.035329819\n",
            "Epoch: 25 Cost = 6.036202431\n",
            "Epoch: 26 Cost = 5.998600483\n",
            "Epoch: 27 Cost = 6.001552105\n",
            "Epoch: 28 Cost = 6.002033234\n",
            "Epoch: 29 Cost = 5.993448734\n",
            "Epoch: 30 Cost = 5.977298737\n",
            "Epoch: 31 Cost = 5.983702183\n",
            "Epoch: 32 Cost = 5.952881813\n",
            "Epoch: 33 Cost = 5.961686134\n",
            "Epoch: 34 Cost = 5.957734585\n",
            "Epoch: 35 Cost = 5.930886745\n",
            "Epoch: 36 Cost = 5.962243557\n",
            "Epoch: 37 Cost = 5.937583447\n",
            "Epoch: 38 Cost = 5.947103977\n",
            "Epoch: 39 Cost = 5.929039478\n",
            "Epoch: 40 Cost = 5.912830830\n",
            "Epoch: 41 Cost = 5.926592350\n",
            "Epoch: 42 Cost = 5.925545692\n",
            "Epoch: 43 Cost = 5.973051548\n",
            "Epoch: 44 Cost = 5.916793346\n",
            "Epoch: 45 Cost = 5.926893234\n",
            "Epoch: 46 Cost = 5.925632954\n",
            "Epoch: 47 Cost = 5.929896832\n",
            "Epoch: 48 Cost = 5.933010101\n",
            "Epoch: 49 Cost = 5.876302719\n",
            "Epoch: 50 Cost = 5.895672321\n",
            "Epoch: 51 Cost = 5.909884930\n",
            "Epoch: 52 Cost = 5.873678207\n",
            "Epoch: 53 Cost = 5.863818169\n",
            "Epoch: 54 Cost = 5.904202938\n",
            "Epoch: 55 Cost = 5.891334534\n",
            "Epoch: 56 Cost = 5.874743938\n",
            "Epoch: 57 Cost = 5.885585785\n",
            "Epoch: 58 Cost = 5.883736610\n",
            "Epoch: 59 Cost = 5.848846436\n",
            "Epoch: 60 Cost = 5.871410847\n",
            "Epoch: 61 Cost = 5.854462147\n",
            "Epoch: 62 Cost = 5.891809940\n",
            "Epoch: 63 Cost = 5.871606827\n",
            "Epoch: 64 Cost = 5.882349491\n",
            "Epoch: 65 Cost = 5.844282150\n",
            "Epoch: 66 Cost = 5.870141983\n",
            "Epoch: 67 Cost = 5.848962307\n",
            "Epoch: 68 Cost = 5.832603455\n",
            "Epoch: 69 Cost = 5.853817940\n",
            "Epoch: 70 Cost = 5.873896122\n",
            "Epoch: 71 Cost = 5.878819466\n",
            "Epoch: 72 Cost = 5.841548443\n",
            "Epoch: 73 Cost = 5.843440533\n",
            "Epoch: 74 Cost = 5.832879066\n",
            "Epoch: 75 Cost = 5.837843895\n",
            "Epoch: 76 Cost = 5.836677551\n",
            "Epoch: 77 Cost = 5.807934284\n",
            "Epoch: 78 Cost = 5.833498001\n",
            "Epoch: 79 Cost = 5.822706223\n",
            "Epoch: 80 Cost = 5.819717884\n",
            "Epoch: 81 Cost = 5.834218025\n",
            "Epoch: 82 Cost = 5.791121483\n",
            "Epoch: 83 Cost = 5.809927940\n",
            "Epoch: 84 Cost = 5.817221165\n",
            "Epoch: 85 Cost = 5.816925049\n",
            "Epoch: 86 Cost = 5.807412624\n",
            "Epoch: 87 Cost = 5.817014217\n",
            "Epoch: 88 Cost = 5.820184708\n",
            "Epoch: 89 Cost = 5.777938366\n",
            "Epoch: 90 Cost = 5.796932697\n",
            "Epoch: 91 Cost = 5.790823460\n",
            "Epoch: 92 Cost = 5.793701172\n",
            "Epoch: 93 Cost = 5.785697460\n",
            "Epoch: 94 Cost = 5.787768364\n",
            "Epoch: 95 Cost = 5.768146992\n",
            "Epoch: 96 Cost = 5.792313576\n",
            "Epoch: 97 Cost = 5.802424431\n",
            "Epoch: 98 Cost = 5.777959824\n",
            "Epoch: 99 Cost = 5.775445461\n",
            "Epoch: 100 Cost = 5.769515514\n",
            "Epoch: 101 Cost = 5.787268639\n",
            "Learning finished\n"
          ],
          "name": "stdout"
        }
      ]
    },
    {
      "cell_type": "code",
      "metadata": {
        "id": "PnKHW375budC",
        "colab_type": "code",
        "colab": {}
      },
      "source": [
        "best_model = model_history[np.argmin(err_history)]"
      ],
      "execution_count": 221,
      "outputs": []
    },
    {
      "cell_type": "code",
      "metadata": {
        "id": "_KlaFTS4by9x",
        "colab_type": "code",
        "colab": {}
      },
      "source": [
        "xy_test = pd.read_csv('test.csv')\n",
        "x_test = xy_test.iloc[:, 1:72]\n",
        "x_test = x_test.fillna(0)\n",
        "x_test = np.array(x_test)\n",
        "x_test = scaler.transform(x_test)\n",
        "x_test = torch.FloatTensor(x_test).to(device)\n",
        "\n",
        "x_test[:3]\n",
        "\n",
        "with torch.no_grad():\n",
        "    model.eval()\n",
        "    x_test=np.array(x_test.cpu())\n",
        "    x_test=torch.from_numpy(x_test).float().to(device)\n",
        "    predict=model(x_test)"
      ],
      "execution_count": 222,
      "outputs": []
    },
    {
      "cell_type": "code",
      "metadata": {
        "id": "-dTgZVoCdNjy",
        "colab_type": "code",
        "colab": {
          "base_uri": "https://localhost:8080/",
          "height": 136
        },
        "outputId": "018a6438-d9d1-4fb6-cdf2-e01f3243c09d"
      },
      "source": [
        "predict"
      ],
      "execution_count": 223,
      "outputs": [
        {
          "output_type": "execute_result",
          "data": {
            "text/plain": [
              "tensor([[7.9922, 3.9206, 8.9309, 2.9754],\n",
              "        [7.9922, 3.9206, 8.9309, 2.9754],\n",
              "        [7.9922, 3.9206, 8.9309, 2.9754],\n",
              "        ...,\n",
              "        [7.9922, 3.9206, 8.9309, 2.9754],\n",
              "        [7.9922, 3.9206, 8.9309, 2.9754],\n",
              "        [7.9922, 3.9206, 8.9309, 2.9754]], device='cuda:0')"
            ]
          },
          "metadata": {
            "tags": []
          },
          "execution_count": 223
        }
      ]
    },
    {
      "cell_type": "code",
      "metadata": {
        "id": "nSufG-8ZcCU6",
        "colab_type": "code",
        "colab": {
          "base_uri": "https://localhost:8080/",
          "height": 759
        },
        "outputId": "8cf86ce9-a453-4d2c-e061-e80fb56438ab"
      },
      "source": [
        "submit = pd.read_csv('sample_submission.csv')\n",
        "submit['hhb'] = submit['hhb'].astype(float)\n",
        "submit['hbo2'] = submit['hbo2'].astype(float)\n",
        "submit['ca'] = submit['ca'].astype(float)\n",
        "submit['na'] = submit['na'].astype(float)\n",
        "for i in range(len(predict)):\n",
        "  submit['hhb'][i] = predict[i][0]\n",
        "  submit['hbo2'][i] = predict[i][1]\n",
        "  submit['ca'][i] = predict[i][2]\n",
        "  submit['na'][i] = predict[i][3]\n",
        "\n",
        "submit.to_csv('submit.csv', mode = 'w', index = False, header = True)\n",
        "submit"
      ],
      "execution_count": 224,
      "outputs": [
        {
          "output_type": "stream",
          "text": [
            "/usr/local/lib/python3.6/dist-packages/ipykernel_launcher.py:7: SettingWithCopyWarning: \n",
            "A value is trying to be set on a copy of a slice from a DataFrame\n",
            "\n",
            "See the caveats in the documentation: https://pandas.pydata.org/pandas-docs/stable/user_guide/indexing.html#returning-a-view-versus-a-copy\n",
            "  import sys\n",
            "/usr/local/lib/python3.6/dist-packages/ipykernel_launcher.py:8: SettingWithCopyWarning: \n",
            "A value is trying to be set on a copy of a slice from a DataFrame\n",
            "\n",
            "See the caveats in the documentation: https://pandas.pydata.org/pandas-docs/stable/user_guide/indexing.html#returning-a-view-versus-a-copy\n",
            "  \n",
            "/usr/local/lib/python3.6/dist-packages/ipykernel_launcher.py:9: SettingWithCopyWarning: \n",
            "A value is trying to be set on a copy of a slice from a DataFrame\n",
            "\n",
            "See the caveats in the documentation: https://pandas.pydata.org/pandas-docs/stable/user_guide/indexing.html#returning-a-view-versus-a-copy\n",
            "  if __name__ == '__main__':\n",
            "/usr/local/lib/python3.6/dist-packages/ipykernel_launcher.py:10: SettingWithCopyWarning: \n",
            "A value is trying to be set on a copy of a slice from a DataFrame\n",
            "\n",
            "See the caveats in the documentation: https://pandas.pydata.org/pandas-docs/stable/user_guide/indexing.html#returning-a-view-versus-a-copy\n",
            "  # Remove the CWD from sys.path while we load stuff.\n"
          ],
          "name": "stderr"
        },
        {
          "output_type": "execute_result",
          "data": {
            "text/html": [
              "<div>\n",
              "<style scoped>\n",
              "    .dataframe tbody tr th:only-of-type {\n",
              "        vertical-align: middle;\n",
              "    }\n",
              "\n",
              "    .dataframe tbody tr th {\n",
              "        vertical-align: top;\n",
              "    }\n",
              "\n",
              "    .dataframe thead th {\n",
              "        text-align: right;\n",
              "    }\n",
              "</style>\n",
              "<table border=\"1\" class=\"dataframe\">\n",
              "  <thead>\n",
              "    <tr style=\"text-align: right;\">\n",
              "      <th></th>\n",
              "      <th>id</th>\n",
              "      <th>hhb</th>\n",
              "      <th>hbo2</th>\n",
              "      <th>ca</th>\n",
              "      <th>na</th>\n",
              "    </tr>\n",
              "  </thead>\n",
              "  <tbody>\n",
              "    <tr>\n",
              "      <th>0</th>\n",
              "      <td>10000</td>\n",
              "      <td>7.992213</td>\n",
              "      <td>3.920603</td>\n",
              "      <td>8.930861</td>\n",
              "      <td>2.975384</td>\n",
              "    </tr>\n",
              "    <tr>\n",
              "      <th>1</th>\n",
              "      <td>10001</td>\n",
              "      <td>7.992213</td>\n",
              "      <td>3.920603</td>\n",
              "      <td>8.930861</td>\n",
              "      <td>2.975384</td>\n",
              "    </tr>\n",
              "    <tr>\n",
              "      <th>2</th>\n",
              "      <td>10002</td>\n",
              "      <td>7.992213</td>\n",
              "      <td>3.920603</td>\n",
              "      <td>8.930861</td>\n",
              "      <td>2.975384</td>\n",
              "    </tr>\n",
              "    <tr>\n",
              "      <th>3</th>\n",
              "      <td>10003</td>\n",
              "      <td>7.992213</td>\n",
              "      <td>3.920603</td>\n",
              "      <td>8.930861</td>\n",
              "      <td>2.975384</td>\n",
              "    </tr>\n",
              "    <tr>\n",
              "      <th>4</th>\n",
              "      <td>10004</td>\n",
              "      <td>7.992213</td>\n",
              "      <td>3.920603</td>\n",
              "      <td>8.930861</td>\n",
              "      <td>2.975384</td>\n",
              "    </tr>\n",
              "    <tr>\n",
              "      <th>...</th>\n",
              "      <td>...</td>\n",
              "      <td>...</td>\n",
              "      <td>...</td>\n",
              "      <td>...</td>\n",
              "      <td>...</td>\n",
              "    </tr>\n",
              "    <tr>\n",
              "      <th>9995</th>\n",
              "      <td>19995</td>\n",
              "      <td>7.992213</td>\n",
              "      <td>3.920603</td>\n",
              "      <td>8.930861</td>\n",
              "      <td>2.975384</td>\n",
              "    </tr>\n",
              "    <tr>\n",
              "      <th>9996</th>\n",
              "      <td>19996</td>\n",
              "      <td>7.992213</td>\n",
              "      <td>3.920603</td>\n",
              "      <td>8.930861</td>\n",
              "      <td>2.975384</td>\n",
              "    </tr>\n",
              "    <tr>\n",
              "      <th>9997</th>\n",
              "      <td>19997</td>\n",
              "      <td>7.992213</td>\n",
              "      <td>3.920603</td>\n",
              "      <td>8.930861</td>\n",
              "      <td>2.975384</td>\n",
              "    </tr>\n",
              "    <tr>\n",
              "      <th>9998</th>\n",
              "      <td>19998</td>\n",
              "      <td>7.992213</td>\n",
              "      <td>3.920603</td>\n",
              "      <td>8.930861</td>\n",
              "      <td>2.975384</td>\n",
              "    </tr>\n",
              "    <tr>\n",
              "      <th>9999</th>\n",
              "      <td>19999</td>\n",
              "      <td>7.992213</td>\n",
              "      <td>3.920603</td>\n",
              "      <td>8.930861</td>\n",
              "      <td>2.975384</td>\n",
              "    </tr>\n",
              "  </tbody>\n",
              "</table>\n",
              "<p>10000 rows × 5 columns</p>\n",
              "</div>"
            ],
            "text/plain": [
              "         id       hhb      hbo2        ca        na\n",
              "0     10000  7.992213  3.920603  8.930861  2.975384\n",
              "1     10001  7.992213  3.920603  8.930861  2.975384\n",
              "2     10002  7.992213  3.920603  8.930861  2.975384\n",
              "3     10003  7.992213  3.920603  8.930861  2.975384\n",
              "4     10004  7.992213  3.920603  8.930861  2.975384\n",
              "...     ...       ...       ...       ...       ...\n",
              "9995  19995  7.992213  3.920603  8.930861  2.975384\n",
              "9996  19996  7.992213  3.920603  8.930861  2.975384\n",
              "9997  19997  7.992213  3.920603  8.930861  2.975384\n",
              "9998  19998  7.992213  3.920603  8.930861  2.975384\n",
              "9999  19999  7.992213  3.920603  8.930861  2.975384\n",
              "\n",
              "[10000 rows x 5 columns]"
            ]
          },
          "metadata": {
            "tags": []
          },
          "execution_count": 224
        }
      ]
    }
  ]
}